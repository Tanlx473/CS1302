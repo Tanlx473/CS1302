{
 "cells": [
  {
   "cell_type": "markdown",
   "id": "31431762-0dd1-49e9-85f8-5185efe3e5af",
   "metadata": {},
   "source": [
    "Excercise 2"
   ]
  },
  {
   "cell_type": "code",
   "execution_count": 4,
   "id": "c7e2f99b-ac52-4c63-b8bf-b531cd245f03",
   "metadata": {},
   "outputs": [
    {
     "data": {
      "text/plain": [
       "True"
      ]
     },
     "execution_count": 4,
     "metadata": {},
     "output_type": "execute_result"
    }
   ],
   "source": [
    "def valid_code(colors, code_length, guess):\n",
    "    # YOUR CODE HERE\n",
    "    return len(guess) == code_length and not set(guess) - set(colors)\n",
    "\n",
    "valid_code(\"RBG\", 0, \"\")"
   ]
  },
  {
   "cell_type": "code",
   "execution_count": 9,
   "id": "81c0f1bc-4d6d-4232-ab9d-4442d2e44c47",
   "metadata": {},
   "outputs": [],
   "source": [
    "def get_feedback(code, guess):\n",
    "    # Initialize the feedback variables\n",
    "    black_pegs = 0\n",
    "    white_pegs = 0\n",
    "    \n",
    "    # Create lists to keep track of unmatched colors\n",
    "    code_unmatched = []\n",
    "    guess_unmatched = []\n",
    "    \n",
    "    # First, count black pegs (correct color and position)\n",
    "    for c, g in zip(code, guess):\n",
    "        if c == g:\n",
    "            black_pegs += 1\n",
    "        else:\n",
    "            code_unmatched.append(c)\n",
    "            guess_unmatched.append(g)\n",
    "    \n",
    "    # Now, count white pegs (correct color, wrong position)\n",
    "    for g in guess_unmatched:\n",
    "        if g in code_unmatched:\n",
    "            white_pegs += 1\n",
    "            code_unmatched.remove(g)  # Remove to avoid duplicate counting\n",
    "    \n",
    "    # Return the feedback string: 'b' for black pegs and 'w' for white pegs\n",
    "    return 'b' * black_pegs + 'w' * white_pegs"
   ]
  },
  {
   "cell_type": "code",
   "execution_count": 10,
   "id": "7b87dee1-b07a-4a2f-888a-53e20b57cd67",
   "metadata": {},
   "outputs": [],
   "source": [
    "# tests\n",
    "def test_get_feedback(feedback, code, guess):\n",
    "    feedback_ = get_feedback(code, guess)\n",
    "    correct = feedback == feedback_\n",
    "    if not correct:\n",
    "        print(\n",
    "            f'With code=\"{code}\" and guess=\"{guess}\", feedback should be \"{feedback}\", not \"{feedback_}\".'\n",
    "        )\n",
    "    assert correct\n",
    "\n",
    "\n",
    "test_get_feedback(10 * \"b\" + \"w\" * 0, \"RGBRGBRGBY\", \"RGBRGBRGBY\")\n",
    "test_get_feedback(0 * \"b\" + \"w\" * 10, \"RGBRGBRGBY\", \"YRGBRGBRGB\")\n",
    "test_get_feedback(8 * \"b\" + \"w\" * 0, \"RGRGRGRG\", \"RGRGRGRG\")\n",
    "test_get_feedback(0 * \"b\" + \"w\" * 8, \"RGRGRGRG\", \"GRGRGRGR\")\n",
    "test_get_feedback(0 * \"b\" + \"w\" * 6, \"RRRRGGG\", \"GGGGRRR\")\n",
    "test_get_feedback(1 * \"b\" + \"w\" * 6, \"RRRRGGG\", \"GGGRRRR\")\n",
    "test_get_feedback(5 * \"b\" + \"w\" * 2, \"RRRRGGG\", \"RRRGGGR\")\n",
    "test_get_feedback(1 * \"b\" + \"w\" * 0, \"RRRRGGG\", \"RYYPPBB\")\n",
    "test_get_feedback(0 * \"b\" + \"w\" * 1, \"RRRRG\", \"GBBBB\")\n",
    "test_get_feedback(0 * \"b\" + \"w\" * 0, \"RRRRG\", \"YBBBB\")"
   ]
  },
  {
   "cell_type": "code",
   "execution_count": null,
   "id": "576ddc47-64fc-4337-a153-65a86885ffed",
   "metadata": {},
   "outputs": [],
   "source": []
  }
 ],
 "metadata": {
  "kernelspec": {
   "display_name": "Python 3 (ipykernel)",
   "language": "python",
   "name": "python3"
  },
  "language_info": {
   "codemirror_mode": {
    "name": "ipython",
    "version": 3
   },
   "file_extension": ".py",
   "mimetype": "text/x-python",
   "name": "python",
   "nbconvert_exporter": "python",
   "pygments_lexer": "ipython3",
   "version": "3.12.2"
  }
 },
 "nbformat": 4,
 "nbformat_minor": 5
}
