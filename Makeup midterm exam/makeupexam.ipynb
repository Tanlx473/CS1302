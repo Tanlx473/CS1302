{
 "cells": [
  {
   "cell_type": "markdown",
   "id": "f1925f00-ac6d-4c12-9e3d-d49debfbd127",
   "metadata": {
    "editable": true,
    "slideshow": {
     "slide_type": ""
    },
    "tags": []
   },
   "source": [
    "### CS1302 makeup exam (coding part, total mark: 25)"
   ]
  },
  {
   "cell_type": "markdown",
   "id": "ce8b86c9-2f6b-4661-aeec-29ed2dce2e03",
   "metadata": {
    "editable": false,
    "slideshow": {
     "slide_type": ""
    },
    "tags": []
   },
   "source": [
    "**Please provide your best solution for each programming question below. Before the end of the exam, you need to upload it to Canvas-->CS1302-->Midterm Exam.**\n",
    "\n",
    "**Note:**\n",
    "\n",
    "**- Be careful about your output, even if there is a tiny error (for example, your output misses a comma or space), your code will not pass the test. If your code and/or logic are partially correct, you can still get a portion of the scores.**\n",
    "\n",
    "**- Do not modify anything in this notebook except typing your code in the answer area. Otherwise, you will get a 0 mark for the questions modified. If you want to do more tests, copy your code to another notebook.**\n",
    "\n",
    "**- Delete `pass` before you write your code and make sure you save and submit the correct version of your file. Wrong or corrupted files will result in 0 mark.**"
   ]
  },
  {
   "cell_type": "markdown",
   "id": "00eee0ed-b419-4098-ac79-0c923a2b0d55",
   "metadata": {
    "editable": false,
    "slideshow": {
     "slide_type": ""
    },
    "tags": []
   },
   "source": [
    "### Question 1 （4 marks）:\n",
    "\n",
    "Write a function `print_pyramid(n)` to print the following alphabet pyramid.\n",
    "\n",
    "For example, `print_pyramid(3)` will get \n",
    "\n",
    "```\n",
    "  A\n",
    " ABA\n",
    "ABCBA\n",
    "```\n",
    "\n",
    "`print_pyramid(5)` will get\n",
    "```\n",
    "    A\n",
    "   ABA\n",
    "  ABCBA\n",
    " ABCDCBA\n",
    "ABCDEDCBA\n",
    "```"
   ]
  },
  {
   "cell_type": "code",
   "execution_count": 22,
   "id": "2fc2ea47-4495-4705-b971-1605b3ee4fc4",
   "metadata": {},
   "outputs": [
    {
     "name": "stdout",
     "output_type": "stream",
     "text": [
      "absA\n"
     ]
    }
   ],
   "source": [
    "r = 'abs'\n",
    "r = r + chr(65)\n",
    "print(r)"
   ]
  },
  {
   "cell_type": "code",
   "execution_count": 23,
   "id": "3df22ccf-e0cc-484a-a812-1e61a9dc3d93",
   "metadata": {
    "editable": true,
    "slideshow": {
     "slide_type": ""
    },
    "tags": []
   },
   "outputs": [
    {
     "name": "stdout",
     "output_type": "stream",
     "text": [
      "test 1:\n",
      "  A\n",
      " ABA\n",
      "ABCBA\n",
      "\n",
      "test 2:\n",
      "    A\n",
      "   ABA\n",
      "  ABCBA\n",
      " ABCDCBA\n",
      "ABCDEDCBA\n",
      "\n"
     ]
    }
   ],
   "source": [
    "#complete the template below\n",
    "def print_pyramid(n):\n",
    "    #write your code here\n",
    "    r = ''\n",
    "    for i in range(0, n):\n",
    "        uni = 65\n",
    "        c = 0\n",
    "        for j in range(0, 2 * n + 1):\n",
    "            if j in range(n - i -1 ,n):\n",
    "                r += chr(uni + c)\n",
    "                c += 1\n",
    "            elif j in range(n, n + i):\n",
    "                r += chr(uni+c-2)\n",
    "                c -= 1\n",
    "            else: \n",
    "                r += \" \"\n",
    "        r = r.rstrip() + \"\\n\"\n",
    "    return r\n",
    "\n",
    "#To avoid confusion, there is no testing cell for this question, please run the following code to check whether your solution is correct\n",
    "print(\"test 1:\")\n",
    "print(print_pyramid(3))\n",
    "\n",
    "print(\"test 2:\")\n",
    "print(print_pyramid(5))"
   ]
  },
  {
   "cell_type": "markdown",
   "id": "a452a558-e008-40aa-b07a-ff44bbf0b3a8",
   "metadata": {
    "editable": false,
    "slideshow": {
     "slide_type": ""
    },
    "tags": []
   },
   "source": [
    "### Question 2 （6 marks）:\n",
    "\n",
    "Write a function `print_spiral(n)` to print a n×n number spiral matrix:\n",
    "\n",
    "For example: `print_spiral(3)` will get \n",
    "```\n",
    "1  2  3 \n",
    "8  9  4 \n",
    "7  6  5 \n",
    "```\n",
    "\n",
    "`print_spiral(8)` will get \n",
    "\n",
    "```\n",
    " 1  2  3  4  5  6  7  8 \n",
    "28 29 30 31 32 33 34  9 \n",
    "27 48 49 50 51 52 35 10 \n",
    "26 47 60 61 62 53 36 11 \n",
    "25 46 59 64 63 54 37 12 \n",
    "24 45 58 57 56 55 38 13 \n",
    "23 44 43 42 41 40 39 14 \n",
    "22 21 20 19 18 17 16 15  \n",
    "```"
   ]
  },
  {
   "cell_type": "code",
   "execution_count": 1,
   "id": "797fcb89-afd6-41c5-a55e-eefe62e59d00",
   "metadata": {
    "editable": true,
    "slideshow": {
     "slide_type": ""
    },
    "tags": []
   },
   "outputs": [
    {
     "name": "stdout",
     "output_type": "stream",
     "text": [
      "test 1:\n",
      "1 2 3\n",
      "8 9 4\n",
      "7 6 5\n",
      "test 2:\n",
      " 1  2  3  4  5  6  7  8\n",
      "28 29 30 31 32 33 34  9\n",
      "27 48 49 50 51 52 35 10\n",
      "26 47 60 61 62 53 36 11\n",
      "25 46 59 64 63 54 37 12\n",
      "24 45 58 57 56 55 38 13\n",
      "23 44 43 42 41 40 39 14\n",
      "22 21 20 19 18 17 16 15\n"
     ]
    }
   ],
   "source": [
    "#complete the template below\n",
    "\n",
    "#Recuision\n",
    "def print_spiral(n):\n",
    "#    write your code here\n",
    "    matrix = [[0]*n for _ in range(n)]\n",
    "    top, bottom, left, right = 0, n-1, 0, n-1\n",
    "    num = 1\n",
    "\n",
    "    def go_right(i):\n",
    "        nonlocal top, bottom, left, right, num\n",
    "        if num > n*n: return\n",
    "        if i > right:\n",
    "            top += 1\n",
    "            return go_down(top)\n",
    "        matrix[top][i] = num\n",
    "        num += 1\n",
    "        go_right(i+1)\n",
    "\n",
    "    def go_down(i):\n",
    "        nonlocal top, bottom, left, right, num\n",
    "        if num > n*n: return\n",
    "        if i > bottom:\n",
    "            right -= 1\n",
    "            return go_left(right)\n",
    "        matrix[i][right] = num\n",
    "        num += 1\n",
    "        go_down(i+1) \n",
    "\n",
    "    def go_left(i):\n",
    "        nonlocal top, bottom, left, right, num\n",
    "        if num > n*n: return\n",
    "        if i < left:\n",
    "            bottom -= 1\n",
    "            return go_up(bottom)\n",
    "        matrix[bottom][i] = num\n",
    "        num += 1\n",
    "        go_left(i-1) \n",
    "\n",
    "    def go_up(i):\n",
    "        nonlocal top, bottom, left, right, num\n",
    "        if num > n*n: return\n",
    "        if i < top:\n",
    "            left += 1\n",
    "            return go_right(left)\n",
    "        matrix[i][left] = num\n",
    "        num += 1\n",
    "        go_up(i-1) \n",
    "\n",
    "    go_right(0)\n",
    "    # for i in range(n):\n",
    "    #     for j in range(n):\n",
    "    #         print(matrix[i][j], end=\" \")\n",
    "    #     print()\n",
    "    width = len(str(n*n))\n",
    "    for row in matrix:\n",
    "        print(\" \".join(str(x).rjust(width) for x in row)) #.rjust(width) 把每个数字 x 转成字符串后，右对齐，总宽度是 width。\n",
    "#To avoid confusion, there is no testing cell for this question, please run the following code to check whether your solution is correct\n",
    "print(\"test 1:\")\n",
    "print_spiral(3)\n",
    "\n",
    "print(\"test 2:\")\n",
    "print_spiral(8)"
   ]
  },
  {
   "cell_type": "code",
   "execution_count": 6,
   "id": "8d662065-d56c-4f3c-8164-d9936c0924cd",
   "metadata": {},
   "outputs": [
    {
     "name": "stdout",
     "output_type": "stream",
     "text": [
      "   1    2    3    4    5    6    7    8    9   10   11   12   13   14   15   16   17   18   19   20   21   22   23   24   25   26   27   28   29   30   31   32   33   34   35\n",
      " 136  137  138  139  140  141  142  143  144  145  146  147  148  149  150  151  152  153  154  155  156  157  158  159  160  161  162  163  164  165  166  167  168  169   36\n",
      " 135  264  265  266  267  268  269  270  271  272  273  274  275  276  277  278  279  280  281  282  283  284  285  286  287  288  289  290  291  292  293  294  295  170   37\n",
      " 134  263  384  385  386  387  388  389  390  391  392  393  394  395  396  397  398  399  400  401  402  403  404  405  406  407  408  409  410  411  412  413  296  171   38\n",
      " 133  262  383  496  497  498  499  500  501  502  503  504  505  506  507  508  509  510  511  512  513  514  515  516  517  518  519  520  521  522  523  414  297  172   39\n",
      " 132  261  382  495  600  601  602  603  604  605  606  607  608  609  610  611  612  613  614  615  616  617  618  619  620  621  622  623  624  625  524  415  298  173   40\n",
      " 131  260  381  494  599  696  697  698  699  700  701  702  703  704  705  706  707  708  709  710  711  712  713  714  715  716  717  718  719  626  525  416  299  174   41\n",
      " 130  259  380  493  598  695  784  785  786  787  788  789  790  791  792  793  794  795  796  797  798  799  800  801  802  803  804  805  720  627  526  417  300  175   42\n",
      " 129  258  379  492  597  694  783  864  865  866  867  868  869  870  871  872  873  874  875  876  877  878  879  880  881  882  883  806  721  628  527  418  301  176   43\n",
      " 128  257  378  491  596  693  782  863  936  937  938  939  940  941  942  943  944  945  946  947  948  949  950  951  952  953  884  807  722  629  528  419  302  177   44\n",
      " 127  256  377  490  595  692  781  862  935 1000 1001 1002 1003 1004 1005 1006 1007 1008 1009 1010 1011 1012 1013 1014 1015  954  885  808  723  630  529  420  303  178   45\n",
      " 126  255  376  489  594  691  780  861  934  999 1056 1057 1058 1059 1060 1061 1062 1063 1064 1065 1066 1067 1068 1069 1016  955  886  809  724  631  530  421  304  179   46\n",
      " 125  254  375  488  593  690  779  860  933  998 1055 1104 1105 1106 1107 1108 1109 1110 1111 1112 1113 1114 1115 1070 1017  956  887  810  725  632  531  422  305  180   47\n",
      " 124  253  374  487  592  689  778  859  932  997 1054 1103 1144 1145 1146 1147 1148 1149 1150 1151 1152 1153 1116 1071 1018  957  888  811  726  633  532  423  306  181   48\n",
      " 123  252  373  486  591  688  777  858  931  996 1053 1102 1143 1176 1177 1178 1179 1180 1181 1182 1183 1154 1117 1072 1019  958  889  812  727  634  533  424  307  182   49\n",
      " 122  251  372  485  590  687  776  857  930  995 1052 1101 1142 1175 1200 1201 1202 1203 1204 1205 1184 1155 1118 1073 1020  959  890  813  728  635  534  425  308  183   50\n",
      " 121  250  371  484  589  686  775  856  929  994 1051 1100 1141 1174 1199 1216 1217 1218 1219 1206 1185 1156 1119 1074 1021  960  891  814  729  636  535  426  309  184   51\n",
      " 120  249  370  483  588  685  774  855  928  993 1050 1099 1140 1173 1198 1215 1224 1225 1220 1207 1186 1157 1120 1075 1022  961  892  815  730  637  536  427  310  185   52\n",
      " 119  248  369  482  587  684  773  854  927  992 1049 1098 1139 1172 1197 1214 1223 1222 1221 1208 1187 1158 1121 1076 1023  962  893  816  731  638  537  428  311  186   53\n",
      " 118  247  368  481  586  683  772  853  926  991 1048 1097 1138 1171 1196 1213 1212 1211 1210 1209 1188 1159 1122 1077 1024  963  894  817  732  639  538  429  312  187   54\n",
      " 117  246  367  480  585  682  771  852  925  990 1047 1096 1137 1170 1195 1194 1193 1192 1191 1190 1189 1160 1123 1078 1025  964  895  818  733  640  539  430  313  188   55\n",
      " 116  245  366  479  584  681  770  851  924  989 1046 1095 1136 1169 1168 1167 1166 1165 1164 1163 1162 1161 1124 1079 1026  965  896  819  734  641  540  431  314  189   56\n",
      " 115  244  365  478  583  680  769  850  923  988 1045 1094 1135 1134 1133 1132 1131 1130 1129 1128 1127 1126 1125 1080 1027  966  897  820  735  642  541  432  315  190   57\n",
      " 114  243  364  477  582  679  768  849  922  987 1044 1093 1092 1091 1090 1089 1088 1087 1086 1085 1084 1083 1082 1081 1028  967  898  821  736  643  542  433  316  191   58\n",
      " 113  242  363  476  581  678  767  848  921  986 1043 1042 1041 1040 1039 1038 1037 1036 1035 1034 1033 1032 1031 1030 1029  968  899  822  737  644  543  434  317  192   59\n",
      " 112  241  362  475  580  677  766  847  920  985  984  983  982  981  980  979  978  977  976  975  974  973  972  971  970  969  900  823  738  645  544  435  318  193   60\n",
      " 111  240  361  474  579  676  765  846  919  918  917  916  915  914  913  912  911  910  909  908  907  906  905  904  903  902  901  824  739  646  545  436  319  194   61\n",
      " 110  239  360  473  578  675  764  845  844  843  842  841  840  839  838  837  836  835  834  833  832  831  830  829  828  827  826  825  740  647  546  437  320  195   62\n",
      " 109  238  359  472  577  674  763  762  761  760  759  758  757  756  755  754  753  752  751  750  749  748  747  746  745  744  743  742  741  648  547  438  321  196   63\n",
      " 108  237  358  471  576  673  672  671  670  669  668  667  666  665  664  663  662  661  660  659  658  657  656  655  654  653  652  651  650  649  548  439  322  197   64\n",
      " 107  236  357  470  575  574  573  572  571  570  569  568  567  566  565  564  563  562  561  560  559  558  557  556  555  554  553  552  551  550  549  440  323  198   65\n",
      " 106  235  356  469  468  467  466  465  464  463  462  461  460  459  458  457  456  455  454  453  452  451  450  449  448  447  446  445  444  443  442  441  324  199   66\n",
      " 105  234  355  354  353  352  351  350  349  348  347  346  345  344  343  342  341  340  339  338  337  336  335  334  333  332  331  330  329  328  327  326  325  200   67\n",
      " 104  233  232  231  230  229  228  227  226  225  224  223  222  221  220  219  218  217  216  215  214  213  212  211  210  209  208  207  206  205  204  203  202  201   68\n",
      " 103  102  101  100   99   98   97   96   95   94   93   92   91   90   89   88   87   86   85   84   83   82   81   80   79   78   77   76   75   74   73   72   71   70   69\n"
     ]
    }
   ],
   "source": [
    "print_spiral(35)"
   ]
  },
  {
   "cell_type": "markdown",
   "id": "ae26994a-20a9-474d-a3c7-be956a2ad990",
   "metadata": {
    "editable": false,
    "slideshow": {
     "slide_type": ""
    },
    "tags": []
   },
   "source": [
    "### Question 3 （4 marks）:\n",
    "\n",
    "Define a function `first_non_repeating_char(s)` that takes a string argument `s` and returns the first character that appears only once in a string. If all characters repeat, return `None`.\n",
    "- Treat lower case letters and capital letters differently. For example, `a` and `A` are two different characters.\n",
    "\n",
    "\n",
    "For example:\n",
    "\n",
    "```\n",
    "                    [Testing]                                    [Result (the output on the screen)]     \n",
    "        print(first_non_repeating_char(\"swiss\"))                              w\n",
    "        print(first_non_repeating_char(\"aabbcc\"))                            None          \n",
    "        print(first_non_repeating_char(\"leetcode\"))                           l\n",
    "```"
   ]
  },
  {
   "cell_type": "code",
   "execution_count": 42,
   "id": "09691b89-a382-496e-aabc-a50f34753341",
   "metadata": {
    "editable": true,
    "slideshow": {
     "slide_type": ""
    },
    "tags": []
   },
   "outputs": [],
   "source": [
    "#complete the template below\n",
    "def first_non_repeating_char(s):\n",
    "    #write your code here\n",
    "    repeating_char = []\n",
    "    for i in range(len(s)):\n",
    "        if s[i] in repeating_char:\n",
    "            continue\n",
    "        for j in range(i+1,len(s)):\n",
    "            if s[i] == s[j]:\n",
    "                repeating_char.append(s[i])\n",
    "                break\n",
    "        else:\n",
    "            return s[i]\n",
    "\n",
    "    return None\n",
    "\n",
    "first_non_repeating_char(\"aabbcc\")"
   ]
  },
  {
   "cell_type": "markdown",
   "id": "37c98c3e-51d1-4572-94da-0c1996af8ad6",
   "metadata": {
    "editable": true,
    "slideshow": {
     "slide_type": ""
    },
    "tags": []
   },
   "source": [
    "Run this test cell right after running your answer"
   ]
  },
  {
   "cell_type": "code",
   "execution_count": 43,
   "id": "9eaa34a3-e758-4c36-a979-6301b7005e18",
   "metadata": {
    "editable": false,
    "raw_mimetype": "",
    "slideshow": {
     "slide_type": ""
    },
    "tags": []
   },
   "outputs": [
    {
     "name": "stdout",
     "output_type": "stream",
     "text": [
      "Your code is correct!\n"
     ]
    }
   ],
   "source": [
    "#testing cell\n",
    "test=[\"swiss\",\"aabbcc\",\"leetcode\",\"SSCS1302CC\"]\n",
    "correct_result=['w',None,'l','1']\n",
    "\n",
    "for i in 0,1,2,3:\n",
    "    result=first_non_repeating_char(test[i])\n",
    "    if result != correct_result[i]:\n",
    "        print(\"Your code is wrong!\")\n",
    "        break\n",
    "else:\n",
    "    print(\"Your code is correct!\")"
   ]
  },
  {
   "cell_type": "markdown",
   "id": "5f3ed7d3-8100-4bab-8dac-b9781f9607ff",
   "metadata": {
    "editable": false,
    "slideshow": {
     "slide_type": ""
    },
    "tags": []
   },
   "source": [
    "### Question 4 （6 marks）:\n",
    "\n",
    "Define a function `biggest_prime(n)` that takes a positive integer `n` as input and returns its biggest prime factors. If all the factors are not prime numbers, return `None`.\n",
    "\n",
    "For example:\n",
    "\n",
    "```\n",
    "              [Testing]                      [Result (the output on the screen)]     \n",
    "        print(biggest_prime(1))                          None\n",
    "        print(biggest_prime(5))                           5\n",
    "        print(biggest_prime(8))                           2\n",
    "        print(biggest_prime(49))                          7\n",
    "```"
   ]
  },
  {
   "cell_type": "code",
   "execution_count": 44,
   "id": "86b961dc-6312-4010-afe7-1cbe87b516d6",
   "metadata": {},
   "outputs": [
    {
     "name": "stdout",
     "output_type": "stream",
     "text": [
      "Help on built-in function sorted in module builtins:\n",
      "\n",
      "sorted(iterable, /, *, key=None, reverse=False)\n",
      "    Return a new list containing all items from the iterable in ascending order.\n",
      "\n",
      "    A custom key function can be supplied to customize the sort order, and the\n",
      "    reverse flag can be set to request the result in descending order.\n",
      "\n"
     ]
    }
   ],
   "source": [
    "help(sorted)"
   ]
  },
  {
   "cell_type": "code",
   "execution_count": 45,
   "id": "c47b662e-8d1a-42a5-8e55-c0fb98994330",
   "metadata": {
    "editable": true,
    "slideshow": {
     "slide_type": ""
    },
    "tags": []
   },
   "outputs": [],
   "source": [
    "#complete the template below\n",
    "def biggest_prime(n):\n",
    "    #write your code here\n",
    "    factors = []\n",
    "    for i in range(1,n+1):\n",
    "        for j in range(1,n+1):\n",
    "            if i * j == n:\n",
    "                factors.append(i)\n",
    "    def is_prime(n):\n",
    "        if n == 1:\n",
    "            return False\n",
    "        for i in range(2,n//2+1):\n",
    "            if n % i == 0:\n",
    "                return False\n",
    "        return True\n",
    "        \n",
    "    for i in sorted(factors,reverse = True):\n",
    "        if is_prime(i):\n",
    "            return i\n",
    "    return None"
   ]
  },
  {
   "cell_type": "markdown",
   "id": "1b14e701-00d6-4ee8-855a-453b6a1c0fa8",
   "metadata": {
    "editable": true,
    "slideshow": {
     "slide_type": ""
    },
    "tags": []
   },
   "source": [
    "Run this test cell right after running your answer to question 3"
   ]
  },
  {
   "cell_type": "code",
   "execution_count": 46,
   "id": "cb305da4-5cc4-4605-a9a4-6a35a8e5d271",
   "metadata": {
    "editable": false,
    "slideshow": {
     "slide_type": ""
    },
    "tags": []
   },
   "outputs": [
    {
     "name": "stdout",
     "output_type": "stream",
     "text": [
      "Your code is correct!\n"
     ]
    }
   ],
   "source": [
    "# testing cell\n",
    "test = [1,5,8,49,60,101]\n",
    "correct_result = [None,5,2,7,5,101]\n",
    "\n",
    "\n",
    "for i in 0,1,2,3,4,5:\n",
    "    result=biggest_prime(test[i])\n",
    "    if result != correct_result[i]:\n",
    "        print(\"Your code is wrong!\")\n",
    "        break\n",
    "else:\n",
    "    print(\"Your code is correct!\")"
   ]
  },
  {
   "cell_type": "markdown",
   "id": "67e84dae-b942-40d1-b438-437089754ed6",
   "metadata": {
    "editable": false,
    "slideshow": {
     "slide_type": ""
    },
    "tags": []
   },
   "source": [
    "### Question 5 （5 marks）:\n",
    "\n",
    " Write a function `longest_unique_substring(s)` that returns the length of the longest substring without repeating characters.\n",
    "\n",
    "\n",
    "For example:\n",
    "\n",
    "```\n",
    "                    [Testing]                                    [Result (the output on the screen)]                             [Explanation of the result]\n",
    "        print(longest_unique_substring(\"abcabcbb\"))                         3                                   the longest substring without repeating characters is 'abc', so its length is 3\n",
    "        print(longest_unique_substring(\"bbbbb\"))                            1                                   the longest substring without repeating characters is 'b', so its length is 1\n",
    "        print(longest_unique_substring(\"pwwkew\"))                           3                                   the longest substring without repeating characters is 'wke', so its length is 3\n",
    "        print(longest_unique_substring(\"CS1302\"))                           6                                   'CS1302' has no repeating characters, so the longest substring without repeating characters is itself, its length is 6\n",
    "```"
   ]
  },
  {
   "cell_type": "code",
   "execution_count": 53,
   "id": "0bd45556-9b75-4e40-be7b-239b7b2d3b52",
   "metadata": {
    "editable": true,
    "slideshow": {
     "slide_type": ""
    },
    "tags": []
   },
   "outputs": [
    {
     "data": {
      "text/plain": [
       "3"
      ]
     },
     "execution_count": 53,
     "metadata": {},
     "output_type": "execute_result"
    }
   ],
   "source": [
    "#complete the template below\n",
    "def longest_unique_substring(s):\n",
    "    #write your code here\n",
    "    def get_lus(start,current_max):\n",
    "        if start == len(s)-1:\n",
    "            return max(current_max,1)\n",
    "        exist = []\n",
    "        max_len = 0\n",
    "        for i in range(start,len(s)):\n",
    "            if s[i] in exist:\n",
    "                break\n",
    "            exist.append(s[i])\n",
    "            max_len += 1\n",
    "            \n",
    "        return get_lus(start+1, max(current_max, max_len))\n",
    "    return get_lus(0,0)\n",
    "\n",
    "longest_unique_substring(\"abcabcbb\")"
   ]
  },
  {
   "cell_type": "markdown",
   "id": "deb3cecb-95c2-42a6-a4c5-6b83b3feb69a",
   "metadata": {
    "editable": true,
    "slideshow": {
     "slide_type": ""
    },
    "tags": []
   },
   "source": [
    "Run this test cell right after running your answer"
   ]
  },
  {
   "cell_type": "code",
   "execution_count": 54,
   "id": "76ef14f3-66d6-450f-a301-3ed6d94f64fb",
   "metadata": {
    "editable": false,
    "raw_mimetype": "",
    "slideshow": {
     "slide_type": ""
    },
    "tags": []
   },
   "outputs": [
    {
     "name": "stdout",
     "output_type": "stream",
     "text": [
      "Your code is correct!\n"
     ]
    }
   ],
   "source": [
    "#testing cell\n",
    "test=[\"abcabcbb\",\"bbbbb\",\"pwwkew\",\"CS1302\"]\n",
    "correct_result=[3,1,3,6]\n",
    "\n",
    "for i in 0,1,2,3:\n",
    "    result=longest_unique_substring(test[i])\n",
    "    if result != correct_result[i]:\n",
    "        print(\"Your code is wrong!\")\n",
    "        break\n",
    "else:\n",
    "    print(\"Your code is correct!\")"
   ]
  },
  {
   "cell_type": "markdown",
   "id": "5d795f92-c50f-4954-aa5f-670f8fad9474",
   "metadata": {
    "editable": true,
    "slideshow": {
     "slide_type": ""
    },
    "tags": []
   },
   "source": [
    "**--End--**"
   ]
  }
 ],
 "metadata": {
  "kernelspec": {
   "display_name": "Python 3 (ipykernel)",
   "language": "python",
   "name": "python3"
  },
  "language_info": {
   "codemirror_mode": {
    "name": "ipython",
    "version": 3
   },
   "file_extension": ".py",
   "mimetype": "text/x-python",
   "name": "python",
   "nbconvert_exporter": "python",
   "pygments_lexer": "ipython3",
   "version": "3.12.2"
  },
  "scenes_data": {
   "active_scene": "Default Scene",
   "init_scene": "",
   "scenes": [
    "Default Scene"
   ]
  }
 },
 "nbformat": 4,
 "nbformat_minor": 5
}
