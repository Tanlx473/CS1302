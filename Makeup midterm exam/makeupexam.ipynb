{
 "cells": [
  {
   "cell_type": "markdown",
   "id": "f1925f00-ac6d-4c12-9e3d-d49debfbd127",
   "metadata": {
    "editable": true,
    "slideshow": {
     "slide_type": ""
    },
    "tags": []
   },
   "source": [
    "### CS1302 makeup exam (coding part, total mark: 25)"
   ]
  },
  {
   "cell_type": "markdown",
   "id": "ce8b86c9-2f6b-4661-aeec-29ed2dce2e03",
   "metadata": {
    "editable": false,
    "slideshow": {
     "slide_type": ""
    },
    "tags": []
   },
   "source": [
    "**Please provide your best solution for each programming question below. Before the end of the exam, you need to upload it to Canvas-->CS1302-->Midterm Exam.**\n",
    "\n",
    "**Note:**\n",
    "\n",
    "**- Be careful about your output, even if there is a tiny error (for example, your output misses a comma or space), your code will not pass the test. If your code and/or logic are partially correct, you can still get a portion of the scores.**\n",
    "\n",
    "**- Do not modify anything in this notebook except typing your code in the answer area. Otherwise, you will get a 0 mark for the questions modified. If you want to do more tests, copy your code to another notebook.**\n",
    "\n",
    "**- Delete `pass` before you write your code and make sure you save and submit the correct version of your file. Wrong or corrupted files will result in 0 mark.**"
   ]
  },
  {
   "cell_type": "markdown",
   "id": "00eee0ed-b419-4098-ac79-0c923a2b0d55",
   "metadata": {
    "editable": false,
    "slideshow": {
     "slide_type": ""
    },
    "tags": []
   },
   "source": [
    "### Question 1 （4 marks）:\n",
    "\n",
    "Write a function `print_pyramid(n)` to print the following alphabet pyramid.\n",
    "\n",
    "For example, `print_pyramid(3)` will get \n",
    "\n",
    "```\n",
    "  A\n",
    " ABA\n",
    "ABCBA\n",
    "```\n",
    "\n",
    "`print_pyramid(5)` will get\n",
    "```\n",
    "    A\n",
    "   ABA\n",
    "  ABCBA\n",
    " ABCDCBA\n",
    "ABCDEDCBA\n",
    "```"
   ]
  },
  {
   "cell_type": "code",
   "execution_count": 22,
   "id": "2fc2ea47-4495-4705-b971-1605b3ee4fc4",
   "metadata": {},
   "outputs": [
    {
     "name": "stdout",
     "output_type": "stream",
     "text": [
      "absA\n"
     ]
    }
   ],
   "source": [
    "r = 'abs'\n",
    "r = r + chr(65)\n",
    "print(r)"
   ]
  },
  {
   "cell_type": "code",
   "execution_count": 23,
   "id": "3df22ccf-e0cc-484a-a812-1e61a9dc3d93",
   "metadata": {
    "editable": true,
    "slideshow": {
     "slide_type": ""
    },
    "tags": []
   },
   "outputs": [
    {
     "name": "stdout",
     "output_type": "stream",
     "text": [
      "test 1:\n",
      "  A\n",
      " ABA\n",
      "ABCBA\n",
      "\n",
      "test 2:\n",
      "    A\n",
      "   ABA\n",
      "  ABCBA\n",
      " ABCDCBA\n",
      "ABCDEDCBA\n",
      "\n"
     ]
    }
   ],
   "source": [
    "#complete the template below\n",
    "def print_pyramid(n):\n",
    "    #write your code here\n",
    "    r = ''\n",
    "    for i in range(0, n):\n",
    "        uni = 65\n",
    "        c = 0\n",
    "        for j in range(0, 2 * n + 1):\n",
    "            if j in range(n - i -1 ,n):\n",
    "                r += chr(uni + c)\n",
    "                c += 1\n",
    "            elif j in range(n, n + i):\n",
    "                r += chr(uni+c-2)\n",
    "                c -= 1\n",
    "            else: \n",
    "                r += \" \"\n",
    "        r = r.rstrip() + \"\\n\"\n",
    "    return r\n",
    "\n",
    "#To avoid confusion, there is no testing cell for this question, please run the following code to check whether your solution is correct\n",
    "print(\"test 1:\")\n",
    "print(print_pyramid(3))\n",
    "\n",
    "print(\"test 2:\")\n",
    "print(print_pyramid(5))"
   ]
  },
  {
   "cell_type": "markdown",
   "id": "a452a558-e008-40aa-b07a-ff44bbf0b3a8",
   "metadata": {
    "editable": false,
    "slideshow": {
     "slide_type": ""
    },
    "tags": []
   },
   "source": [
    "### Question 2 （6 marks）:\n",
    "\n",
    "Write a function `print_spiral(n)` to print a n×n number spiral matrix:\n",
    "\n",
    "For example: `print_spiral(3)` will get \n",
    "```\n",
    "1  2  3 \n",
    "8  9  4 \n",
    "7  6  5 \n",
    "```\n",
    "\n",
    "`print_spiral(8)` will get \n",
    "\n",
    "```\n",
    " 1  2  3  4  5  6  7  8 \n",
    "28 29 30 31 32 33 34  9 \n",
    "27 48 49 50 51 52 35 10 \n",
    "26 47 60 61 62 53 36 11 \n",
    "25 46 59 64 63 54 37 12 \n",
    "24 45 58 57 56 55 38 13 \n",
    "23 44 43 42 41 40 39 14 \n",
    "22 21 20 19 18 17 16 15  \n",
    "```"
   ]
  },
  {
   "cell_type": "code",
   "execution_count": 31,
   "id": "797fcb89-afd6-41c5-a55e-eefe62e59d00",
   "metadata": {
    "editable": true,
    "slideshow": {
     "slide_type": ""
    },
    "tags": []
   },
   "outputs": [
    {
     "name": "stdout",
     "output_type": "stream",
     "text": [
      "test 1:\n",
      "1 2 3 \n",
      "8 9 4 \n",
      "7 6 5 \n",
      "test 2:\n",
      "1 2 3 4 5 6 7 8 \n",
      "28 29 30 31 32 33 34 9 \n",
      "27 48 49 50 51 52 35 10 \n",
      "26 47 60 61 62 53 36 11 \n",
      "25 46 59 64 63 54 37 12 \n",
      "24 45 58 57 56 55 38 13 \n",
      "23 44 43 42 41 40 39 14 \n",
      "22 21 20 19 18 17 16 15 \n"
     ]
    }
   ],
   "source": [
    "#complete the template below\n",
    "\n",
    "#Recuision\n",
    "def print_spiral(n):\n",
    "#    write your code here\n",
    "    matrix = [[0]*n for _ in range(n)]\n",
    "    top, bottom, left, right = 0, n-1, 0, n-1\n",
    "    num = 1\n",
    "\n",
    "    def go_right(i):\n",
    "        nonlocal top, bottom, left, right, num\n",
    "        if num > n*n: return\n",
    "        if i > right:\n",
    "            top += 1\n",
    "            return go_down(top)\n",
    "        matrix[top][i] = num\n",
    "        num += 1\n",
    "        go_right(i+1)\n",
    "\n",
    "    def go_down(i):\n",
    "        nonlocal top, bottom, left, right, num\n",
    "        if num > n*n: return\n",
    "        if i > bottom:\n",
    "            right -= 1\n",
    "            return go_left(right)\n",
    "        matrix[i][right] = num\n",
    "        num += 1\n",
    "        go_down(i+1) \n",
    "\n",
    "    def go_left(i):\n",
    "        nonlocal top, bottom, left, right, num\n",
    "        if num > n*n: return\n",
    "        if i < left:\n",
    "            bottom -= 1\n",
    "            return go_up(bottom)\n",
    "        matrix[bottom][i] = num\n",
    "        num += 1\n",
    "        go_left(i-1) \n",
    "\n",
    "    def go_up(i):\n",
    "        nonlocal top, bottom, left, right, num\n",
    "        if num > n*n: return\n",
    "        if i < top:\n",
    "            left += 1\n",
    "            return go_right(left)\n",
    "        matrix[i][left] = num\n",
    "        num += 1\n",
    "        go_up(i-1) \n",
    "\n",
    "    go_right(0)\n",
    "    # for i in range(n):\n",
    "    #     for j in range(n):\n",
    "    #         print(matrix[i][j], end=\" \")\n",
    "    #     print()\n",
    "    width = len(str(n*n))\n",
    "    for row in matrix:\n",
    "        print(\" \".join(str(x).rjust(width) for x in row)) #.rjust(width) 把每个数字 x 转成字符串后，右对齐，总宽度是 width。\n",
    "#To avoid confusion, there is no testing cell for this question, please run the following code to check whether your solution is correct\n",
    "print(\"test 1:\")\n",
    "print_spiral(3)\n",
    "\n",
    "print(\"test 2:\")\n",
    "print_spiral(8)"
   ]
  },
  {
   "cell_type": "markdown",
   "id": "ae26994a-20a9-474d-a3c7-be956a2ad990",
   "metadata": {
    "editable": false,
    "slideshow": {
     "slide_type": ""
    },
    "tags": []
   },
   "source": [
    "### Question 3 （4 marks）:\n",
    "\n",
    "Define a function `first_non_repeating_char(s)` that takes a string argument `s` and returns the first character that appears only once in a string. If all characters repeat, return `None`.\n",
    "- Treat lower case letters and capital letters differently. For example, `a` and `A` are two different characters.\n",
    "\n",
    "\n",
    "For example:\n",
    "\n",
    "```\n",
    "                    [Testing]                                    [Result (the output on the screen)]     \n",
    "        print(first_non_repeating_char(\"swiss\"))                              w\n",
    "        print(first_non_repeating_char(\"aabbcc\"))                            None          \n",
    "        print(first_non_repeating_char(\"leetcode\"))                           l\n",
    "```"
   ]
  },
  {
   "cell_type": "code",
   "execution_count": 42,
   "id": "09691b89-a382-496e-aabc-a50f34753341",
   "metadata": {
    "editable": true,
    "slideshow": {
     "slide_type": ""
    },
    "tags": []
   },
   "outputs": [],
   "source": [
    "#complete the template below\n",
    "def first_non_repeating_char(s):\n",
    "    #write your code here\n",
    "    repeating_char = []\n",
    "    for i in range(len(s)):\n",
    "        if s[i] in repeating_char:\n",
    "            continue\n",
    "        for j in range(i+1,len(s)):\n",
    "            if s[i] == s[j]:\n",
    "                repeating_char.append(s[i])\n",
    "                break\n",
    "        else:\n",
    "            return s[i]\n",
    "\n",
    "    return None\n",
    "\n",
    "first_non_repeating_char(\"aabbcc\")"
   ]
  },
  {
   "cell_type": "markdown",
   "id": "37c98c3e-51d1-4572-94da-0c1996af8ad6",
   "metadata": {
    "editable": true,
    "slideshow": {
     "slide_type": ""
    },
    "tags": []
   },
   "source": [
    "Run this test cell right after running your answer"
   ]
  },
  {
   "cell_type": "code",
   "execution_count": 43,
   "id": "9eaa34a3-e758-4c36-a979-6301b7005e18",
   "metadata": {
    "editable": false,
    "raw_mimetype": "",
    "slideshow": {
     "slide_type": ""
    },
    "tags": []
   },
   "outputs": [
    {
     "name": "stdout",
     "output_type": "stream",
     "text": [
      "Your code is correct!\n"
     ]
    }
   ],
   "source": [
    "#testing cell\n",
    "test=[\"swiss\",\"aabbcc\",\"leetcode\",\"SSCS1302CC\"]\n",
    "correct_result=['w',None,'l','1']\n",
    "\n",
    "for i in 0,1,2,3:\n",
    "    result=first_non_repeating_char(test[i])\n",
    "    if result != correct_result[i]:\n",
    "        print(\"Your code is wrong!\")\n",
    "        break\n",
    "else:\n",
    "    print(\"Your code is correct!\")"
   ]
  },
  {
   "cell_type": "markdown",
   "id": "5f3ed7d3-8100-4bab-8dac-b9781f9607ff",
   "metadata": {
    "editable": false,
    "slideshow": {
     "slide_type": ""
    },
    "tags": []
   },
   "source": [
    "### Question 4 （6 marks）:\n",
    "\n",
    "Define a function `biggest_prime(n)` that takes a positive integer `n` as input and returns its biggest prime factors. If all the factors are not prime numbers, return `None`.\n",
    "\n",
    "For example:\n",
    "\n",
    "```\n",
    "              [Testing]                      [Result (the output on the screen)]     \n",
    "        print(biggest_prime(1))                          None\n",
    "        print(biggest_prime(5))                           5\n",
    "        print(biggest_prime(8))                           2\n",
    "        print(biggest_prime(49))                          7\n",
    "```"
   ]
  },
  {
   "cell_type": "code",
   "execution_count": 44,
   "id": "86b961dc-6312-4010-afe7-1cbe87b516d6",
   "metadata": {},
   "outputs": [
    {
     "name": "stdout",
     "output_type": "stream",
     "text": [
      "Help on built-in function sorted in module builtins:\n",
      "\n",
      "sorted(iterable, /, *, key=None, reverse=False)\n",
      "    Return a new list containing all items from the iterable in ascending order.\n",
      "\n",
      "    A custom key function can be supplied to customize the sort order, and the\n",
      "    reverse flag can be set to request the result in descending order.\n",
      "\n"
     ]
    }
   ],
   "source": [
    "help(sorted)"
   ]
  },
  {
   "cell_type": "code",
   "execution_count": 45,
   "id": "c47b662e-8d1a-42a5-8e55-c0fb98994330",
   "metadata": {
    "editable": true,
    "slideshow": {
     "slide_type": ""
    },
    "tags": []
   },
   "outputs": [],
   "source": [
    "#complete the template below\n",
    "def biggest_prime(n):\n",
    "    #write your code here\n",
    "    factors = []\n",
    "    for i in range(1,n+1):\n",
    "        for j in range(1,n+1):\n",
    "            if i * j == n:\n",
    "                factors.append(i)\n",
    "    def is_prime(n):\n",
    "        if n == 1:\n",
    "            return False\n",
    "        for i in range(2,n//2+1):\n",
    "            if n % i == 0:\n",
    "                return False\n",
    "        return True\n",
    "        \n",
    "    for i in sorted(factors,reverse = True):\n",
    "        if is_prime(i):\n",
    "            return i\n",
    "    return None"
   ]
  },
  {
   "cell_type": "markdown",
   "id": "1b14e701-00d6-4ee8-855a-453b6a1c0fa8",
   "metadata": {
    "editable": true,
    "slideshow": {
     "slide_type": ""
    },
    "tags": []
   },
   "source": [
    "Run this test cell right after running your answer to question 3"
   ]
  },
  {
   "cell_type": "code",
   "execution_count": 46,
   "id": "cb305da4-5cc4-4605-a9a4-6a35a8e5d271",
   "metadata": {
    "editable": false,
    "slideshow": {
     "slide_type": ""
    },
    "tags": []
   },
   "outputs": [
    {
     "name": "stdout",
     "output_type": "stream",
     "text": [
      "Your code is correct!\n"
     ]
    }
   ],
   "source": [
    "# testing cell\n",
    "test = [1,5,8,49,60,101]\n",
    "correct_result = [None,5,2,7,5,101]\n",
    "\n",
    "\n",
    "for i in 0,1,2,3,4,5:\n",
    "    result=biggest_prime(test[i])\n",
    "    if result != correct_result[i]:\n",
    "        print(\"Your code is wrong!\")\n",
    "        break\n",
    "else:\n",
    "    print(\"Your code is correct!\")"
   ]
  },
  {
   "cell_type": "markdown",
   "id": "67e84dae-b942-40d1-b438-437089754ed6",
   "metadata": {
    "editable": false,
    "slideshow": {
     "slide_type": ""
    },
    "tags": []
   },
   "source": [
    "### Question 5 （5 marks）:\n",
    "\n",
    " Write a function `longest_unique_substring(s)` that returns the length of the longest substring without repeating characters.\n",
    "\n",
    "\n",
    "For example:\n",
    "\n",
    "```\n",
    "                    [Testing]                                    [Result (the output on the screen)]                             [Explanation of the result]\n",
    "        print(longest_unique_substring(\"abcabcbb\"))                         3                                   the longest substring without repeating characters is 'abc', so its length is 3\n",
    "        print(longest_unique_substring(\"bbbbb\"))                            1                                   the longest substring without repeating characters is 'b', so its length is 1\n",
    "        print(longest_unique_substring(\"pwwkew\"))                           3                                   the longest substring without repeating characters is 'wke', so its length is 3\n",
    "        print(longest_unique_substring(\"CS1302\"))                           6                                   'CS1302' has no repeating characters, so the longest substring without repeating characters is itself, its length is 6\n",
    "```"
   ]
  },
  {
   "cell_type": "code",
   "execution_count": 53,
   "id": "0bd45556-9b75-4e40-be7b-239b7b2d3b52",
   "metadata": {
    "editable": true,
    "slideshow": {
     "slide_type": ""
    },
    "tags": []
   },
   "outputs": [
    {
     "data": {
      "text/plain": [
       "3"
      ]
     },
     "execution_count": 53,
     "metadata": {},
     "output_type": "execute_result"
    }
   ],
   "source": [
    "#complete the template below\n",
    "def longest_unique_substring(s):\n",
    "    #write your code here\n",
    "    def get_lus(start,current_max):\n",
    "        if start == len(s)-1:\n",
    "            return max(current_max,1)\n",
    "        exist = []\n",
    "        max_len = 0\n",
    "        for i in range(start,len(s)):\n",
    "            if s[i] in exist:\n",
    "                break\n",
    "            exist.append(s[i])\n",
    "            max_len += 1\n",
    "            \n",
    "        return get_lus(start+1, max(current_max, max_len))\n",
    "    return get_lus(0,0)\n",
    "\n",
    "longest_unique_substring(\"abcabcbb\")"
   ]
  },
  {
   "cell_type": "markdown",
   "id": "deb3cecb-95c2-42a6-a4c5-6b83b3feb69a",
   "metadata": {
    "editable": true,
    "slideshow": {
     "slide_type": ""
    },
    "tags": []
   },
   "source": [
    "Run this test cell right after running your answer"
   ]
  },
  {
   "cell_type": "code",
   "execution_count": 54,
   "id": "76ef14f3-66d6-450f-a301-3ed6d94f64fb",
   "metadata": {
    "editable": false,
    "raw_mimetype": "",
    "slideshow": {
     "slide_type": ""
    },
    "tags": []
   },
   "outputs": [
    {
     "name": "stdout",
     "output_type": "stream",
     "text": [
      "Your code is correct!\n"
     ]
    }
   ],
   "source": [
    "#testing cell\n",
    "test=[\"abcabcbb\",\"bbbbb\",\"pwwkew\",\"CS1302\"]\n",
    "correct_result=[3,1,3,6]\n",
    "\n",
    "for i in 0,1,2,3:\n",
    "    result=longest_unique_substring(test[i])\n",
    "    if result != correct_result[i]:\n",
    "        print(\"Your code is wrong!\")\n",
    "        break\n",
    "else:\n",
    "    print(\"Your code is correct!\")"
   ]
  },
  {
   "cell_type": "markdown",
   "id": "5d795f92-c50f-4954-aa5f-670f8fad9474",
   "metadata": {
    "editable": true,
    "slideshow": {
     "slide_type": ""
    },
    "tags": []
   },
   "source": [
    "**--End--**"
   ]
  }
 ],
 "metadata": {
  "kernelspec": {
   "display_name": "Python 3 (ipykernel)",
   "language": "python",
   "name": "python3"
  },
  "language_info": {
   "codemirror_mode": {
    "name": "ipython",
    "version": 3
   },
   "file_extension": ".py",
   "mimetype": "text/x-python",
   "name": "python",
   "nbconvert_exporter": "python",
   "pygments_lexer": "ipython3",
   "version": "3.12.2"
  },
  "scenes_data": {
   "active_scene": "Default Scene",
   "init_scene": "",
   "scenes": [
    "Default Scene"
   ]
  }
 },
 "nbformat": 4,
 "nbformat_minor": 5
}
