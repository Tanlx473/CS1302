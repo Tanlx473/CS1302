{
 "cells": [
  {
   "cell_type": "markdown",
   "id": "d3887636-02f5-4b14-b3b6-0b6706b03b75",
   "metadata": {},
   "source": [
    "# Week 8 Lecture Note: Composite Data Type(Lists and Tuples)\n",
    "\n",
    "## Motivation of Composite Data Type | 复合数据类型的动机\n",
    "- When calculating the average of a small number of values, a simple function can be used. However, when dealing with a large amount of data like the average household income in Hong Kong (with a labor size close to 4 million), a composite data type is needed to store variable-sized data sequences.  \n",
    "  计算少量数据的平均值时，可以使用简单函数。然而，对于处理大量数据（如香港的平均家庭收入，劳动力规模接近 400 万），需要使用复合数据类型来存储可变大小的数据序列。\n",
    "\n",
    "- Python has four collection data types:\n",
    "  - **List (列表)**: A collection which is ordered and changeable/mutable. Allows duplicate members.\n",
    "      - Ordered and mutable, allowing duplicates | 有序且可变，允许重复元素。\n",
    "  - **Tuple (元组)**: A collection which is ordered and unchangeable/immutable. Allows duplicate members.\n",
    "      - Ordered and immutable, allowing duplicates | 有序且不可变，允许重复元素。\n",
    "  - **Set (集合)**:Set is a collection which is unordered and unindexed. No duplicate members.\n",
    "      - Unordered and unindexed, no duplicates | 无序且无索引，不允许重复元素。\n",
    "  - **Dictionary (字典)**: Dictionary is a collection which is unordered, changeable and indexed. No duplicate members.\n",
    "      - Unordered, mutable, and indexed, no duplicates | 无序、可变且有索引，不允许重复键。\n",
    "\n",
    "> This lecture focuses on Lists and Tuples. "
   ]
  },
  {
   "cell_type": "markdown",
   "id": "f8ed29d0-a835-4045-94e0-48e05b185a69",
   "metadata": {},
   "source": [
    "### Mutable vs Immutable\n",
    "\n",
    "Every variable in python holds an instance of an object. There are two types of objects in python i.e. Mutable and Immutable objects. **Whenever an object is instantiated, it is assigned a unique object id.** The type of the object is defined at the runtime and it can’t be changed afterwards. However, **it’s state can be changed if it is a mutable object**.  \n",
    "python中的每个变量都包含一个对象的实例。python中有两种类型的对象，即可变对象和不可变对象。每当一个对象被实例化时，它被分配一个唯一的对象id。对象的类型是在运行时定义的，之后不能更改。然而，如果它是一个可变对象，它的状态可以被改变。\n",
    "\n",
    "- Mutable Objects: These are of type list, dict, set.\n",
    "\n",
    "- Immutable Objects : These are of in-built types like int, float, bool, string, tuple. In simple words, an immutable object can’t be changed after it is created.\n",
    "\n",
    "To summarise the difference, mutable objects can change their state or contents but immutable objects can’t change their state or content.  \n",
    "可变对象可以改变它们的状态或内容，而不可变对象不能改变它们的状态或内容。\n",
    "More explanation about Mutable vs Immutable can be found [here](https://freecontent.manning.com/mutable-and-immutable-objects/)"
   ]
  },
  {
   "cell_type": "code",
   "execution_count": 16,
   "id": "f981815a-6372-4efe-8a91-060cac13646e",
   "metadata": {},
   "outputs": [
    {
     "ename": "TypeError",
     "evalue": "'tuple' object does not support item assignment",
     "output_type": "error",
     "traceback": [
      "\u001b[0;31m---------------------------------------------------------------------------\u001b[0m",
      "\u001b[0;31mTypeError\u001b[0m                                 Traceback (most recent call last)",
      "Cell \u001b[0;32mIn[16], line 3\u001b[0m\n\u001b[1;32m      1\u001b[0m \u001b[38;5;66;03m# these examples shows tuples are immutable\u001b[39;00m\n\u001b[1;32m      2\u001b[0m tuple1 \u001b[38;5;241m=\u001b[39m (\u001b[38;5;241m0\u001b[39m, \u001b[38;5;241m1\u001b[39m, \u001b[38;5;241m2\u001b[39m, \u001b[38;5;241m3\u001b[39m)\n\u001b[0;32m----> 3\u001b[0m tuple1[\u001b[38;5;241m0\u001b[39m] \u001b[38;5;241m=\u001b[39m \u001b[38;5;241m4\u001b[39m\n\u001b[1;32m      4\u001b[0m \u001b[38;5;28mprint\u001b[39m(tuple1)\n",
      "\u001b[0;31mTypeError\u001b[0m: 'tuple' object does not support item assignment"
     ]
    }
   ],
   "source": [
    "# these examples shows tuples are immutable\n",
    "tuple1 = (0, 1, 2, 3)\n",
    "tuple1[0] = 4\n",
    "print(tuple1)"
   ]
  },
  {
   "cell_type": "code",
   "execution_count": 17,
   "id": "c299ceb6-07fd-40fd-b461-53979b46b7f8",
   "metadata": {},
   "outputs": [
    {
     "ename": "TypeError",
     "evalue": "'str' object does not support item assignment",
     "output_type": "error",
     "traceback": [
      "\u001b[0;31m---------------------------------------------------------------------------\u001b[0m",
      "\u001b[0;31mTypeError\u001b[0m                                 Traceback (most recent call last)",
      "Cell \u001b[0;32mIn[17], line 3\u001b[0m\n\u001b[1;32m      1\u001b[0m \u001b[38;5;66;03m# this example shows strings are immutable\u001b[39;00m\n\u001b[1;32m      2\u001b[0m message \u001b[38;5;241m=\u001b[39m \u001b[38;5;124m\"\u001b[39m\u001b[38;5;124mWelcome to CS1302\u001b[39m\u001b[38;5;124m\"\u001b[39m\n\u001b[0;32m----> 3\u001b[0m message[\u001b[38;5;241m0\u001b[39m] \u001b[38;5;241m=\u001b[39m \u001b[38;5;124m'\u001b[39m\u001b[38;5;124mp\u001b[39m\u001b[38;5;124m'\u001b[39m\n\u001b[1;32m      4\u001b[0m \u001b[38;5;28mprint\u001b[39m(message)\n",
      "\u001b[0;31mTypeError\u001b[0m: 'str' object does not support item assignment"
     ]
    }
   ],
   "source": [
    "# this example shows strings are immutable\n",
    "message = \"Welcome to CS1302\"\n",
    "message[0] = 'p'\n",
    "print(message)"
   ]
  },
  {
   "cell_type": "code",
   "execution_count": null,
   "id": "bd149637-2cad-4080-90db-50c22cd89ba3",
   "metadata": {},
   "outputs": [],
   "source": []
  },
  {
   "cell_type": "markdown",
   "id": "6fbfe45d-acd9-47ae-b906-e1a239355c9c",
   "metadata": {},
   "source": [
    "## 2. Constructing Sequences | 序列的构造\n",
    "#### By Enumeration | 通过枚举\n",
    "- Tuples are created by enclosing a comma-separated sequence in parentheses. | 元组使用圆括号 `()` 包围逗号分隔的序列。\n",
    "- For single-element tuples, a comma is required after the element. | 单元素元组需要在元素后加逗号，如 `(0,)`。\n",
    "- Lists are created using square brackets `[]`. | 列表使用方括号 `[]`。\n",
    "\n",
    "Samples following"
   ]
  },
  {
   "cell_type": "markdown",
   "id": "925302c5-f0f2-4383-bca2-210bd26ad58a",
   "metadata": {},
   "source": [
    "To create a tuple or a list, we enclose a comma separated sequence by parentheses:"
   ]
  },
  {
   "cell_type": "code",
   "execution_count": 7,
   "id": "bcccc48d-079c-42f8-985c-d8f2a3ffd205",
   "metadata": {},
   "outputs": [
    {
     "name": "stdout",
     "output_type": "stream",
     "text": [
      "(0,)\n",
      "[0]\n"
     ]
    }
   ],
   "source": [
    "xt =(0,) #create a tuple\n",
    "xl = [0,] #create a list\n",
    "print(xt)\n",
    "print(xl)"
   ]
  },
  {
   "cell_type": "markdown",
   "id": "ce449eea-7b72-4df3-9f71-f7f4261ad9dc",
   "metadata": {},
   "source": [
    "Create a empty tuple or a empty list like this"
   ]
  },
  {
   "cell_type": "code",
   "execution_count": 9,
   "id": "00d56a72-7917-4b11-84ae-29199931620b",
   "metadata": {},
   "outputs": [
    {
     "name": "stdout",
     "output_type": "stream",
     "text": [
      "()\n",
      "[]\n"
     ]
    }
   ],
   "source": [
    "yt = ()\n",
    "yl = []\n",
    "print(yt)\n",
    "print(yl)"
   ]
  },
  {
   "cell_type": "code",
   "execution_count": 10,
   "id": "b5aea316-c88a-4195-9666-309bf614484f",
   "metadata": {},
   "outputs": [
    {
     "ename": "SyntaxError",
     "evalue": "invalid syntax (3392711641.py, line 1)",
     "output_type": "error",
     "traceback": [
      "\u001b[0;36m  Cell \u001b[0;32mIn[10], line 1\u001b[0;36m\u001b[0m\n\u001b[0;31m    zt = (,) #Creating a tuple like this is error\u001b[0m\n\u001b[0m          ^\u001b[0m\n\u001b[0;31mSyntaxError\u001b[0m\u001b[0;31m:\u001b[0m invalid syntax\n"
     ]
    }
   ],
   "source": [
    "zt = (,) #Creating a tuple like this is error\n",
    "print(zt)"
   ]
  },
  {
   "cell_type": "code",
   "execution_count": 11,
   "id": "adadb8f0-347d-470f-a448-69478b27ac7d",
   "metadata": {},
   "outputs": [
    {
     "ename": "SyntaxError",
     "evalue": "invalid syntax (2716445276.py, line 1)",
     "output_type": "error",
     "traceback": [
      "\u001b[0;36m  Cell \u001b[0;32mIn[11], line 1\u001b[0;36m\u001b[0m\n\u001b[0;31m    zl = [,] #Creating a list like this is error\u001b[0m\n\u001b[0m          ^\u001b[0m\n\u001b[0;31mSyntaxError\u001b[0m\u001b[0;31m:\u001b[0m invalid syntax\n"
     ]
    }
   ],
   "source": [
    "zl = [,] #Creating a list like this is error\n",
    "print(zl)"
   ]
  },
  {
   "cell_type": "code",
   "execution_count": 1,
   "id": "617031a4-f90b-4fbf-9f48-2c8852d418f0",
   "metadata": {},
   "outputs": [
    {
     "name": "stdout",
     "output_type": "stream",
     "text": [
      "['apple', 'banana', 'cherry', 1, 2, 2.5]\n",
      "('apple', 'banana', 'cherry', 1, 2, 2.5)\n"
     ]
    }
   ],
   "source": [
    "#create a list\n",
    "thislist = [\"apple\", \"banana\", \"cherry\",1, 2, 2.5]\n",
    "print(thislist)\n",
    "#create a tuple\n",
    "thistuple = (\"apple\", \"banana\", \"cherry\",1, 2, 2.5)\n",
    "print(thistuple)"
   ]
  },
  {
   "cell_type": "markdown",
   "id": "fb90f7d3-dd96-48b8-b2d9-504b7c1d4058",
   "metadata": {},
   "source": [
    "元组是不可变对象，所以不能尝试修改元素的引用，增删元素。如果尝试会报错。"
   ]
  },
  {
   "cell_type": "code",
   "execution_count": 13,
   "id": "91989413-84eb-4174-9a9b-54d76e8d9708",
   "metadata": {},
   "outputs": [
    {
     "ename": "TypeError",
     "evalue": "'tuple' object does not support item assignment",
     "output_type": "error",
     "traceback": [
      "\u001b[0;31m---------------------------------------------------------------------------\u001b[0m",
      "\u001b[0;31mTypeError\u001b[0m                                 Traceback (most recent call last)",
      "Cell \u001b[0;32mIn[13], line 3\u001b[0m\n\u001b[1;32m      1\u001b[0m \u001b[38;5;66;03m# these examples shows tuples are immutable\u001b[39;00m\n\u001b[1;32m      2\u001b[0m tuple1 \u001b[38;5;241m=\u001b[39m (\u001b[38;5;241m0\u001b[39m, \u001b[38;5;241m1\u001b[39m, \u001b[38;5;241m2\u001b[39m, \u001b[38;5;241m3\u001b[39m)\n\u001b[0;32m----> 3\u001b[0m tuple1[\u001b[38;5;241m0\u001b[39m] \u001b[38;5;241m=\u001b[39m \u001b[38;5;241m4\u001b[39m\n\u001b[1;32m      4\u001b[0m \u001b[38;5;28mprint\u001b[39m(tuple1)\n",
      "\u001b[0;31mTypeError\u001b[0m: 'tuple' object does not support item assignment"
     ]
    }
   ],
   "source": [
    "# these examples shows tuples are immutable\n",
    "tuple1 = (0, 1, 2, 3)\n",
    "tuple1[0] = 4\n",
    "print(tuple1)"
   ]
  },
  {
   "cell_type": "code",
   "execution_count": null,
   "id": "4812aa7f-0d4f-4406-9997-e897d8da72a4",
   "metadata": {},
   "outputs": [],
   "source": []
  },
  {
   "cell_type": "code",
   "execution_count": 15,
   "id": "287fc15c-cc6b-432c-86a2-9d442a66facb",
   "metadata": {},
   "outputs": [
    {
     "ename": "TypeError",
     "evalue": "'str' object does not support item assignment",
     "output_type": "error",
     "traceback": [
      "\u001b[0;31m---------------------------------------------------------------------------\u001b[0m",
      "\u001b[0;31mTypeError\u001b[0m                                 Traceback (most recent call last)",
      "Cell \u001b[0;32mIn[15], line 3\u001b[0m\n\u001b[1;32m      1\u001b[0m \u001b[38;5;66;03m# this example shows strings are immutable\u001b[39;00m\n\u001b[1;32m      2\u001b[0m message \u001b[38;5;241m=\u001b[39m \u001b[38;5;124m\"\u001b[39m\u001b[38;5;124mWelcome to CS1302\u001b[39m\u001b[38;5;124m\"\u001b[39m\n\u001b[0;32m----> 3\u001b[0m message[\u001b[38;5;241m0\u001b[39m] \u001b[38;5;241m=\u001b[39m \u001b[38;5;124m'\u001b[39m\u001b[38;5;124mp\u001b[39m\u001b[38;5;124m'\u001b[39m\n\u001b[1;32m      4\u001b[0m \u001b[38;5;28mprint\u001b[39m(message)\n",
      "\u001b[0;31mTypeError\u001b[0m: 'str' object does not support item assignment"
     ]
    }
   ],
   "source": []
  },
  {
   "cell_type": "markdown",
   "id": "8d749632-1659-4458-b5cc-e4b267e7441a",
   "metadata": {},
   "source": [
    "#### By Comprehension | 通过推导式\n",
    "- Comprehensions provide an efficient way to create sequences. | 推导式可以高效创建序列。\n",
    "- **List comprehension syntax | 列表推导式语法**:\n",
    "  ```python\n",
    "  [output_expression for item in iterable if conditional_filtering]\n",
    "  ```\n",
    "- **Tuple comprehension requires the `tuple()` constructor | 元组推导式需要 `tuple()` 构造函数**:\n",
    "  ```python\n",
    "  tuple(x**2 for x in range(10))\n",
    "  ```"
   ]
  },
  {
   "cell_type": "markdown",
   "id": "4401dbce-29e4-4686-aa37-1d5a62c756b0",
   "metadata": {},
   "source": [
    "## 3. Selecting Items in a Sequence | 选择序列中的元素\n",
    "#### Traversal | 遍历\n",
    "- `for` loops iterate over sequences. | `for` 循环用于遍历序列。\n",
    "- `reversed()` iterates in reverse order. | `reversed()` 反向遍历序列。\n",
    "- `zip()` combines multiple sequences, truncating to the shortest. | `zip()` 并行遍历多个序列，长度取决于最短的序列。\n",
    "#### Indexing | 索引\n",
    "- Positive indices start from `0`, negative indices count backward. | 正索引从 `0` 开始，负索引从末尾反向计数。\n",
    "- Accessing an out-of-range index raises `IndexError`. | 访问超出范围的索引会触发 `IndexError`。\n",
    "\n",
    "#### Slicing | 切片\n",
    "- Syntax: `a[start:stop:step]`. | 语法：`a[起始:结束:步长]`。\n",
    "- Defaults: `start=0`, `stop=len(a)`, `step=1`. | 默认值：`start=0`，`stop=len(a)`，`step=1`。\n",
    "- Negative values allow reverse indexing. | 负值可用于反向索引。\n",
    "\n",
    "#### Sorting | 排序\n",
    "- Quicksort can be implemented for sorting. | 可以使用快速排序算法进行排序。\n",
    "- Python’s built-in `sorted()` uses Timsort. | Python 内置 `sorted()` 使用 Timsort 算法。"
   ]
  },
  {
   "cell_type": "markdown",
   "id": "511ed57e-ffc2-43f1-a379-7560b0845674",
   "metadata": {},
   "source": [
    "### 4. Mutation and Aliasing | 变异与别名\n",
    "#### Mutation | 变异\n",
    "- Lists are mutable, modifying one reference affects all aliases. | 列表是可变的，修改一个引用会影响所有别名。"
   ]
  },
  {
   "cell_type": "markdown",
   "id": "b772ba97-3d06-43cc-8a17-c9ba319338ba",
   "metadata": {},
   "source": [
    "Example"
   ]
  },
  {
   "cell_type": "code",
   "execution_count": 21,
   "id": "273ad4b7-ca86-40a2-834b-a59bded7e370",
   "metadata": {},
   "outputs": [
    {
     "name": "stdout",
     "output_type": "stream",
     "text": [
      "x is ['hi']\n",
      "y is ['hi', 'bye']\n",
      "x is ['hi', 'bye']\n"
     ]
    }
   ],
   "source": [
    "x = ['hi']\n",
    "print('x is',x)\n",
    "# Output: ['hi']\n",
    "y = x  #this is aliasing\n",
    "y += ['bye']\n",
    "print('y is', y)\n",
    "# Output: ['hi', 'bye']\n",
    "print('x is',x)"
   ]
  },
  {
   "cell_type": "markdown",
   "id": "5ea06f7c-52a6-4da5-8eaf-bc12fa222f5b",
   "metadata": {},
   "source": [
    "Why x is changed?\n",
    "\n",
    "It’s mutability in action. Whenever you assign a variable to another variable of mutable datatype, any changes to the data are reflected by both variables. The new variable is just an alias for the old variable， but this is **only true for mutable datatypes**.  \n",
    "这就是可变性作用的体现。当你将一个变量赋值给另一个可变数据类型的变量时，对数据的任何更改都会反映在两个变量中。新的变量只是旧变量的别名，但这仅适用于可变数据类型。\n",
    "\n",
    "Try the example below and explain why the value of a is not changed."
   ]
  },
  {
   "cell_type": "code",
   "execution_count": 23,
   "id": "f285d40a-8244-4e01-8d07-bf1154e1fdfa",
   "metadata": {},
   "outputs": [
    {
     "name": "stdout",
     "output_type": "stream",
     "text": [
      "True\n"
     ]
    }
   ],
   "source": [
    "print(id(x)==id(y))"
   ]
  },
  {
   "cell_type": "markdown",
   "id": "03d970f4-166e-4945-9123-cf8c4d7f5cb5",
   "metadata": {},
   "source": [
    "1.\tx = ['hi'] creates a list x with a single string 'hi'.\n",
    "- x is ['hi'].\n",
    "2.\ty = x assigns y to reference the same list as x. This means both x and y point to the same memory location (the same list).\n",
    "3.\ty += ['bye'] modifies the list in place by adding 'bye' to it. Since y and x refer to the same list, this change is reflected in both y and x.\n",
    "4.\tAfter y += ['bye'], both y and x now contain ['hi', 'bye']."
   ]
  },
  {
   "cell_type": "code",
   "execution_count": null,
   "id": "6ab968e4-902e-4fab-ac71-f4bffa2c46e7",
   "metadata": {},
   "outputs": [],
   "source": [
    "- Tuples are immutable. | 元组是不可变的。\n",
    "\n",
    "#### Aliasing | 别名\n",
    "- Assigning one list to another creates an alias. | 将列表赋值给另一个变量会创建别名。\n",
    "Example | 示例:"
   ]
  },
  {
   "cell_type": "code",
   "execution_count": 18,
   "id": "ef552d7a-08d7-4ba4-9da3-94a859748443",
   "metadata": {},
   "outputs": [
    {
     "name": "stdout",
     "output_type": "stream",
     "text": [
      "True\n",
      "True\n"
     ]
    }
   ],
   "source": [
    "a = [10, 20, 30, 40]\n",
    "b = a\n",
    "print(a is b)  # True\n",
    "print(a == b)  # True"
   ]
  },
  {
   "cell_type": "markdown",
   "id": "0d02f806-9c5b-4bbe-9f8c-bdc74f27e2ac",
   "metadata": {},
   "source": [
    "## 5. Different Methods to Operate on a Sequence | 操作序列的不同方法\n",
    "#### Membership Check | 成员检查\n",
    "- `in` and `not in` check if an element exists. | `in` 和 `not in` 检查元素是否存在。\n",
    "\n",
    "#### Common Attributes | 共有方法\n",
    "- `count(value)`: Returns occurrences of `value`. | `count(value)`: 返回 `value` 出现的次数。\n",
    "- `index(value)`: Returns first index of `value`. | `index(value)`: 返回 `value` 第一次出现的索引。\n",
    "\n",
    "#### List-Specific Attributes | 列表特有方法\n",
    "- `append()`, `clear()`, `copy()`, `extend()`, `insert()`, `pop()`, `remove()`, `reverse()`, `sort()`.\n",
    "- Most methods mutate the list, except `copy()`. | 除 `copy()` 外，大多数方法都会修改列表。\n",
    "\n",
    "#### Tuple-Specific Attributes | 元组特有方法\n",
    "- Tuples have no public methods except `count` and `index`. | 除 `count` 和 `index` 外，元组没有其他公有方法。\n",
    "- Tuples can be copied using slicing. | 可以使用切片复制元组:\n",
    "  ```python\n",
    "  b = a[::-1]  # 创建一个反向副本\n",
    "  ```"
   ]
  },
  {
   "cell_type": "markdown",
   "id": "1b42b17b-03a3-4007-980d-1d4c58dd3aa0",
   "metadata": {},
   "source": [
    "\n",
    "### Summary | 总结\n",
    "- This lecture covered the creation, access, mutation, and operations of tuples and lists in Python. | 本次讲座介绍了 Python 中元组和列表的创建、访问、变异和操作。\n",
    "- Lists are mutable, while tuples are immutable. | 列表是可变的，而元组是不可变的。\n",
    "- Understanding these data types is essential for handling sequences efficiently. | 理解这些数据类型对于高效处理序列数据至关重要。\n"
   ]
  },
  {
   "cell_type": "code",
   "execution_count": null,
   "id": "5dc5ed79-f031-46b9-83fa-586401cdcca7",
   "metadata": {},
   "outputs": [],
   "source": []
  },
  {
   "cell_type": "code",
   "execution_count": null,
   "id": "81213e3d-ac15-4b56-9499-eb30fe1bfed2",
   "metadata": {},
   "outputs": [],
   "source": []
  }
 ],
 "metadata": {
  "kernelspec": {
   "display_name": "Python 3 (ipykernel)",
   "language": "python",
   "name": "python3"
  },
  "language_info": {
   "codemirror_mode": {
    "name": "ipython",
    "version": 3
   },
   "file_extension": ".py",
   "mimetype": "text/x-python",
   "name": "python",
   "nbconvert_exporter": "python",
   "pygments_lexer": "ipython3",
   "version": "3.12.2"
  }
 },
 "nbformat": 4,
 "nbformat_minor": 5
}
