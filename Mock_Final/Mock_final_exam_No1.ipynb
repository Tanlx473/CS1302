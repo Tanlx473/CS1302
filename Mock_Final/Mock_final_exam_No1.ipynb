{
 "cells": [
  {
   "cell_type": "code",
   "execution_count": 3,
   "id": "e22d7384-601b-4d32-9169-ca12cf471b4d",
   "metadata": {},
   "outputs": [
    {
     "name": "stdout",
     "output_type": "stream",
     "text": [
      "[1]\n",
      "[1, 1]\n",
      "[1, 2, 1]\n",
      "[1, 3, 3, 1]\n",
      "[1, 4, 6, 4, 1]\n",
      "[1, 5, 10, 10, 5, 1]\n",
      "[1, 6, 15, 20, 15, 6, 1]\n",
      "[1, 7, 21, 35, 35, 21, 7, 1]\n",
      "[1, 8, 28, 56, 70, 56, 28, 8, 1]\n",
      "[1, 9, 36, 84, 126, 126, 84, 36, 9, 1]\n"
     ]
    }
   ],
   "source": [
    "def tiangles():\n",
    "    row = [1]\n",
    "    while True:\n",
    "        yield row\n",
    "        row = [1] + [row[i] + row[i + 1] for i in range(len(row)-1)]+ [1]\n",
    "\n",
    "x = tiangles()\n",
    "print(next(x))\n",
    "print(next(x))\n",
    "print(next(x))\n",
    "print(next(x))\n",
    "print(next(x))\n",
    "print(next(x))\n",
    "print(next(x))\n",
    "print(next(x))\n",
    "print(next(x))\n",
    "print(next(x))"
   ]
  },
  {
   "cell_type": "code",
   "execution_count": 14,
   "id": "a6dc1ee1-949f-4100-9566-2a2275898c70",
   "metadata": {},
   "outputs": [
    {
     "name": "stdout",
     "output_type": "stream",
     "text": [
      "5\n"
     ]
    }
   ],
   "source": [
    "def max_sublist_sum(seq):\n",
    "    m_s_s = terminate = seq[0]\n",
    "    for i in range(1, len(seq)):\n",
    "        terminate = max(seq[i], terminate + seq[i])\n",
    "        m_s_s = max(terminate, m_s_s)\n",
    "\n",
    "    return m_s_s\n",
    "\n",
    "print(max_sublist_sum([-6,-4,4,1,-2,2]))"
   ]
  },
  {
   "cell_type": "code",
   "execution_count": 16,
   "id": "61f3014f-d6f2-43a4-bee0-349fae7c7d48",
   "metadata": {},
   "outputs": [
    {
     "data": {
      "text/plain": [
       "[1, 2, 3, 4]"
      ]
     },
     "execution_count": 16,
     "metadata": {},
     "output_type": "execute_result"
    }
   ],
   "source": [
    "def merge(left, right):\n",
    "    a = list(set(left))\n",
    "    for i in right:\n",
    "        a.append(i)\n",
    "    a = set(a)\n",
    "    return list(a)\n",
    "\n",
    "left = [1,3]\n",
    "right = [2,4]\n",
    "merge(left, right)"
   ]
  },
  {
   "cell_type": "code",
   "execution_count": 21,
   "id": "6d1bcc4a-43ac-41c1-9676-9e229cdb1d1e",
   "metadata": {},
   "outputs": [
    {
     "data": {
      "text/plain": [
       "[1, 2, 3, 4, 5]"
      ]
     },
     "execution_count": 21,
     "metadata": {},
     "output_type": "execute_result"
    }
   ],
   "source": [
    "def mergesort(seq):\n",
    "    pivot = len(seq) // 2\n",
    "    if len(seq) <= 1:\n",
    "        return seq\n",
    "    return merge(mergesort(seq[0:pivot]),mergesort(seq[pivot:len(seq)]))\n",
    "\n",
    "seq = [3,5,2,4,2,1]\n",
    "mergesort(seq)"
   ]
  },
  {
   "cell_type": "code",
   "execution_count": 22,
   "id": "ebd3faf0-e108-4c93-a990-449ec705eef3",
   "metadata": {},
   "outputs": [
    {
     "name": "stdout",
     "output_type": "stream",
     "text": [
      "(23, 12)\n",
      "(10, 20)\n",
      "No solution\n"
     ]
    }
   ],
   "source": [
    "def solve(numheads, numlegs):\n",
    "    # i: Num of Chickens\n",
    "    r = 'No solution'\n",
    "    for i in range(0, numheads + 1):\n",
    "        current_numlegs  = i * 2 + 4 * (numheads - i)\n",
    "        if current_numlegs == numlegs:\n",
    "            r = (i, numheads - i)\n",
    "\n",
    "    return r\n",
    "\n",
    "print(solve(35, 94))\n",
    "print(solve(30, 100))\n",
    "print(solve(35, 93))"
   ]
  },
  {
   "cell_type": "code",
   "execution_count": 26,
   "id": "e6431d72-b8bf-4370-b154-72ceba0e9b6d",
   "metadata": {},
   "outputs": [
    {
     "name": "stdout",
     "output_type": "stream",
     "text": [
      "True\n",
      "False\n"
     ]
    }
   ],
   "source": [
    "def matches(self):\n",
    "    left = 0\n",
    "    for i in self:\n",
    "        if i == \"(\":\n",
    "            left += 1\n",
    "    for j in self:\n",
    "        if j == \")\":\n",
    "            left -= 1\n",
    "\n",
    "    return not left\n",
    "\n",
    "print(matches(\"(hello(welcom(to)))\"))\n",
    "print(matches(\"((hello(welcom(to)))\"))"
   ]
  },
  {
   "cell_type": "code",
   "execution_count": 28,
   "id": "2799e1fb-22e0-4044-bda1-dde62a017e4a",
   "metadata": {},
   "outputs": [
    {
     "name": "stdin",
     "output_type": "stream",
     "text": [
      "Num 5\n"
     ]
    },
    {
     "name": "stdout",
     "output_type": "stream",
     "text": [
      "501\n"
     ]
    }
   ],
   "source": [
    "def f(n):\n",
    "    if n == 0: return 1\n",
    "    return f(n-1) + 100\n",
    "\n",
    "num = int(input(\"Num\"))\n",
    "print(f(num))"
   ]
  },
  {
   "cell_type": "code",
   "execution_count": 32,
   "id": "a6b8664f-a038-4755-923e-25b922a2598c",
   "metadata": {},
   "outputs": [
    {
     "name": "stdout",
     "output_type": "stream",
     "text": [
      "{'x': 10, 'z': 30, 'y': 20}\n"
     ]
    }
   ],
   "source": [
    "def concat_two_dicts(a,b):\n",
    "    r = a.copy()\n",
    "    \n",
    "    for k,v in b.items():\n",
    "        r.setdefault(k,v)\n",
    "\n",
    "    return r\n",
    "\n",
    "    \n",
    "a = {\"x\": 10, \"z\": 30}\n",
    "b = {\"y\": 20, \"z\": 40}\n",
    "print(concat_two_dicts(a,b))"
   ]
  },
  {
   "cell_type": "code",
   "execution_count": 34,
   "id": "2278f38d-a845-4de2-8150-3c780818ffe2",
   "metadata": {},
   "outputs": [
    {
     "data": {
      "text/plain": [
       "'There is/are 2 odd and 1 even number(s).'"
      ]
     },
     "execution_count": 34,
     "metadata": {},
     "output_type": "execute_result"
    }
   ],
   "source": [
    "def checkValue(*a):\n",
    "    ro = re = 0\n",
    "    for i in a:\n",
    "        if i % 2 == 1:\n",
    "            ro += 1\n",
    "        else:\n",
    "            re += 1\n",
    "\n",
    "    return f\"There is/are {ro} odd and {re} even number(s).\"\n",
    "\n",
    "checkValue(7,8,9)"
   ]
  },
  {
   "cell_type": "code",
   "execution_count": 36,
   "id": "0cbbf314-2110-42ea-bfbc-ece30e4b66ad",
   "metadata": {},
   "outputs": [
    {
     "data": {
      "text/plain": [
       "[1, 2, 4, 6, 8, 9]"
      ]
     },
     "execution_count": 36,
     "metadata": {},
     "output_type": "execute_result"
    }
   ],
   "source": [
    "def deduped(input_list):\n",
    "    r = set(input_list)\n",
    "    return list(r)\n",
    "\n",
    "input_list = [1,2,2,4,4,6,9,8]\n",
    "deduped(input_list)"
   ]
  },
  {
   "cell_type": "code",
   "execution_count": 37,
   "id": "76800f52-71cd-4fd9-a058-c305c2e33c84",
   "metadata": {},
   "outputs": [
    {
     "name": "stdout",
     "output_type": "stream",
     "text": [
      "[24, 35, 70, 155]\n"
     ]
    }
   ],
   "source": [
    "def shortened(input_list,pos):\n",
    "    r = []\n",
    "    for i in range(len(input_list)):\n",
    "        if not i in pos:\n",
    "            r.append(input_list[i])\n",
    "\n",
    "    return r\n",
    "\n",
    "    \n",
    "input_list = [12,24,35,70,88,120,155]\n",
    "pos = [0,4,5]\n",
    "print(shortened(input_list,pos))"
   ]
  },
  {
   "cell_type": "code",
   "execution_count": null,
   "id": "fff11490-427e-4e73-8456-962e2202c333",
   "metadata": {},
   "outputs": [],
   "source": []
  }
 ],
 "metadata": {
  "kernelspec": {
   "display_name": "Python 3 (ipykernel)",
   "language": "python",
   "name": "python3"
  },
  "language_info": {
   "codemirror_mode": {
    "name": "ipython",
    "version": 3
   },
   "file_extension": ".py",
   "mimetype": "text/x-python",
   "name": "python",
   "nbconvert_exporter": "python",
   "pygments_lexer": "ipython3",
   "version": "3.12.2"
  }
 },
 "nbformat": 4,
 "nbformat_minor": 5
}
