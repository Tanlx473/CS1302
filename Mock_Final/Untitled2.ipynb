{
 "cells": [
  {
   "cell_type": "markdown",
   "id": "f6fef7ef-c42f-4bd7-9bb2-ed87c2a6e4db",
   "metadata": {},
   "source": [
    "## Question 6 (88888888Marks)\n",
    "Longest Increasing Subsequence, (abbriviation:LIS). A subsequence is a sequence derived by deleting some or no elements from the original sequence without changing the order of the remaining elements. A longest increasing subsequence (LIS) is the longest subsequence where each element is strictly greater than the previous one. Now definea function `get_LIS(seq)` that returns **the length** of the longest increasing subsequence (LIS) from a given list of numbers seq.\n",
    "\n",
    "For example:\n",
    "- Given [10, 9, 2, 5, 3, 7, 101, 18], one of the longest increasing subsequences is [2, 3, 7, 101], which has length 4.\n",
    "- Given [7, 7, 7, 7], the LIS is [7] with length 1."
   ]
  },
  {
   "cell_type": "code",
   "execution_count": 1,
   "id": "780ca7ae-c802-4be5-b616-adf4b53d8e3e",
   "metadata": {},
   "outputs": [
    {
     "ename": "SyntaxError",
     "evalue": "invalid syntax (4268130813.py, line 5)",
     "output_type": "error",
     "traceback": [
      "\u001b[0;36m  Cell \u001b[0;32mIn[1], line 5\u001b[0;36m\u001b[0m\n\u001b[0;31m    for i in\u001b[0m\n\u001b[0m             ^\u001b[0m\n\u001b[0;31mSyntaxError\u001b[0m\u001b[0;31m:\u001b[0m invalid syntax\n"
     ]
    }
   ],
   "source": [
    "def get_LIS(seq):\n",
    "    if not seq:\n",
    "        return 0\n",
    "\n",
    "    for i in "
   ]
  },
  {
   "cell_type": "code",
   "execution_count": null,
   "id": "ed91d0db-2b45-4cf2-9637-183267c69d93",
   "metadata": {},
   "outputs": [],
   "source": [
    "assert get_LIS([10, 9, 2, 5, 3, 7, 101, 18]) == 4\n",
    "\n",
    "assert get_LIS([0, 1, 0, 3, 2, 3] ==  4\n",
    "\n",
    "assert get_LIS([7,7,7,7,7,7]) == 1\n",
    "\n",
    "assert get_LIS([]) == 0"
   ]
  },
  {
   "cell_type": "code",
   "execution_count": 2,
   "id": "340a9096-98a1-4bb2-9f60-d28fe11978cc",
   "metadata": {},
   "outputs": [
    {
     "name": "stdout",
     "output_type": "stream",
     "text": [
      " 1  2  3  4\n",
      " 8  7  6  5\n",
      " 9 10 11 12\n",
      "16 15 14 13\n"
     ]
    }
   ],
   "source": [
    "def snake_matrix(n):\n",
    "    matrix = [[0] * n for _ in range(n)]\n",
    "    i = 1\n",
    "    row = 0\n",
    "    while i <= n*n:\n",
    "        for j in range(n):\n",
    "            matrix[row][j] = i\n",
    "            i += 1\n",
    "        row += 1\n",
    "        for j in range(n-1, -1, -1):\n",
    "            matrix[row][j] = i\n",
    "            i += 1\n",
    "        row += 1\n",
    "\n",
    "    width = len(str(n*n))\n",
    "    for r in matrix:\n",
    "        print(\" \".join(str(x).rjust(width)  for x in r))\n",
    "\n",
    "snake_matrix(4)"
   ]
  },
  {
   "cell_type": "markdown",
   "id": "589adbf1-f28e-44c1-ba74-84b013b3af58",
   "metadata": {},
   "source": [
    "## Question 7 (18283846 Marks)\n",
    "In order to defend against missile attacks from an enemy country, a certain country developed a missile interception system. However, this missile interception system has a defect: although the first shell of it can reach any height, each subsequent shell cannot be higher than the previous one. One day, the radar detected the incoming missile from the enemy country. Since the system was still in the trial stage, there was only one system, so it was possible that not all the missiles could be intercepted. \n",
    "Input the heights at which the incoming missiles fly one by one, and calculate how many missiles this system can intercept at most. If all missiles need to be intercepted, how many sets of this missile interception system should be equipped at least?\n",
    "Input format: A list composed of several integers.\n",
    "Output format: The first number represents how many missiles this system can intercept at most, and the second number represents how many sets of this missile interception system should be equipped at least if all missiles need to be intercepted."
   ]
  },
  {
   "cell_type": "code",
   "execution_count": 3,
   "id": "05eb7044-4718-455a-8547-c9c744fdbe0c",
   "metadata": {},
   "outputs": [
    {
     "data": {
      "text/plain": [
       "{'max': 6, 'set': 2}"
      ]
     },
     "execution_count": 3,
     "metadata": {},
     "output_type": "execute_result"
    }
   ],
   "source": [
    "def anti_missle(s):\n",
    "    # Get Longest un-increased sequence:\n",
    "    def get_lus(seq):\n",
    "        lus_e_i = [1] *len(seq)\n",
    "\n",
    "        for i in range(len(seq)):\n",
    "            for j in range(i):\n",
    "                if seq[i] <= seq[j]:\n",
    "                    lus_e_i[i] = max(lus_e_i[i], lus_e_i[j] + 1)\n",
    "        return max(lus_e_i)\n",
    "\n",
    "    # Get minimal number of systems needed\n",
    "    def get_systems(seq):\n",
    "        systems = []\n",
    "        for height in seq:\n",
    "            placed = False\n",
    "            for i in range(len(systems)):\n",
    "                if systems[i] >= height:\n",
    "                    systems[i] = height\n",
    "                    placed = True\n",
    "                    break\n",
    "            if not placed:\n",
    "                systems.append(height)\n",
    "        return len(systems)\n",
    "\n",
    "    return {\"max\" : get_lus(s), \"set\" : get_systems(s)}\n",
    "    \n",
    "anti_missle([389,207, 155, 300, 299, 170, 158, 65])\n"
   ]
  },
  {
   "cell_type": "code",
   "execution_count": 5,
   "id": "271b9361-e78f-46bc-a377-3d30e9e34b26",
   "metadata": {},
   "outputs": [
    {
     "name": "stdin",
     "output_type": "stream",
     "text": [
      " 389 207 155 300 299 170 158 65\n"
     ]
    },
    {
     "name": "stdout",
     "output_type": "stream",
     "text": [
      "5\n",
      "3\n"
     ]
    },
    {
     "data": {
      "text/plain": [
       "{'max': 5, 'set': 3}"
      ]
     },
     "execution_count": 5,
     "metadata": {},
     "output_type": "execute_result"
    }
   ],
   "source": [
    "s = list(map(int, input().split()))\n",
    "\n",
    "def anti_missle(s):\n",
    "    # Get Longest Non-Increasing Subsequence\n",
    "    def get_lus(seq):\n",
    "        lus_e_i = [1] * len(seq)\n",
    "        for i in range(len(seq)):\n",
    "            for j in range(i):\n",
    "                if seq[i] <= seq[j]:\n",
    "                    lus_e_i[i] = max(lus_e_i[i], lus_e_i[j] + 1)\n",
    "        return max(lus_e_i)\n",
    "\n",
    "    # Get minimal number of systems needed\n",
    "    def get_systems(seq):\n",
    "        systems = []\n",
    "        for height in seq:\n",
    "            placed = False\n",
    "            for i in range(len(systems)):\n",
    "                if systems[i] >= height:\n",
    "                    systems[i] = height\n",
    "                    placed = True\n",
    "                    break\n",
    "            if not placed:\n",
    "                systems.append(height)\n",
    "        return len(systems)\n",
    "\n",
    "    # 输出\n",
    "    print(get_lus(s))\n",
    "    print(get_systems(s))\n",
    "    \n",
    "    return {\"max\" : get_lus(s), \"set\" : get_systems(s)}\n",
    "\n",
    "anti_missle(s)"
   ]
  },
  {
   "cell_type": "code",
   "execution_count": 4,
   "id": "08682f12-a5f1-4218-afb4-46a440e51d88",
   "metadata": {},
   "outputs": [],
   "source": [
    "assert anti_missle([389,207, 155, 300, 299, 170, 158, 65]) == {'max':6, 'set' : 2}"
   ]
  }
 ],
 "metadata": {
  "kernelspec": {
   "display_name": "Python 3 (ipykernel)",
   "language": "python",
   "name": "python3"
  },
  "language_info": {
   "codemirror_mode": {
    "name": "ipython",
    "version": 3
   },
   "file_extension": ".py",
   "mimetype": "text/x-python",
   "name": "python",
   "nbconvert_exporter": "python",
   "pygments_lexer": "ipython3",
   "version": "3.12.2"
  }
 },
 "nbformat": 4,
 "nbformat_minor": 5
}
