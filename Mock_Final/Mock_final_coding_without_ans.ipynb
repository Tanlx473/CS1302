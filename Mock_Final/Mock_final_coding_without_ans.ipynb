{
 "cells": [
  {
   "cell_type": "markdown",
   "id": "ea82f342-6bd0-48f4-a194-57c1d8a0a480",
   "metadata": {},
   "source": [
    "## Question 1 （4 marks）:\n",
    "Implement a function flatten_list(nested_list) that takes a list which may contain nested lists and returns a new list with all values flattened into a single level (order should be preserved). For example, 'flatten_list([1, [2, [3, 4]], 5])' should return '[1, 2, 3, 4, 5]'."
   ]
  },
  {
   "cell_type": "code",
   "execution_count": 11,
   "id": "26f9c46f-14ba-44ed-859b-d8cc897bcf56",
   "metadata": {
    "ExecuteTime": {
     "end_time": "2025-05-08T16:49:41.086247Z",
     "start_time": "2025-05-08T16:49:41.084149Z"
    }
   },
   "outputs": [],
   "source": [
    "def flatten_list(nested_list):\n",
    "    #YOUR CODE HERE\n",
    "    pass"
   ]
  },
  {
   "cell_type": "code",
   "execution_count": 12,
   "id": "202e6699-a701-40ef-99d6-376480bcd544",
   "metadata": {
    "ExecuteTime": {
     "end_time": "2025-05-08T16:49:41.274907Z",
     "start_time": "2025-05-08T16:49:41.268141Z"
    }
   },
   "outputs": [
    {
     "ename": "AssertionError",
     "evalue": "",
     "output_type": "error",
     "traceback": [
      "\u001b[0;31m---------------------------------------------------------------------------\u001b[0m",
      "\u001b[0;31mAssertionError\u001b[0m                            Traceback (most recent call last)",
      "Cell \u001b[0;32mIn[12], line 2\u001b[0m\n\u001b[1;32m      1\u001b[0m \u001b[38;5;66;03m# test\u001b[39;00m\n\u001b[0;32m----> 2\u001b[0m \u001b[38;5;28;01massert\u001b[39;00m flatten_list([\u001b[38;5;241m1\u001b[39m, [\u001b[38;5;241m2\u001b[39m, [\u001b[38;5;241m3\u001b[39m, \u001b[38;5;241m4\u001b[39m]], \u001b[38;5;241m5\u001b[39m]) \u001b[38;5;241m==\u001b[39m [\u001b[38;5;241m1\u001b[39m, \u001b[38;5;241m2\u001b[39m, \u001b[38;5;241m3\u001b[39m, \u001b[38;5;241m4\u001b[39m, \u001b[38;5;241m5\u001b[39m]\n\u001b[1;32m      4\u001b[0m \u001b[38;5;28;01massert\u001b[39;00m flatten_list([\u001b[38;5;241m1\u001b[39m, [\u001b[38;5;241m2\u001b[39m, [], \u001b[38;5;241m3\u001b[39m], \u001b[38;5;241m4\u001b[39m]) \u001b[38;5;241m==\u001b[39m [\u001b[38;5;241m1\u001b[39m, \u001b[38;5;241m2\u001b[39m, \u001b[38;5;241m3\u001b[39m, \u001b[38;5;241m4\u001b[39m]\n",
      "\u001b[0;31mAssertionError\u001b[0m: "
     ]
    }
   ],
   "source": [
    "# test\n",
    "assert flatten_list([1, [2, [3, 4]], 5]) == [1, 2, 3, 4, 5]\n",
    "\n",
    "assert flatten_list([1, [2, [], 3], 4]) == [1, 2, 3, 4]\n"
   ]
  },
  {
   "cell_type": "markdown",
   "id": "68f7fec9-52fc-4051-b728-f3d7d7af7e58",
   "metadata": {},
   "source": [
    "## Question 2 （4 marks）:\n",
    "Create a generator function `multiple_fibonacci_gen(start, k)` that yields the first k numbers of the multiple_fibonacci sequence, starting from `start`.\n",
    "Explonation: what is multiple_fibonacci sequence.\n",
    "The recurrence formula in fibbonacci sequence $a_n$ is:\n",
    "$$\n",
    "a_n = \n",
    "\\begin{cases}\n",
    "0 & n=1 \\kern1em \\text{(base case)}\\\\\n",
    "1 & n=2 \\kern1em \\text{(base case)}\\\\\n",
    "a_{n-1}+a_{n-2} & n>2\n",
    "\\end{cases}$$\n",
    "and the recurrence formula in multiple_fibbonacci sequence\n",
    "$$\n",
    "a_n = \n",
    "\\begin{cases}\n",
    "1 & n=1 \\kern1em \\text{(base case)}\\\\\n",
    "\\text{start} & n=2 \\kern1em \\text{(base case from parameter)}\\\\\n",
    "a_{n-1} \\times a_{n-2} & n>2\n",
    "\\end{cases}$$"
   ]
  },
  {
   "cell_type": "code",
   "execution_count": 13,
   "id": "28c3af22-4c60-4b1f-9c12-3f84961b0d4e",
   "metadata": {
    "ExecuteTime": {
     "end_time": "2025-05-08T16:49:41.600474Z",
     "start_time": "2025-05-08T16:49:41.598699Z"
    }
   },
   "outputs": [],
   "source": [
    "def multiple_fibonacci_gen(start, k):\n",
    "    # YOUR CODE HERE\n",
    "    pass"
   ]
  },
  {
   "cell_type": "code",
   "execution_count": 14,
   "id": "1f5a9275-348e-470f-ba60-d34db83ffe1d",
   "metadata": {
    "ExecuteTime": {
     "end_time": "2025-05-08T16:49:41.809060Z",
     "start_time": "2025-05-08T16:49:41.801218Z"
    }
   },
   "outputs": [
    {
     "ename": "TypeError",
     "evalue": "'NoneType' object is not iterable",
     "output_type": "error",
     "traceback": [
      "\u001b[0;31m---------------------------------------------------------------------------\u001b[0m",
      "\u001b[0;31mTypeError\u001b[0m                                 Traceback (most recent call last)",
      "Cell \u001b[0;32mIn[14], line 2\u001b[0m\n\u001b[1;32m      1\u001b[0m \u001b[38;5;66;03m# tests:\u001b[39;00m\n\u001b[0;32m----> 2\u001b[0m \u001b[38;5;28;01massert\u001b[39;00m \u001b[38;5;28;43mlist\u001b[39;49m\u001b[43m(\u001b[49m\u001b[43mmultiple_fibonacci_gen\u001b[49m\u001b[43m(\u001b[49m\u001b[38;5;241;43m2\u001b[39;49m\u001b[43m,\u001b[49m\u001b[43m \u001b[49m\u001b[38;5;241;43m6\u001b[39;49m\u001b[43m)\u001b[49m\u001b[43m)\u001b[49m \u001b[38;5;241m==\u001b[39m [\u001b[38;5;241m1\u001b[39m, \u001b[38;5;241m2\u001b[39m, \u001b[38;5;241m2\u001b[39m, \u001b[38;5;241m4\u001b[39m, \u001b[38;5;241m8\u001b[39m, \u001b[38;5;241m32\u001b[39m]\n\u001b[1;32m      4\u001b[0m \u001b[38;5;28;01massert\u001b[39;00m \u001b[38;5;28mlist\u001b[39m(multiple_fibonacci_gen(\u001b[38;5;241m3\u001b[39m, \u001b[38;5;241m5\u001b[39m)) \u001b[38;5;241m==\u001b[39m [\u001b[38;5;241m1\u001b[39m, \u001b[38;5;241m3\u001b[39m, \u001b[38;5;241m3\u001b[39m, \u001b[38;5;241m9\u001b[39m, \u001b[38;5;241m27\u001b[39m]\n\u001b[1;32m      6\u001b[0m \u001b[38;5;28;01massert\u001b[39;00m \u001b[38;5;28mlist\u001b[39m(multiple_fibonacci_gen(\u001b[38;5;241m4\u001b[39m, \u001b[38;5;241m9\u001b[39m)) \u001b[38;5;241m==\u001b[39m [\u001b[38;5;241m1\u001b[39m, \u001b[38;5;241m4\u001b[39m, \u001b[38;5;241m4\u001b[39m, \u001b[38;5;241m16\u001b[39m, \u001b[38;5;241m64\u001b[39m, \u001b[38;5;241m1024\u001b[39m, \u001b[38;5;241m65536\u001b[39m, \u001b[38;5;241m67108864\u001b[39m, \u001b[38;5;241m4398046511104\u001b[39m]\n",
      "\u001b[0;31mTypeError\u001b[0m: 'NoneType' object is not iterable"
     ]
    }
   ],
   "source": [
    "# tests:\n",
    "assert list(multiple_fibonacci_gen(2, 6)) == [1, 2, 2, 4, 8, 32]\n",
    "\n",
    "assert list(multiple_fibonacci_gen(3, 5)) == [1, 3, 3, 9, 27]\n",
    "\n",
    "assert list(multiple_fibonacci_gen(4, 9)) == [1, 4, 4, 16, 64, 1024, 65536, 67108864, 4398046511104]"
   ]
  },
  {
   "cell_type": "markdown",
   "id": "c827b95a-cb04-4bbe-9810-b03279363bf3",
   "metadata": {},
   "source": [
    "## Question 3 (10086 Marks)\n",
    "Write a **recursive** function sum_digits(n) that returns the sum of all the digits of a non-negative integer n. The function should handle multi-digit numbers by calling itself. For example, sum_digits(253) should return 10 (since 2+5+3=10)."
   ]
  },
  {
   "cell_type": "code",
   "execution_count": 15,
   "id": "2376dfb5-ecb6-4378-93a5-20809cd267f0",
   "metadata": {
    "ExecuteTime": {
     "end_time": "2025-05-08T16:49:42.133639Z",
     "start_time": "2025-05-08T16:49:42.132151Z"
    }
   },
   "outputs": [],
   "source": [
    "def sum_digits(n):\n",
    "    #YOUR CODE HERE\n",
    "    pass"
   ]
  },
  {
   "cell_type": "code",
   "execution_count": 16,
   "id": "138cca1c-02f4-4a81-be6f-9baaf9d4708b",
   "metadata": {
    "ExecuteTime": {
     "end_time": "2025-05-08T16:49:42.305906Z",
     "start_time": "2025-05-08T16:49:42.299931Z"
    }
   },
   "outputs": [
    {
     "ename": "AssertionError",
     "evalue": "",
     "output_type": "error",
     "traceback": [
      "\u001b[0;31m---------------------------------------------------------------------------\u001b[0m",
      "\u001b[0;31mAssertionError\u001b[0m                            Traceback (most recent call last)",
      "Cell \u001b[0;32mIn[16], line 2\u001b[0m\n\u001b[1;32m      1\u001b[0m \u001b[38;5;66;03m# test\u001b[39;00m\n\u001b[0;32m----> 2\u001b[0m \u001b[38;5;28;01massert\u001b[39;00m sum_digits(\u001b[38;5;241m0\u001b[39m) \u001b[38;5;241m==\u001b[39m \u001b[38;5;241m0\u001b[39m\n\u001b[1;32m      3\u001b[0m \u001b[38;5;28;01massert\u001b[39;00m sum_digits(\u001b[38;5;241m253\u001b[39m) \u001b[38;5;241m==\u001b[39m \u001b[38;5;241m10\u001b[39m\n\u001b[1;32m      4\u001b[0m \u001b[38;5;28;01massert\u001b[39;00m sum_digits(\u001b[38;5;241m50130\u001b[39m) \u001b[38;5;241m==\u001b[39m \u001b[38;5;241m9\u001b[39m \n",
      "\u001b[0;31mAssertionError\u001b[0m: "
     ]
    }
   ],
   "source": [
    "# test\n",
    "assert sum_digits(0) == 0\n",
    "assert sum_digits(253) == 10\n",
    "assert sum_digits(50130) == 9 "
   ]
  },
  {
   "cell_type": "markdown",
   "id": "3bd80862-4fef-41d6-87a4-be1606559d1e",
   "metadata": {},
   "source": [
    "## Question 4 (9999 Marks)\n",
    "Define a decorator function debug_calls(func) that prints a message before and after a function call. The decorator should print the function’s name and arguments before calling the function, and print the function’s name and return value after. Use this decorator on a sample function to illustrate its effect.\n",
    "\n",
    "Notes: Use `func.__name__` to get the name of function"
   ]
  },
  {
   "cell_type": "code",
   "execution_count": 17,
   "id": "19dee99b-141d-447b-ad95-cc3cf9888418",
   "metadata": {
    "ExecuteTime": {
     "end_time": "2025-05-08T16:49:42.667832Z",
     "start_time": "2025-05-08T16:49:42.666153Z"
    }
   },
   "outputs": [],
   "source": [
    "def debug_calls(func):\n",
    "    #YOUR CODE HERE\n",
    "    pass"
   ]
  },
  {
   "cell_type": "code",
   "execution_count": 18,
   "id": "b87a2a3d-46d6-43f8-979c-e1203544f9f1",
   "metadata": {
    "ExecuteTime": {
     "end_time": "2025-05-08T16:49:42.855402Z",
     "start_time": "2025-05-08T16:49:42.849877Z"
    }
   },
   "outputs": [
    {
     "ename": "TypeError",
     "evalue": "'NoneType' object is not callable",
     "output_type": "error",
     "traceback": [
      "\u001b[0;31m---------------------------------------------------------------------------\u001b[0m",
      "\u001b[0;31mTypeError\u001b[0m                                 Traceback (most recent call last)",
      "Cell \u001b[0;32mIn[18], line 6\u001b[0m\n\u001b[1;32m      2\u001b[0m \u001b[38;5;129m@debug_calls\u001b[39m\n\u001b[1;32m      3\u001b[0m \u001b[38;5;28;01mdef\u001b[39;00m\u001b[38;5;250m \u001b[39m\u001b[38;5;21mmultiply\u001b[39m(a, b):\n\u001b[1;32m      4\u001b[0m     \u001b[38;5;28;01mreturn\u001b[39;00m a \u001b[38;5;241m*\u001b[39m b\n\u001b[0;32m----> 6\u001b[0m result \u001b[38;5;241m=\u001b[39m \u001b[43mmultiply\u001b[49m\u001b[43m(\u001b[49m\u001b[38;5;241;43m3\u001b[39;49m\u001b[43m,\u001b[49m\u001b[43m \u001b[49m\u001b[38;5;241;43m4\u001b[39;49m\u001b[43m)\u001b[49m\n\u001b[1;32m      7\u001b[0m \u001b[38;5;66;03m# Expected output (order may vary slightly):\u001b[39;00m\n\u001b[1;32m      8\u001b[0m \u001b[38;5;66;03m# Calling multiply with args=(3, 4), kwargs={}\u001b[39;00m\n\u001b[1;32m      9\u001b[0m \u001b[38;5;66;03m# multiply returned 12\u001b[39;00m\n",
      "\u001b[0;31mTypeError\u001b[0m: 'NoneType' object is not callable"
     ]
    }
   ],
   "source": [
    "# test\n",
    "@debug_calls\n",
    "def multiply(a, b):\n",
    "    return a * b\n",
    "\n",
    "result = multiply(3, 4)\n",
    "# Expected output (order may vary slightly):\n",
    "# Calling multiply with args=(3, 4), kwargs={}\n",
    "# multiply returned 12"
   ]
  },
  {
   "cell_type": "markdown",
   "id": "f1737cde-70da-4550-95c7-cce3c4782d68",
   "metadata": {},
   "source": [
    "## Question 5 (10987 Marks)\n",
    "Implement a function `is_palindrome(s)` that returns True if the string s is a palindrome, and False otherwise. Ignore case and spaces (i.e., treat uppercase and lowercase as the same, and do not consider spaces). For example, \"RaceCar\" and \"never odd or even\" should be recognized as palindromes."
   ]
  },
  {
   "cell_type": "code",
   "execution_count": 19,
   "id": "b6b29574-fb97-4472-8323-e55c6c9ad757",
   "metadata": {
    "ExecuteTime": {
     "end_time": "2025-05-08T16:49:43.183185Z",
     "start_time": "2025-05-08T16:49:43.181574Z"
    }
   },
   "outputs": [],
   "source": [
    "def is_palindrome(s):\n",
    "    # YOUR CODE HERE\n",
    "    pass"
   ]
  },
  {
   "cell_type": "code",
   "execution_count": 20,
   "id": "0d03b4f6-1f8a-4576-811f-9a7256a0eb4d",
   "metadata": {
    "ExecuteTime": {
     "end_time": "2025-05-08T16:49:43.353920Z",
     "start_time": "2025-05-08T16:49:43.348285Z"
    }
   },
   "outputs": [
    {
     "ename": "AssertionError",
     "evalue": "",
     "output_type": "error",
     "traceback": [
      "\u001b[0;31m---------------------------------------------------------------------------\u001b[0m",
      "\u001b[0;31mAssertionError\u001b[0m                            Traceback (most recent call last)",
      "Cell \u001b[0;32mIn[20], line 2\u001b[0m\n\u001b[1;32m      1\u001b[0m \u001b[38;5;66;03m# test\u001b[39;00m\n\u001b[0;32m----> 2\u001b[0m \u001b[38;5;28;01massert\u001b[39;00m is_palindrome(\u001b[38;5;124m\"\u001b[39m\u001b[38;5;124mRaceCar\u001b[39m\u001b[38;5;124m\"\u001b[39m) \u001b[38;5;241m==\u001b[39m \u001b[38;5;28;01mTrue\u001b[39;00m\n\u001b[1;32m      4\u001b[0m \u001b[38;5;28;01massert\u001b[39;00m is_palindrome(\u001b[38;5;124m\"\u001b[39m\u001b[38;5;124mnever odd or even\u001b[39m\u001b[38;5;124m\"\u001b[39m) \u001b[38;5;241m==\u001b[39m \u001b[38;5;28;01mTrue\u001b[39;00m\n\u001b[1;32m      6\u001b[0m \u001b[38;5;28;01massert\u001b[39;00m is_palindrome(\u001b[38;5;124m\"\u001b[39m\u001b[38;5;124mHello\u001b[39m\u001b[38;5;124m\"\u001b[39m) \u001b[38;5;241m==\u001b[39m \u001b[38;5;28;01mFalse\u001b[39;00m\n",
      "\u001b[0;31mAssertionError\u001b[0m: "
     ]
    }
   ],
   "source": [
    "# test\n",
    "assert is_palindrome(\"RaceCar\") == True\n",
    "\n",
    "assert is_palindrome(\"never odd or even\") == True\n",
    "\n",
    "assert is_palindrome(\"Hello\") == False"
   ]
  },
  {
   "cell_type": "markdown",
   "id": "adee8090-0a3f-499f-9e3d-86923496af06",
   "metadata": {},
   "source": [
    "## Question 6 \n",
    "Define a function `snake_matrix(n)` that generates and **print directly** an n × n 2D list (matrix), filled with numbers from 1 to n×n in a snake-like order.  \n",
    "Neatly prints the matrix so that numbers are right-aligned and all columns are visually aligned is **optional**.   \n",
    "\n",
    "The first line is a sequence from left to right. Please see the following examples.\n",
    "  \n",
    "For `n = 4`, the printed matrix should look like:\n",
    "```\n",
    " 1  2  3  4\n",
    " 8  7  6  5\n",
    " 9 10 11 12\n",
    "16 15 14 13\n",
    "```\n",
    "For `n = 8`, the printed matrix should look like:\n",
    "```\n",
    " 1  2  3  4  5  6  7  8\n",
    "16 15 14 13 12 11 10  9\n",
    "17 18 19 20 21 22 23 24\n",
    "32 31 30 29 28 27 26 25\n",
    "33 34 35 36 37 38 39 40\n",
    "48 47 46 45 44 43 42 41\n",
    "49 50 51 52 53 54 55 56\n",
    "64 63 62 61 60 59 58 57\n",
    "```"
   ]
  },
  {
   "cell_type": "code",
   "execution_count": 21,
   "id": "f58e107f-d526-4590-83b3-900d6a162466",
   "metadata": {
    "ExecuteTime": {
     "end_time": "2025-05-08T16:49:43.702808Z",
     "start_time": "2025-05-08T16:49:43.701155Z"
    }
   },
   "outputs": [],
   "source": [
    "def snake_matrix(n):\n",
    "    # YOUR CODE HERE\n",
    "    pass"
   ]
  },
  {
   "cell_type": "code",
   "execution_count": 22,
   "id": "82641c54-a12e-415b-acbf-70d2057b69ed",
   "metadata": {
    "ExecuteTime": {
     "end_time": "2025-05-08T16:49:43.892837Z",
     "start_time": "2025-05-08T16:49:43.890902Z"
    }
   },
   "outputs": [
    {
     "name": "stdout",
     "output_type": "stream",
     "text": [
      "n = 4\n",
      "\n",
      "n = 8\n",
      "None\n"
     ]
    }
   ],
   "source": [
    "# test\n",
    "print(\"n = 4\")\n",
    "snake_matrix(4)\n",
    "\n",
    "print()\n",
    "\n",
    "print(\"n = 8\")\n",
    "snake_matrix(8)"
   ]
  },
  {
   "cell_type": "markdown",
   "id": "419642af70bab6c1",
   "metadata": {},
   "source": [
    "---END---"
   ]
  }
 ],
 "metadata": {
  "kernelspec": {
   "display_name": "Python 3 (ipykernel)",
   "language": "python",
   "name": "python3"
  },
  "language_info": {
   "codemirror_mode": {
    "name": "ipython",
    "version": 3
   },
   "file_extension": ".py",
   "mimetype": "text/x-python",
   "name": "python",
   "nbconvert_exporter": "python",
   "pygments_lexer": "ipython3",
   "version": "3.12.2"
  }
 },
 "nbformat": 4,
 "nbformat_minor": 5
}
