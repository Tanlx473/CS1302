{
 "cells": [
  {
   "cell_type": "markdown",
   "id": "ea82f342-6bd0-48f4-a194-57c1d8a0a480",
   "metadata": {},
   "source": [
    "1. Implement a function flatten_list(nested_list) that takes a list which may contain nested lists and returns a new list with all values flattened into a single level (order should be preserved). For example, 'flatten_list([1, [2, [3, 4]], 5])' should return '[1, 2, 3, 4, 5]'."
   ]
  },
  {
   "cell_type": "code",
   "execution_count": 11,
   "id": "26f9c46f-14ba-44ed-859b-d8cc897bcf56",
   "metadata": {},
   "outputs": [
    {
     "data": {
      "text/plain": [
       "[1, 2, 3, 4, 5]"
      ]
     },
     "execution_count": 11,
     "metadata": {},
     "output_type": "execute_result"
    }
   ],
   "source": [
    "def flatten_list(nested_list):\n",
    "    result = []\n",
    "    for i in nested_list:\n",
    "        if isinstance(i,list):\n",
    "            result.extend(flatten_list(i))\n",
    "        elif i == []:\n",
    "            result.extend(i)\n",
    "        else:\n",
    "            result.append(i)\n",
    "\n",
    "    return result\n",
    "\n",
    "flatten_list([1, [2, [3, 4]], 5])"
   ]
  },
  {
   "cell_type": "code",
   "execution_count": 12,
   "id": "202e6699-a701-40ef-99d6-376480bcd544",
   "metadata": {},
   "outputs": [],
   "source": [
    "# test\n",
    "assert flatten_list([1, [2, [3, 4]], 5]) == [1, 2, 3, 4, 5]\n",
    "assert flatten_list([1, [2, [], 3], 4]) == [1, 2, 3, 4]"
   ]
  },
  {
   "cell_type": "markdown",
   "id": "68f7fec9-52fc-4051-b728-f3d7d7af7e58",
   "metadata": {},
   "source": [
    "2. Create a generator function multiple_fibonacci_gen(start, k) that yields the first k numbers of the multiple_fibonacci sequence, starting from `start`.\n",
    "Explonation: what is multiple_fibonacci sequence.\n",
    "The recurrence formula in fibbonacci sequence $a_n$ is:\n",
    "$$\n",
    "a_n = \n",
    "\\begin{cases}\n",
    "0 & n=1 \\kern1em \\text{(base case)}\\\\\n",
    "1 & n=2 \\kern1em \\text{(base case)}\\\\\n",
    "a_{n-1}+a_{n-2} & n>2\n",
    "\\end{cases}$$\n",
    "and the recurrence formula in multiple_fibbonacci sequence\n",
    "$$\n",
    "a_n = \n",
    "\\begin{cases}\n",
    "1 & n=1 \\kern1em \\text{(base case)}\\\\\n",
    "\\text{start} & n=2 \\kern1em \\text{(base case from parameter)}\\\\\n",
    "a_{n-1} \\times a_{n-2} & n>2\n",
    "\\end{cases}$$"
   ]
  },
  {
   "cell_type": "code",
   "execution_count": 18,
   "id": "28c3af22-4c60-4b1f-9c12-3f84961b0d4e",
   "metadata": {},
   "outputs": [],
   "source": [
    "def multiple_fibonacci_gen(start, k):\n",
    "    i = 0\n",
    "    a = []\n",
    "    while i < k:\n",
    "        if i == 0:\n",
    "            yield 1\n",
    "            a.append(1)\n",
    "            i += 1\n",
    "        elif i == 1:\n",
    "            yield start\n",
    "            a.append(start)\n",
    "            i += 1\n",
    "        else:\n",
    "            a.append( a[i - 1] * a[i - 2])\n",
    "            yield a[i]\n",
    "            i += 1\n",
    "\n"
   ]
  },
  {
   "cell_type": "code",
   "execution_count": 19,
   "id": "1f5a9275-348e-470f-ba60-d34db83ffe1d",
   "metadata": {},
   "outputs": [
    {
     "name": "stdout",
     "output_type": "stream",
     "text": [
      "[1, 2, 2, 4, 8, 32]\n",
      "[1, 3, 3, 9, 27]\n"
     ]
    }
   ],
   "source": [
    "# tests:\n",
    "print(list(multiple_fibonacci_gen(2, 6)))\n",
    "# correct output: [1, 2, 2, 4, 8, 32]\n",
    "\n",
    "print(list(multiple_fibonacci_gen(3, 5)))\n",
    "# correct output: [1, 3, 3, 9, 27]"
   ]
  },
  {
   "cell_type": "code",
   "execution_count": null,
   "id": "200f644d-dd54-4d5f-a7a4-0be202ab1e20",
   "metadata": {},
   "outputs": [],
   "source": []
  }
 ],
 "metadata": {
  "kernelspec": {
   "display_name": "Python 3 (ipykernel)",
   "language": "python",
   "name": "python3"
  },
  "language_info": {
   "codemirror_mode": {
    "name": "ipython",
    "version": 3
   },
   "file_extension": ".py",
   "mimetype": "text/x-python",
   "name": "python",
   "nbconvert_exporter": "python",
   "pygments_lexer": "ipython3",
   "version": "3.12.2"
  }
 },
 "nbformat": 4,
 "nbformat_minor": 5
}
