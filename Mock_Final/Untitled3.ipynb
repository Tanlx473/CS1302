{
 "cells": [
  {
   "cell_type": "code",
   "execution_count": 7,
   "id": "acb5162c-f338-40ce-80b0-1103f1a1a69b",
   "metadata": {},
   "outputs": [
    {
     "name": "stdout",
     "output_type": "stream",
     "text": [
      "Running time: 1.0037240982055664 \n"
     ]
    }
   ],
   "source": [
    "import time\n",
    "\n",
    "# 请补全如下代码\n",
    "def timing_decorator(func):\n",
    "    def wrapper(*args, **kwargs):\n",
    "        start_time = time.time()\n",
    "        result = func(*args, **kwargs)\n",
    "        stop_time = time.time()\n",
    "        print(f\"Running time: {stop_time-start_time} \")\n",
    "        return result\n",
    "    return wrapper\n",
    "\n",
    "@timing_decorator\n",
    "def slow_func():\n",
    "    time.sleep(1)\n",
    "\n",
    "slow_func()"
   ]
  },
  {
   "cell_type": "code",
   "execution_count": 6,
   "id": "b6eadd9e-691d-4e17-86ee-150fb605abdb",
   "metadata": {},
   "outputs": [
    {
     "name": "stdout",
     "output_type": "stream",
     "text": [
      "decorator called\n",
      "111\n",
      "Hello\n"
     ]
    }
   ],
   "source": [
    "def deco(f):\n",
    "    print(\"decorator called\")\n",
    "    return f\n",
    "\n",
    "@deco\n",
    "def greet():\n",
    "    print(\"Hello\")\n",
    "\n",
    "print(\"111\")\n",
    "greet()"
   ]
  },
  {
   "cell_type": "code",
   "execution_count": 10,
   "id": "bda3d453-9d63-4516-835b-f19612213237",
   "metadata": {},
   "outputs": [
    {
     "name": "stdout",
     "output_type": "stream",
     "text": [
      "Hi\n",
      "Hi\n",
      "Hi\n",
      "Hi\n",
      "Hi\n",
      "Hi\n",
      "Hi\n",
      "Hi\n",
      "Hi\n"
     ]
    }
   ],
   "source": [
    "def repeat(n):\n",
    "    def decorator(func):\n",
    "        def wrapper(*args, **kwargs):\n",
    "            for i in range(n):\n",
    "                func()\n",
    "        return wrapper\n",
    "    return decorator\n",
    "\n",
    "@repeat(9)\n",
    "def greet():\n",
    "    print(\"Hi\")\n",
    "\n",
    "greet()"
   ]
  },
  {
   "cell_type": "code",
   "execution_count": 12,
   "id": "896ae941-3b98-418e-85ac-25e23a31afb8",
   "metadata": {},
   "outputs": [
    {
     "name": "stdout",
     "output_type": "stream",
     "text": [
      "Database deleted\n",
      "No Authorized\n"
     ]
    }
   ],
   "source": [
    "def authorize(role):\n",
    "    def decorator(func):\n",
    "        def wrapper(user, *args, **kwargs):\n",
    "            if user == role:\n",
    "                func(*args, **kwargs)\n",
    "            else:\n",
    "                print(\"No Authorized\")\n",
    "        return wrapper\n",
    "    return decorator\n",
    "        \n",
    "@authorize(\"admin\")\n",
    "def delete_db():\n",
    "    print(\"Database deleted\")\n",
    "\n",
    "delete_db(\"admin\")  # ✅执行\n",
    "delete_db(\"guest\")  # ❌拒绝"
   ]
  },
  {
   "cell_type": "code",
   "execution_count": 13,
   "id": "a6510dd6-2e47-456b-b7aa-5fe391c36358",
   "metadata": {},
   "outputs": [
    {
     "name": "stdout",
     "output_type": "stream",
     "text": [
      "From cache\n",
      "From cache\n",
      "From cache\n",
      "From cache\n",
      "From cache\n",
      "From cache\n",
      "From cache\n",
      "From cache\n",
      "55\n"
     ]
    }
   ],
   "source": [
    "def cache_result(func):\n",
    "    cache = {}\n",
    "    def wrapper(n):\n",
    "        if n in cache:\n",
    "            print(\"From cache\")\n",
    "            return cache[n]\n",
    "        result = func(n)\n",
    "        cache[n] = result\n",
    "        return result\n",
    "    return wrapper\n",
    "\n",
    "@cache_result\n",
    "def fib(n):\n",
    "    if n <= 1:\n",
    "        return n\n",
    "    return fib(n-1) + fib(n-2)\n",
    "\n",
    "print(fib(10))"
   ]
  },
  {
   "cell_type": "code",
   "execution_count": 17,
   "id": "c08c6cc7-e895-44f6-ab5c-1567816b1fbf",
   "metadata": {},
   "outputs": [
    {
     "name": "stdout",
     "output_type": "stream",
     "text": [
      "True\n"
     ]
    }
   ],
   "source": [
    "x = 8\n",
    "print(x + 8 > 9)"
   ]
  },
  {
   "cell_type": "code",
   "execution_count": 18,
   "id": "7b2ccdd9-3668-4281-b792-c6d581e9ac52",
   "metadata": {
    "scrolled": true
   },
   "outputs": [
    {
     "name": "stdout",
     "output_type": "stream",
     "text": [
      "decorator is called\n"
     ]
    }
   ],
   "source": [
    "def decorator(func):\n",
    "    print(\"decorator is called\")\n",
    "    def wrapper():\n",
    "        print(\"Before call\")\n",
    "        func()\n",
    "        print(\"After call\")\n",
    "    return wrapper\n",
    "\n",
    "@decorator\n",
    "def greet():\n",
    "    print(\"Hello!\")\n"
   ]
  },
  {
   "cell_type": "code",
   "execution_count": null,
   "id": "518643e3-66ea-44cf-8836-045938da4f14",
   "metadata": {},
   "outputs": [],
   "source": []
  }
 ],
 "metadata": {
  "kernelspec": {
   "display_name": "Python 3 (ipykernel)",
   "language": "python",
   "name": "python3"
  },
  "language_info": {
   "codemirror_mode": {
    "name": "ipython",
    "version": 3
   },
   "file_extension": ".py",
   "mimetype": "text/x-python",
   "name": "python",
   "nbconvert_exporter": "python",
   "pygments_lexer": "ipython3",
   "version": "3.12.2"
  }
 },
 "nbformat": 4,
 "nbformat_minor": 5
}
