{
 "cells": [
  {
   "cell_type": "markdown",
   "id": "ea82f342-6bd0-48f4-a194-57c1d8a0a480",
   "metadata": {},
   "source": [
    "## Question 1 （4 marks）:\n",
    "Implement a function flatten_list(nested_list) that takes a list which may contain nested lists and returns a new list with all values flattened into a single level (order should be preserved). For example, 'flatten_list([1, [2, [3, 4]], 5])' should return '[1, 2, 3, 4, 5]'."
   ]
  },
  {
   "cell_type": "code",
   "execution_count": 36,
   "id": "26f9c46f-14ba-44ed-859b-d8cc897bcf56",
   "metadata": {},
   "outputs": [
    {
     "data": {
      "text/plain": [
       "[1, 2, 3, 4, 5]"
      ]
     },
     "execution_count": 36,
     "metadata": {},
     "output_type": "execute_result"
    }
   ],
   "source": [
    "def flatten_list(nested_list):\n",
    "    #YOUR CODE HERE\n",
    "    pass"
   ]
  },
  {
   "cell_type": "code",
   "execution_count": 44,
   "id": "202e6699-a701-40ef-99d6-376480bcd544",
   "metadata": {},
   "outputs": [],
   "source": [
    "# test\n",
    "assert flatten_list([1, [2, [3, 4]], 5]) == [1, 2, 3, 4, 5]\n",
    "\n",
    "assert flatten_list([1, [2, [], 3], 4]) == [1, 2, 3, 4]\n"
   ]
  },
  {
   "cell_type": "code",
   "execution_count": 43,
   "id": "550ef1ed-3588-4374-8c7b-d5e1642a773c",
   "metadata": {},
   "outputs": [
    {
     "data": {
      "text/plain": [
       "[1, 2, 3, 4, 5]"
      ]
     },
     "execution_count": 43,
     "metadata": {},
     "output_type": "execute_result"
    }
   ],
   "source": [
    "# Probably Coding\n",
    "def flatten_list(nested_list):\n",
    "    result = []\n",
    "    for i in nested_list:\n",
    "        if isinstance(i,list):\n",
    "            result.extend(flatten_list(i))\n",
    "        elif i == []:\n",
    "            result.extend(i)\n",
    "        else:\n",
    "            result.append(i)\n",
    "\n",
    "    return result\n",
    "\n",
    "flatten_list([1, [2, [3, 4]], 5])"
   ]
  },
  {
   "cell_type": "markdown",
   "id": "68f7fec9-52fc-4051-b728-f3d7d7af7e58",
   "metadata": {},
   "source": [
    "## Question 2 （4 marks）:\n",
    "Create a generator function `multiple_fibonacci_gen(start, k)` that yields the first k numbers of the multiple_fibonacci sequence, starting from `start`.\n",
    "Explonation: what is multiple_fibonacci sequence.\n",
    "The recurrence formula in fibbonacci sequence $a_n$ is:\n",
    "$$\n",
    "a_n = \n",
    "\\begin{cases}\n",
    "0 & n=1 \\kern1em \\text{(base case)}\\\\\n",
    "1 & n=2 \\kern1em \\text{(base case)}\\\\\n",
    "a_{n-1}+a_{n-2} & n>2\n",
    "\\end{cases}$$\n",
    "and the recurrence formula in multiple_fibbonacci sequence\n",
    "$$\n",
    "a_n = \n",
    "\\begin{cases}\n",
    "1 & n=1 \\kern1em \\text{(base case)}\\\\\n",
    "\\text{start} & n=2 \\kern1em \\text{(base case from parameter)}\\\\\n",
    "a_{n-1} \\times a_{n-2} & n>2\n",
    "\\end{cases}$$"
   ]
  },
  {
   "cell_type": "code",
   "execution_count": 34,
   "id": "28c3af22-4c60-4b1f-9c12-3f84961b0d4e",
   "metadata": {},
   "outputs": [],
   "source": [
    "def multiple_fibonacci_gen(start, k):\n",
    "    # YOUR CODE HERE\n",
    "    pass"
   ]
  },
  {
   "cell_type": "code",
   "execution_count": 35,
   "id": "1f5a9275-348e-470f-ba60-d34db83ffe1d",
   "metadata": {},
   "outputs": [],
   "source": [
    "# tests:\n",
    "assert list(multiple_fibonacci_gen(2, 6)) == [1, 2, 2, 4, 8, 32]\n",
    "\n",
    "assert list(multiple_fibonacci_gen(3, 5)) == [1, 3, 3, 9, 27]\n",
    "\n",
    "assert list(multiple_fibonacci_gen(4, 9)) == [1, 4, 4, 16, 64, 1024, 65536, 67108864, 4398046511104]"
   ]
  },
  {
   "cell_type": "code",
   "execution_count": null,
   "id": "6bfba78e-3d0f-4eb8-87a4-aa81ac6c1b72",
   "metadata": {},
   "outputs": [],
   "source": [
    "# Probably Coding\n",
    "def multiple_fibonacci_gen(start, k):\n",
    "    i = 0\n",
    "    a = []\n",
    "    while i < k:\n",
    "        if i == 0:\n",
    "            yield 1\n",
    "            a.append(1)\n",
    "            i += 1\n",
    "        elif i == 1:\n",
    "            yield start\n",
    "            a.append(start)\n",
    "            i += 1\n",
    "        else:\n",
    "            a.append( a[i - 1] * a[i - 2])\n",
    "            yield a[i]\n",
    "            i += 1"
   ]
  },
  {
   "cell_type": "markdown",
   "id": "c827b95a-cb04-4bbe-9810-b03279363bf3",
   "metadata": {},
   "source": [
    "3. Write a **recursive** function sum_digits(n) that returns the sum of all the digits of a non-negative integer n. The function should handle multi-digit numbers by calling itself. For example, sum_digits(253) should return 10 (since 2+5+3=10)."
   ]
  },
  {
   "cell_type": "code",
   "execution_count": 26,
   "id": "2376dfb5-ecb6-4378-93a5-20809cd267f0",
   "metadata": {},
   "outputs": [],
   "source": [
    "def sum_digits(n):\n",
    "    if n < 10:\n",
    "        return n\n",
    "    return n % 10 + sum_digits(n // 10)"
   ]
  },
  {
   "cell_type": "code",
   "execution_count": 27,
   "id": "138cca1c-02f4-4a81-be6f-9baaf9d4708b",
   "metadata": {},
   "outputs": [],
   "source": [
    "# test\n",
    "assert sum_digits(0) == 0\n",
    "assert sum_digits(253) == 10\n",
    "assert sum_digits(50130) == 9 "
   ]
  },
  {
   "cell_type": "markdown",
   "id": "3bd80862-4fef-41d6-87a4-be1606559d1e",
   "metadata": {},
   "source": [
    "4. Define a decorator function debug_calls(func) that prints a message before and after a function call. The decorator should print the function’s name and arguments before calling the function, and print the function’s name and return value after. Use this decorator on a sample function to illustrate its effect.\n"
   ]
  },
  {
   "cell_type": "code",
   "execution_count": 30,
   "id": "19dee99b-141d-447b-ad95-cc3cf9888418",
   "metadata": {},
   "outputs": [],
   "source": [
    "def debug_calls(func):\n",
    "    def wrapper(*args, **kwargs):\n",
    "        print(f\"Calling {func.__name__} with args={(args)}, kwargs={kwargs}\")\n",
    "        result = func(*args, **kwargs)\n",
    "        print (f\"{func.__name__} returned {result}\")\n",
    "\n",
    "    return wrapper"
   ]
  },
  {
   "cell_type": "code",
   "execution_count": 31,
   "id": "b87a2a3d-46d6-43f8-979c-e1203544f9f1",
   "metadata": {},
   "outputs": [
    {
     "name": "stdout",
     "output_type": "stream",
     "text": [
      "Calling multiply with args=(3, 4), kwargs={}\n",
      "multiply returned 12\n"
     ]
    }
   ],
   "source": [
    "# test\n",
    "@debug_calls\n",
    "def multiply(a, b):\n",
    "    return a * b\n",
    "\n",
    "result = multiply(3, 4)\n",
    "# Expected console output (order may vary slightly):\n",
    "# Calling multiply with args=(3, 4), kwargs={}\n",
    "# multiply returned 12"
   ]
  },
  {
   "cell_type": "markdown",
   "id": "f1737cde-70da-4550-95c7-cce3c4782d68",
   "metadata": {},
   "source": [
    "5. Implement a function `is_palindrome(s)` that returns True if the string s is a palindrome, and False otherwise. Ignore case and spaces (i.e., treat uppercase and lowercase as the same, and do not consider spaces). For example, \"RaceCar\" and \"never odd or even\" should be recognized as palindromes."
   ]
  },
  {
   "cell_type": "code",
   "execution_count": null,
   "id": "b6b29574-fb97-4472-8323-e55c6c9ad757",
   "metadata": {},
   "outputs": [],
   "source": [
    "def is_palindrome(s):\n",
    "    "
   ]
  }
 ],
 "metadata": {
  "kernelspec": {
   "display_name": "Python 3 (ipykernel)",
   "language": "python",
   "name": "python3"
  },
  "language_info": {
   "codemirror_mode": {
    "name": "ipython",
    "version": 3
   },
   "file_extension": ".py",
   "mimetype": "text/x-python",
   "name": "python",
   "nbconvert_exporter": "python",
   "pygments_lexer": "ipython3",
   "version": "3.12.2"
  }
 },
 "nbformat": 4,
 "nbformat_minor": 5
}
