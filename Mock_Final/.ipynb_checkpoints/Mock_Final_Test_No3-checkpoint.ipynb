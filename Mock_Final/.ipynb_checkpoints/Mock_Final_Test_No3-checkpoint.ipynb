{
 "cells": [
  {
   "cell_type": "markdown",
   "id": "47541096-2534-48ab-8625-fd3f27acd070",
   "metadata": {},
   "source": [
    "# 🧪 CS1032 Mock Final Exam – Advanced Version\n",
    "\n",
    "**Course:** CS1032 Introduction to Computer Programming\n",
    "**Duration:** 2 Hours\n",
    "**Total Marks:** 40 (10 for MCQs, 30 for Coding)\n",
    "\n",
    "---\n",
    "\n",
    "### Part 1: Multiple Choice Questions (10 marks)\n",
    "\n",
    "**Note:** Each question may有多项正确答案。全选才得分。\n",
    "\n",
    "---\n",
    "\n",
    "**Q1.** What will be the output of the following code?\n",
    "\n",
    "```python\n",
    "a = [1, 2, 3]\n",
    "b = a\n",
    "a[0] = 100\n",
    "print(b)\n",
    "```\n",
    "\n",
    "A) \\[1, 2, 3]\n",
    "B) \\[100, 2, 3]\n",
    "C) Error\n",
    "D) None\n",
    "\n",
    "---\n",
    "\n",
    "**Q2.** What is the output of the code below?\n",
    "\n",
    "```python\n",
    "def foo(x=[]):\n",
    "    x.append(1)\n",
    "    return x\n",
    "\n",
    "print(foo())\n",
    "print(foo())\n",
    "```\n",
    "\n",
    "A) \\[1], \\[1]\n",
    "B) \\[1, 1], \\[1]\n",
    "C) \\[1], \\[1, 1]\n",
    "D) \\[1], \\[1, 1]\n",
    "\n",
    "---\n",
    "\n",
    "**Q3.** Which of the following is *true* about Python dictionaries?\n",
    "\n",
    "A) Keys must be unique and hashable\n",
    "B) Values must be strings\n",
    "C) Dictionaries maintain insertion order in Python 3.7+\n",
    "D) Keys can be lists\n",
    "\n",
    "---\n",
    "\n",
    "**Q4.** What is the output of the following code?\n",
    "\n",
    "```python\n",
    "print(\"a\" * 0 + \"b\" * 2)\n",
    "```\n",
    "\n",
    "A) \"aab\"\n",
    "B) \"b\"\n",
    "C) \"bb\"\n",
    "D) \"\"\n",
    "\n",
    "---\n",
    "\n",
    "**Q5.** What is the output of this code?\n",
    "\n",
    "```python\n",
    "print([i for i in range(5) if i % 2 == 0])\n",
    "```\n",
    "\n",
    "A) \\[1, 3, 5]\n",
    "B) \\[0, 2, 4]\n",
    "C) \\[2, 4]\n",
    "D) \\[0, 2]\n",
    "\n",
    "---\n",
    "\n",
    "**Q6.** Consider the function:\n",
    "\n",
    "```python\n",
    "def mystery(a, b):\n",
    "    return a if a < b else b\n",
    "```\n",
    "\n",
    "What does it do?\n",
    "\n",
    "A) Returns the maximum of a and b\n",
    "B) Returns the minimum of a and b\n",
    "C) Returns True if a < b\n",
    "D) Always returns b\n",
    "\n",
    "---\n",
    "\n",
    "**Q7.** What will be the result of the following?\n",
    "\n",
    "```python\n",
    "try:\n",
    "    print(1 / 0)\n",
    "except ZeroDivisionError:\n",
    "    print(\"Cannot divide by zero\")\n",
    "```\n",
    "\n",
    "A) Error\n",
    "B) 0\n",
    "C) Cannot divide by zero\n",
    "D) None\n",
    "\n",
    "---\n",
    "\n",
    "**Q8.** Which of the following statements about file handling is correct?\n",
    "\n",
    "A) `open(\"file.txt\", \"r\")` will create a file if it doesn't exist\n",
    "B) `with open(\"file.txt\", \"w\")` automatically closes the file\n",
    "C) Files must be explicitly closed with `close()`\n",
    "D) `\"a\"` mode deletes all contents before writing\n",
    "\n",
    "---\n",
    "\n",
    "**Q9.** What is the time complexity of this code?\n",
    "\n",
    "```python\n",
    "for i in range(n):\n",
    "    for j in range(n):\n",
    "        print(i, j)\n",
    "```\n",
    "\n",
    "A) O(1)\n",
    "B) O(n)\n",
    "C) O(n²)\n",
    "D) O(log n)\n",
    "\n",
    "---\n",
    "\n",
    "**Q10.** What is printed?\n",
    "\n",
    "```python\n",
    "def foo(x):\n",
    "    return x[::-1]\n",
    "\n",
    "print(foo(\"abc\"))\n",
    "```\n",
    "\n",
    "A) abc\n",
    "B) bca\n",
    "C) cab\n",
    "D) cba\n",
    "\n",
    "---\n",
    "\n"
   ]
  },
  {
   "cell_type": "markdown",
   "id": "f00406a5-625f-41a0-84bd-949b1f4b9dfb",
   "metadata": {},
   "source": [
    "### Part 2: Coding Questions (30 marks, 6 × 5 marks)\n",
    "\n",
    "---\n",
    "\n",
    "**Q1.** Write a Python function `is_palindrome(s)` that returns `True` if the input string `s` is a palindrome, ignoring spaces and capitalization.\n",
    "*Example:*\n",
    "`is_palindrome(\"A man a plan a canal Panama\")` → `True`\n"
   ]
  },
  {
   "cell_type": "code",
   "execution_count": null,
   "id": "e99e0942-ec6f-4ab9-b6fc-1d9cec0d63e6",
   "metadata": {},
   "outputs": [],
   "source": []
  },
  {
   "cell_type": "code",
   "execution_count": null,
   "id": "2505cc34-bf7d-40a4-88b0-72db484d2bf8",
   "metadata": {},
   "outputs": [],
   "source": [
    "# test\n",
    "assert is_palindrome(\"racecar\") == True\n",
    "assert is_palindrome(\"A man a plan a canal Panama\") == True\n",
    "assert is_palindrome(\"No lemon, no melon\") == False  # punctuation not handled\n",
    "assert is_palindrome(\"abc\") == False\n"
   ]
  },
  {
   "cell_type": "code",
   "execution_count": null,
   "id": "c83ecc7a-74ca-4e4d-987f-a04203ad111b",
   "metadata": {},
   "outputs": [],
   "source": [
    "# test\n",
    "assert is_palindrome(\"racecar\") == True\n",
    "assert is_palindrome(\"A man a plan a canal Panama\") == True\n",
    "assert is_palindrome(\"No lemon, no melon\") == False  # punctuation not handled\n",
    "assert is_palindrome(\"abc\") == False\n"
   ]
  },
  {
   "cell_type": "markdown",
   "id": "313967b5-04c5-4ea6-a4e1-ea6fd391e642",
   "metadata": {},
   "source": [
    "**Q2.** Define a function `factorial_recursive(n)` that uses recursion to compute the factorial of a non-negative integer `n`. Handle invalid input with an exception."
   ]
  },
  {
   "cell_type": "code",
   "execution_count": null,
   "id": "7121aa06-ddd6-4a81-8123-72601c859a76",
   "metadata": {},
   "outputs": [],
   "source": []
  },
  {
   "cell_type": "code",
   "execution_count": null,
   "id": "87c6206b-b274-41ea-981a-aebefa36bacb",
   "metadata": {},
   "outputs": [],
   "source": [
    "# test\n",
    "assert factorial_recursive(0) == 1\n",
    "assert factorial_recursive(1) == 1\n",
    "assert factorial_recursive(5) == 120\n",
    "assert factorial_recursive(3) == 6\n",
    "try:\n",
    "    factorial_recursive(-1)\n",
    "    assert False  # Should not reach here\n",
    "except ValueError:\n",
    "    assert True\n"
   ]
  },
  {
   "cell_type": "markdown",
   "id": "d3309300-57be-4ee0-bb4a-efc580116a98",
   "metadata": {},
   "source": [
    "**Q3.** Define a function `count_words(filename)` that opens a text file, reads it, and returns the number of words (split by whitespace)."
   ]
  },
  {
   "cell_type": "code",
   "execution_count": null,
   "id": "451b807c-17fa-43ca-bbbf-b53951866195",
   "metadata": {},
   "outputs": [],
   "source": []
  },
  {
   "cell_type": "code",
   "execution_count": null,
   "id": "a19ec46c-037d-473e-8ffe-0b84ee0040bc",
   "metadata": {},
   "outputs": [],
   "source": [
    "# test\n",
    "with open(\"test_file.txt\", \"w\") as f:\n",
    "    f.write(\"Hello world\\nThis is a test\")\n",
    "\n",
    "assert count_words(\"test_file.txt\") == 6\n"
   ]
  },
  {
   "cell_type": "markdown",
   "id": "f15709a3-6ace-47b7-8312-90dff7bfdb94",
   "metadata": {},
   "source": [
    "**Q4.** Implement a function `find_duplicates(lst)` that returns a list of elements that appear more than once in the input list `lst`."
   ]
  },
  {
   "cell_type": "code",
   "execution_count": null,
   "id": "5e061ffa-ac28-4ebf-bb4b-dace9cbc6ca8",
   "metadata": {},
   "outputs": [],
   "source": []
  },
  {
   "cell_type": "code",
   "execution_count": null,
   "id": "dd13b453-fcd0-4596-8980-db1fc9d5461e",
   "metadata": {},
   "outputs": [],
   "source": [
    "# test\n",
    "assert set(find_duplicates([1, 2, 3, 2, 4, 3, 5])) == {2, 3}\n",
    "assert find_duplicates([1, 2, 3]) == []\n",
    "assert set(find_duplicates([\"a\", \"b\", \"a\", \"c\", \"b\"])) == {\"a\", \"b\"}\n"
   ]
  },
  {
   "cell_type": "markdown",
   "id": "509d8d20-dffa-4d98-b826-5cb12ede4584",
   "metadata": {},
   "source": [
    "**Q5.** Write a function `fibonacci(n)` that returns a list of the first `n` Fibonacci numbers using a loop (not recursion).\n",
    "*Example:* `fibonacci(5)` → `[0, 1, 1, 2, 3]`"
   ]
  },
  {
   "cell_type": "code",
   "execution_count": null,
   "id": "ebeab6ea-8360-43aa-8b44-ada717a0961e",
   "metadata": {},
   "outputs": [],
   "source": []
  },
  {
   "cell_type": "code",
   "execution_count": null,
   "id": "f59eeba8-368c-41fb-b007-caa63fd750b3",
   "metadata": {},
   "outputs": [],
   "source": [
    "# test\n",
    "assert fibonacci(0) == []\n",
    "assert fibonacci(1) == [0]\n",
    "assert fibonacci(5) == [0, 1, 1, 2, 3]\n",
    "assert fibonacci(7) == [0, 1, 1, 2, 3, 5, 8]\n"
   ]
  },
  {
   "cell_type": "markdown",
   "id": "cf8c4a53-18c8-4f34-869e-1488452c3196",
   "metadata": {},
   "source": [
    "**Q6.** Define a function `nested_sum(lst)` that computes the sum of a list which may contain integers or sublists of integers.\n",
    "*Example:* `nested_sum([1, [2, 3], 4])` → `10`"
   ]
  },
  {
   "cell_type": "code",
   "execution_count": null,
   "id": "e3514e7d-c43d-4e12-8ab3-0e1201abd620",
   "metadata": {},
   "outputs": [],
   "source": []
  },
  {
   "cell_type": "code",
   "execution_count": null,
   "id": "aedc69ad-762c-4bbb-997b-d44d2e31deb2",
   "metadata": {},
   "outputs": [],
   "source": [
    "# test\n",
    "assert nested_sum([1, [2, 3], 4]) == 10\n",
    "assert nested_sum([1, [2, [3, 4]], 5]) == 15\n",
    "assert nested_sum([]) == 0\n",
    "assert nested_sum([[[[1]]]]) == 1\n"
   ]
  }
 ],
 "metadata": {
  "kernelspec": {
   "display_name": "Python 3 (ipykernel)",
   "language": "python",
   "name": "python3"
  },
  "language_info": {
   "codemirror_mode": {
    "name": "ipython",
    "version": 3
   },
   "file_extension": ".py",
   "mimetype": "text/x-python",
   "name": "python",
   "nbconvert_exporter": "python",
   "pygments_lexer": "ipython3",
   "version": "3.12.2"
  }
 },
 "nbformat": 4,
 "nbformat_minor": 5
}
