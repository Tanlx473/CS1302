{
 "cells": [
  {
   "cell_type": "markdown",
   "id": "bdeecae7-e53d-47c1-88d5-fd707077cd45",
   "metadata": {},
   "source": [
    "# Generation Special Topic Test"
   ]
  },
  {
   "cell_type": "markdown",
   "id": "c91481bd-0585-4432-bb93-4f0559493916",
   "metadata": {},
   "source": [
    "## Easy"
   ]
  },
  {
   "cell_type": "markdown",
   "id": "413be8f2-d410-499a-ba01-5e93181d96ee",
   "metadata": {},
   "source": [
    "### Question 1\n",
    "Generator: `even_numbers(n)`   \n",
    "Description:\n",
    "Create a generator even_numbers(n) that yields all even numbers from 0 up to but not including n."
   ]
  },
  {
   "cell_type": "code",
   "execution_count": null,
   "id": "bb8fef31-01c5-49f9-bee8-79976135b351",
   "metadata": {},
   "outputs": [],
   "source": [
    "def even_numbers(n):\n",
    "    j = 0\n",
    "    while j < n:\n",
    "        yield j\n",
    "        j += 2  \n",
    "\n",
    "gen = even_numbers(10)\n",
    "print(next(gen))  \n",
    "print(next(gen))  \n",
    "print(next(gen))  \n",
    "print(next(gen))  \n",
    "print(next(gen)) "
   ]
  },
  {
   "cell_type": "code",
   "execution_count": null,
   "id": "340690da-5cdc-4ca1-90e8-bff167cef405",
   "metadata": {},
   "outputs": [],
   "source": [
    "# ✅ Testing\n",
    "assert list(even_numbers(10)) == [0, 2, 4, 6, 8]\n",
    "assert list(even_numbers(5)) == [0, 2, 4]\n",
    "assert list(even_numbers(0)) == []"
   ]
  },
  {
   "cell_type": "code",
   "execution_count": 1,
   "id": "51a1bf74-30d1-4079-9b61-b3c75c729e85",
   "metadata": {},
   "outputs": [],
   "source": [
    "gen_expr = (x**2 for x in range(10))  # 正确的 generator expression"
   ]
  },
  {
   "cell_type": "code",
   "execution_count": 5,
   "id": "44329bed-b437-4211-bcd1-8bf0e88de5af",
   "metadata": {},
   "outputs": [
    {
     "name": "stdout",
     "output_type": "stream",
     "text": [
      "list[0, 1, 4, 9, 16, 25, 36, 49, 64, 81]\n"
     ]
    }
   ],
   "source": [
    "print(list[*gen_expr])"
   ]
  },
  {
   "cell_type": "markdown",
   "id": "27f42511-8158-46f1-8727-9941949c5515",
   "metadata": {},
   "source": [
    "Q5. Basic Generator Construction\n",
    "\n",
    "Write a generator count_up(n) that yields numbers from 1 to n:"
   ]
  },
  {
   "cell_type": "code",
   "execution_count": 14,
   "id": "67288b5d-4965-457f-9013-a0318d9848ae",
   "metadata": {},
   "outputs": [],
   "source": [
    "def count_up(n):\n",
    "    j = 1\n",
    "    while j<=n:\n",
    "        yield j\n",
    "        j += 1\n"
   ]
  },
  {
   "cell_type": "code",
   "execution_count": 19,
   "id": "613b8b8f-a109-457b-9037-eb4bf88b9c6e",
   "metadata": {},
   "outputs": [],
   "source": [
    "def count_up(n):\n",
    "    for i in range(1, n+1):\n",
    "        yield i\n"
   ]
  },
  {
   "cell_type": "code",
   "execution_count": 21,
   "id": "2bb98fbe-febe-41bc-838b-06f352780468",
   "metadata": {},
   "outputs": [
    {
     "name": "stdout",
     "output_type": "stream",
     "text": [
      "1\n",
      "2\n",
      "3\n",
      "4\n",
      "5\n",
      "6\n",
      "7\n"
     ]
    }
   ],
   "source": [
    "gen = count_up(10)\n",
    "print(next(gen))\n",
    "print(next(gen))\n",
    "print(next(gen))\n",
    "print(next(gen))\n",
    "print(next(gen))\n",
    "print(next(gen))\n",
    "print(next(gen))"
   ]
  },
  {
   "cell_type": "code",
   "execution_count": 25,
   "id": "2d1d636d-0ea2-499b-8190-44dcea1cb766",
   "metadata": {},
   "outputs": [
    {
     "name": "stdout",
     "output_type": "stream",
     "text": [
      "[2, 4, 6, 8, 10, 12, 14, 16, 18, 20, 22, 24, 26, 28, 30, 32, 34, 36, 38, 40, 42, 44, 46, 48, 50, 52, 54, 56, 58, 60, 62, 64, 66, 68, 70, 72, 74, 76, 78, 80, 82, 84, 86, 88, 90, 92, 94, 96, 98, 100]\n"
     ]
    }
   ],
   "source": [
    "def even_gen(s,e):\n",
    "    for i in range(s,e+1):\n",
    "        if i % 2 ==0:\n",
    "            yield i\n",
    "            \n",
    "g = even_gen(2,100)\n",
    "print(list(g))"
   ]
  },
  {
   "cell_type": "code",
   "execution_count": null,
   "id": "6db558c2-6296-47d3-ac1f-0e03636beb92",
   "metadata": {},
   "outputs": [],
   "source": []
  },
  {
   "cell_type": "code",
   "execution_count": 22,
   "id": "9dda5f6e-ff87-4c91-806e-49ac1766c403",
   "metadata": {},
   "outputs": [
    {
     "data": {
      "text/plain": [
       "25"
      ]
     },
     "execution_count": 22,
     "metadata": {},
     "output_type": "execute_result"
    }
   ],
   "source": [
    "sum(i for i in range(10) if i % 2 == 1)"
   ]
  },
  {
   "cell_type": "code",
   "execution_count": 30,
   "id": "56fc8698-037e-498d-9416-f7bed32aef92",
   "metadata": {},
   "outputs": [
    {
     "name": "stdout",
     "output_type": "stream",
     "text": [
      "[1]\n",
      "[1, 1]\n",
      "[1, 2, 1]\n",
      "[1, 3, 3, 1]\n",
      "[1, 4, 6, 4, 1]\n",
      "[1, 5, 10, 10, 5, 1]\n",
      "[1, 6, 15, 20, 15, 6, 1]\n"
     ]
    }
   ],
   "source": [
    "def triangles_limited(limit):\n",
    "    a = [1]\n",
    "    for i in range(limit):\n",
    "        yield a\n",
    "        a = [1] + [a[j] + a[j+1] for j in range(len(a)-1)] + [1]\n",
    "\n",
    "g = triangles_limited(10)\n",
    "print(next(g))\n",
    "print(next(g))\n",
    "print(next(g))\n",
    "print(next(g))\n",
    "print(next(g))\n",
    "print(next(g))\n",
    "print(next(g))"
   ]
  },
  {
   "cell_type": "code",
   "execution_count": 35,
   "id": "4d5724e5-a966-4e2b-aa59-562d73fecdb8",
   "metadata": {},
   "outputs": [
    {
     "name": "stdout",
     "output_type": "stream",
     "text": [
      "0\n",
      "3.0\n",
      "2.5\n",
      "3.3333333333333335\n",
      "2.75\n",
      "3.0\n",
      "3.0\n"
     ]
    }
   ],
   "source": [
    "def running_avg():\n",
    "    # your code here\n",
    "    denominator = 1\n",
    "    s = 0\n",
    "    x = yield 0\n",
    "    s += x\n",
    "    while True:\n",
    "        x = yield s / denominator\n",
    "        denominator += 1\n",
    "        s += x\n",
    "\n",
    "g = running_avg()\n",
    "print(next(g))\n",
    "print(g.send(3))\n",
    "print(g.send(2))\n",
    "print(g.send(5))\n",
    "print(g.send(1))\n",
    "print(g.send(4))\n",
    "print(g.send(3))"
   ]
  },
  {
   "cell_type": "code",
   "execution_count": 36,
   "id": "58c6a07e-d8eb-48ec-9528-602062e481d8",
   "metadata": {},
   "outputs": [
    {
     "name": "stdout",
     "output_type": "stream",
     "text": [
      "[1, 4, 9, 16]\n"
     ]
    }
   ],
   "source": [
    "def gen_map(func, iterable):\n",
    "    # your code here\n",
    "    for i in iterable:\n",
    "        yield func(i)\n",
    "\n",
    "result = gen_map(lambda x: x**2, [1, 2, 3, 4])\n",
    "print(list(result))  # 输出: [1, 4, 9, 16]\n"
   ]
  },
  {
   "cell_type": "code",
   "execution_count": null,
   "id": "e7017cb9-00db-4cff-b12a-c0e84f9d7e59",
   "metadata": {},
   "outputs": [],
   "source": []
  }
 ],
 "metadata": {
  "kernelspec": {
   "display_name": "Python 3 (ipykernel)",
   "language": "python",
   "name": "python3"
  },
  "language_info": {
   "codemirror_mode": {
    "name": "ipython",
    "version": 3
   },
   "file_extension": ".py",
   "mimetype": "text/x-python",
   "name": "python",
   "nbconvert_exporter": "python",
   "pygments_lexer": "ipython3",
   "version": "3.12.2"
  }
 },
 "nbformat": 4,
 "nbformat_minor": 5
}
