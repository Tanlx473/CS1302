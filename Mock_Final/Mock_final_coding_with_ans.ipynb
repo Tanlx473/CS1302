{
 "cells": [
  {
   "cell_type": "markdown",
   "id": "ea82f342-6bd0-48f4-a194-57c1d8a0a480",
   "metadata": {},
   "source": [
    "## Question 1 （4 marks）:\n",
    "Implement a function flatten_list(nested_list) that takes a list which may contain nested lists and returns a new list with all values flattened into a single level (order should be preserved). For example, 'flatten_list([1, [2, [3, 4]], 5])' should return '[1, 2, 3, 4, 5]'."
   ]
  },
  {
   "cell_type": "code",
   "execution_count": 36,
   "id": "26f9c46f-14ba-44ed-859b-d8cc897bcf56",
   "metadata": {},
   "outputs": [
    {
     "data": {
      "text/plain": [
       "[1, 2, 3, 4, 5]"
      ]
     },
     "execution_count": 36,
     "metadata": {},
     "output_type": "execute_result"
    }
   ],
   "source": [
    "def flatten_list(nested_list):\n",
    "    \n",
    "    result = []\n",
    "    for i in nested_list:\n",
    "        if isinstance(i, list):\n",
    "            result.extend(flatten_list(i))\n",
    "        else:\n",
    "            result.append(i)\n",
    "    return result\n",
    "    "
   ]
  },
  {
   "cell_type": "code",
   "execution_count": null,
   "id": "1d769561",
   "metadata": {},
   "outputs": [],
   "source": [
    "def max_sublist_sum(*seq):\n",
    "    current_max = 0\n",
    "    for i in range(len(seq)-1):\n",
    "        current_max = max(seq[i],seq[i]+seq[i+1])\n",
    "    return current_max\n",
    "print(max_sublist_sum([-6,-4,-2]))"
   ]
  },
  {
   "cell_type": "code",
   "execution_count": 44,
   "id": "202e6699-a701-40ef-99d6-376480bcd544",
   "metadata": {},
   "outputs": [],
   "source": [
    "# test\n",
    "assert flatten_list([1, [2, [3, 4]], 5]) == [1, 2, 3, 4, 5]\n",
    "\n",
    "assert flatten_list([1, [2, [], 3], 4]) == [1, 2, 3, 4]\n"
   ]
  },
  {
   "cell_type": "code",
   "execution_count": 43,
   "id": "550ef1ed-3588-4374-8c7b-d5e1642a773c",
   "metadata": {},
   "outputs": [
    {
     "data": {
      "text/plain": [
       "[1, 2, 3, 4, 5]"
      ]
     },
     "execution_count": 43,
     "metadata": {},
     "output_type": "execute_result"
    }
   ],
   "source": [
    "# Probably Coding\n",
    "def flatten_list(nested_list):\n",
    "    result = []\n",
    "    for i in nested_list:\n",
    "        if isinstance(i,list):\n",
    "            result.extend(flatten_list(i))\n",
    "        elif i == []:\n",
    "            result.extend(i)\n",
    "        else:\n",
    "            result.append(i)\n",
    "\n",
    "    return result\n",
    "\n",
    "flatten_list([1, [2, [3, 4]], 5])"
   ]
  },
  {
   "cell_type": "markdown",
   "id": "68f7fec9-52fc-4051-b728-f3d7d7af7e58",
   "metadata": {},
   "source": [
    "## Question 2 （4 marks）:\n",
    "Create a generator function `multiple_fibonacci_gen(start, k)` that yields the first k numbers of the multiple_fibonacci sequence, starting from `start`.\n",
    "Explonation: what is multiple_fibonacci sequence.\n",
    "The recurrence formula in fibbonacci sequence $a_n$ is:\n",
    "$$\n",
    "a_n = \n",
    "\\begin{cases}\n",
    "0 & n=1 \\kern1em \\text{(base case)}\\\\\n",
    "1 & n=2 \\kern1em \\text{(base case)}\\\\\n",
    "a_{n-1}+a_{n-2} & n>2\n",
    "\\end{cases}$$\n",
    "and the recurrence formula in multiple_fibbonacci sequence\n",
    "$$\n",
    "a_n = \n",
    "\\begin{cases}\n",
    "1 & n=1 \\kern1em \\text{(base case)}\\\\\n",
    "\\text{start} & n=2 \\kern1em \\text{(base case from parameter)}\\\\\n",
    "a_{n-1} \\times a_{n-2} & n>2\n",
    "\\end{cases}$$"
   ]
  },
  {
   "cell_type": "code",
   "execution_count": 34,
   "id": "28c3af22-4c60-4b1f-9c12-3f84961b0d4e",
   "metadata": {},
   "outputs": [],
   "source": [
    "def multiple_fibonacci_gen(start, k):\n",
    "    # YOUR CODE HERE\n",
    "    pass"
   ]
  },
  {
   "cell_type": "code",
   "execution_count": 35,
   "id": "1f5a9275-348e-470f-ba60-d34db83ffe1d",
   "metadata": {},
   "outputs": [],
   "source": [
    "# tests:\n",
    "assert list(multiple_fibonacci_gen(2, 6)) == [1, 2, 2, 4, 8, 32]\n",
    "\n",
    "assert list(multiple_fibonacci_gen(3, 5)) == [1, 3, 3, 9, 27]\n",
    "\n",
    "assert list(multiple_fibonacci_gen(4, 9)) == [1, 4, 4, 16, 64, 1024, 65536, 67108864, 4398046511104]"
   ]
  },
  {
   "cell_type": "code",
   "execution_count": null,
   "id": "6bfba78e-3d0f-4eb8-87a4-aa81ac6c1b72",
   "metadata": {},
   "outputs": [],
   "source": [
    "# Probably Coding\n",
    "def multiple_fibonacci_gen(start, k):\n",
    "    i = 0\n",
    "    a = []\n",
    "    while i < k:\n",
    "        if i == 0:\n",
    "            yield 1\n",
    "            a.append(1)\n",
    "            i += 1\n",
    "        elif i == 1:\n",
    "            yield start\n",
    "            a.append(start)\n",
    "            i += 1\n",
    "        else:\n",
    "            a.append( a[i - 1] * a[i - 2])\n",
    "            yield a[i]\n",
    "            i += 1"
   ]
  },
  {
   "cell_type": "markdown",
   "id": "c827b95a-cb04-4bbe-9810-b03279363bf3",
   "metadata": {},
   "source": [
    "## Question 3 (10086 Marks)\n",
    "Write a **recursive** function sum_digits(n) that returns the sum of all the digits of a non-negative integer n. The function should handle multi-digit numbers by calling itself. For example, sum_digits(253) should return 10 (since 2+5+3=10)."
   ]
  },
  {
   "cell_type": "code",
   "execution_count": 26,
   "id": "2376dfb5-ecb6-4378-93a5-20809cd267f0",
   "metadata": {},
   "outputs": [],
   "source": [
    "def sum_digits(n):\n",
    "    if n < 10:\n",
    "        return n\n",
    "    return n % 10 + sum_digits(n // 10)"
   ]
  },
  {
   "cell_type": "code",
   "execution_count": 27,
   "id": "138cca1c-02f4-4a81-be6f-9baaf9d4708b",
   "metadata": {},
   "outputs": [],
   "source": [
    "# test\n",
    "assert sum_digits(0) == 0\n",
    "assert sum_digits(253) == 10\n",
    "assert sum_digits(50130) == 9 "
   ]
  },
  {
   "cell_type": "markdown",
   "id": "3bd80862-4fef-41d6-87a4-be1606559d1e",
   "metadata": {},
   "source": [
    "## Question 4 (9999 Marks)\n",
    "Define a decorator function debug_calls(func) that prints a message before and after a function call. The decorator should print the function’s name and arguments before calling the function, and print the function’s name and return value after. Use this decorator on a sample function to illustrate its effect.\n",
    "\n",
    "Notes: Use `func.__name__` to get the name of function"
   ]
  },
  {
   "cell_type": "code",
   "execution_count": 30,
   "id": "19dee99b-141d-447b-ad95-cc3cf9888418",
   "metadata": {},
   "outputs": [],
   "source": [
    "def debug_calls(func):\n",
    "    def wrapper(*args, **kwargs):\n",
    "        print(f\"Calling {func.__name__} with args={(args)}, kwargs={kwargs}\")\n",
    "        result = func(*args, **kwargs)\n",
    "        print (f\"{func.__name__} returned {result}\")\n",
    "\n",
    "    return wrapper"
   ]
  },
  {
   "cell_type": "code",
   "execution_count": 31,
   "id": "b87a2a3d-46d6-43f8-979c-e1203544f9f1",
   "metadata": {},
   "outputs": [
    {
     "name": "stdout",
     "output_type": "stream",
     "text": [
      "Calling multiply with args=(3, 4), kwargs={}\n",
      "multiply returned 12\n"
     ]
    }
   ],
   "source": [
    "# test\n",
    "@debug_calls\n",
    "def multiply(a, b):\n",
    "    return a * b\n",
    "\n",
    "result = multiply(3, 4)\n",
    "# Expected output (order may vary slightly):\n",
    "# Calling multiply with args=(3, 4), kwargs={}\n",
    "# multiply returned 12"
   ]
  },
  {
   "cell_type": "markdown",
   "id": "f1737cde-70da-4550-95c7-cce3c4782d68",
   "metadata": {},
   "source": [
    "## Question 5 (10987 Marks)\n",
    "Implement a function `is_palindrome(s)` that returns True if the string s is a palindrome, and False otherwise. Ignore case and spaces (i.e., treat uppercase and lowercase as the same, and do not consider spaces). For example, \"RaceCar\" and \"never odd or even\" should be recognized as palindromes."
   ]
  },
  {
   "cell_type": "code",
   "execution_count": 3,
   "id": "b6b29574-fb97-4472-8323-e55c6c9ad757",
   "metadata": {},
   "outputs": [],
   "source": [
    "def is_palindrome(s):\n",
    "    # YOUR CODE HERE\n",
    "    pass"
   ]
  },
  {
   "cell_type": "code",
   "execution_count": 7,
   "id": "0d03b4f6-1f8a-4576-811f-9a7256a0eb4d",
   "metadata": {},
   "outputs": [],
   "source": [
    "# test\n",
    "assert is_palindrome(\"RaceCar\") == True\n",
    "\n",
    "assert is_palindrome(\"never odd or even\") == True\n",
    "\n",
    "assert is_palindrome(\"Hello\") == False"
   ]
  },
  {
   "cell_type": "code",
   "execution_count": null,
   "id": "6063341d-3bb3-4ced-b585-5bad5bb213c4",
   "metadata": {},
   "outputs": [],
   "source": [
    "\n",
    "def is_palindrome(s):\n",
    "    l =[]\n",
    "    lr = []\n",
    "    for i in range(len(s)):\n",
    "        l.append(s[i])\n",
    "    for i in range(len(s)-1, -1, -1):\n",
    "        lr.append(s[i])\n",
    "        \n",
    "    r1 = \"\".join(l)\n",
    "    r2 = \"\".join(lr)\n",
    "\n",
    "    if r1.lower().replace(\" \",\"\") == r2.lower().replace(\" \",\"\"):\n",
    "        return True\n",
    "    else:\n",
    "        return False\n"
   ]
  },
  {
   "cell_type": "code",
   "execution_count": 6,
   "id": "23386eda-f01d-49d1-8087-45270880d7fd",
   "metadata": {},
   "outputs": [],
   "source": [
    "def is_palindrome(s):\n",
    "    # remove spaces and change all letters to lowercase.\n",
    "    c = \"\".join(ch.lower() for ch in s if ch.isalnum())\n",
    "    \n",
    "    return c == c[::-1]"
   ]
  },
  {
   "cell_type": "markdown",
   "id": "adee8090-0a3f-499f-9e3d-86923496af06",
   "metadata": {},
   "source": [
    "## Question 6 \n",
    "Define a function `snake_matrix(n)` that generates and **print directly** an n × n 2D list (matrix), filled with numbers from 1 to n×n in a snake-like order.  \n",
    "Neatly prints the matrix so that numbers are right-aligned and all columns are visually aligned is **optional**.   \n",
    "\n",
    "The first line is a sequence from left to right. Please see the following examples.\n",
    "  \n",
    "For `n = 4`, the printed matrix should look like:\n",
    "```\n",
    " 1  2  3  4\n",
    " 8  7  6  5\n",
    " 9 10 11 12\n",
    "16 15 14 13\n",
    "```\n",
    "For `n = 8`, the printed matrix should look like:\n",
    "```\n",
    " 1  2  3  4  5  6  7  8\n",
    "16 15 14 13 12 11 10  9\n",
    "17 18 19 20 21 22 23 24\n",
    "32 31 30 29 28 27 26 25\n",
    "33 34 35 36 37 38 39 40\n",
    "48 47 46 45 44 43 42 41\n",
    "49 50 51 52 53 54 55 56\n",
    "64 63 62 61 60 59 58 57\n",
    "```"
   ]
  },
  {
   "cell_type": "code",
   "execution_count": 12,
   "id": "b5db7d02-47fe-4f3a-81aa-e39ff255223a",
   "metadata": {},
   "outputs": [
    {
     "name": "stdout",
     "output_type": "stream",
     "text": [
      " 1  2  3  4\n",
      " 8  7  6  5\n",
      " 9 10 11 12\n",
      "16 15 14 13\n"
     ]
    }
   ],
   "source": []
  },
  {
   "cell_type": "code",
   "execution_count": 8,
   "id": "f58e107f-d526-4590-83b3-900d6a162466",
   "metadata": {},
   "outputs": [],
   "source": [
    "def snake_matrix(n):\n",
    "    # YOUR CODE HERE\n",
    "    pass"
   ]
  },
  {
   "cell_type": "code",
   "execution_count": 14,
   "id": "82641c54-a12e-415b-acbf-70d2057b69ed",
   "metadata": {},
   "outputs": [
    {
     "name": "stdout",
     "output_type": "stream",
     "text": [
      "n = 4\n",
      " 1  2  3  4\n",
      " 8  7  6  5\n",
      " 9 10 11 12\n",
      "16 15 14 13\n",
      "\n",
      "n = 8\n",
      " 1  2  3  4  5  6  7  8\n",
      "16 15 14 13 12 11 10  9\n",
      "17 18 19 20 21 22 23 24\n",
      "32 31 30 29 28 27 26 25\n",
      "33 34 35 36 37 38 39 40\n",
      "48 47 46 45 44 43 42 41\n",
      "49 50 51 52 53 54 55 56\n",
      "64 63 62 61 60 59 58 57\n",
      "None\n"
     ]
    }
   ],
   "source": [
    "# test\n",
    "print(\"n = 4\")\n",
    "snake_matrix(4)\n",
    "\n",
    "print()\n",
    "\n",
    "print(\"n = 8\")\n",
    "snake_matrix(8)"
   ]
  },
  {
   "cell_type": "code",
   "execution_count": 13,
   "id": "73c81a67-c977-4642-9874-03188b88d686",
   "metadata": {},
   "outputs": [
    {
     "name": "stdout",
     "output_type": "stream",
     "text": [
      " 1  2  3  4\n",
      " 8  7  6  5\n",
      " 9 10 11 12\n",
      "16 15 14 13\n"
     ]
    }
   ],
   "source": []
  },
  {
   "cell_type": "code",
   "execution_count": null,
   "id": "75196869-4311-4c5e-98b0-db9f2713b5bc",
   "metadata": {},
   "outputs": [],
   "source": []
  }
 ],
 "metadata": {
  "kernelspec": {
   "display_name": "Python 3 (ipykernel)",
   "language": "python",
   "name": "python3"
  },
  "language_info": {
   "codemirror_mode": {
    "name": "ipython",
    "version": 3
   },
   "file_extension": ".py",
   "mimetype": "text/x-python",
   "name": "python",
   "nbconvert_exporter": "python",
   "pygments_lexer": "ipython3",
   "version": "3.12.2"
  }
 },
 "nbformat": 4,
 "nbformat_minor": 5
}
