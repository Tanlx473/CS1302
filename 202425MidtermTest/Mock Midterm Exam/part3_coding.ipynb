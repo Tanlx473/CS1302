{
 "cells": [
  {
   "cell_type": "markdown",
   "id": "f1925f00-ac6d-4c12-9e3d-d49debfbd127",
   "metadata": {
    "editable": true,
    "slideshow": {
     "slide_type": ""
    },
    "tags": []
   },
   "source": [
    "### CS1302 Mock Midterm Exam (coding part)"
   ]
  },
  {
   "cell_type": "markdown",
   "id": "ce8b86c9-2f6b-4661-aeec-29ed2dce2e03",
   "metadata": {
    "editable": true,
    "slideshow": {
     "slide_type": ""
    },
    "tags": []
   },
   "source": [
    "**Please provide your best solution for each programming question below. Before the end of the exam, you need to download this notebook and upload it to Canvas-->CS1302-->Mock Midterm Exam.**\n",
    "\n",
    "**Note:**\n",
    "\n",
    "**- Be careful about your output, even if there is a tiny error (for example, your output misses a comma or space), your code will not pass the test. If your code and/or logic are partially correct, you can still get a portion of the scores.**\n",
    "\n",
    "**- The testing code is unmodifiable and do not modify anything in this notebook except typing your code in the answer area. Otherwise, you will get a 0 mark for the questions modified. If you want to do more test, copy your code to another notebook.**\n",
    "\n",
    "**- The testing code will help you understand how we test your solution. After running the test cell, it prints either `Your code is wrong!` or `Your code is correct!`. Debug the code by yourself if your code is wrong.**\n",
    "\n",
    "**- After running testing cells, if it doesn't print anything, you need to go to Kernel-->Resetart Kernal and clear outputs of all cells. Then re-run your code again.**"
   ]
  },
  {
   "cell_type": "markdown",
   "id": "00eee0ed-b419-4098-ac79-0c923a2b0d55",
   "metadata": {
    "editable": false,
    "slideshow": {
     "slide_type": ""
    },
    "tags": []
   },
   "source": [
    "### Question 1 （4 marks）:\n",
    "\n",
    "The given program below outputs the squares of 10 down to 0, using a while-loop. The output is: 100 81 64 49 36 25 16 9 4 1 0\n",
    "\n",
    "Your task: Rewrite it using a for-loop\n",
    "\n",
    "```\n",
    "# Given program:\n",
    "i = 10\n",
    "while i>=0:\n",
    "    print(i*i, end=\" \")\n",
    "    i = i-1\n",
    "```"
   ]
  },
  {
   "cell_type": "code",
   "execution_count": null,
   "id": "3df22ccf-e0cc-484a-a812-1e61a9dc3d93",
   "metadata": {
    "editable": true,
    "slideshow": {
     "slide_type": ""
    },
    "tags": []
   },
   "outputs": [],
   "source": [
    "#complete the template below\n",
    "def answer_Question1():\n",
    "    #your code here\n",
    "    pass"
   ]
  },
  {
   "cell_type": "markdown",
   "id": "b95041db-54f8-43ef-9bc8-9e2919324af8",
   "metadata": {},
   "source": [
    "Run this test cell right after running your answer to question 1"
   ]
  },
  {
   "cell_type": "code",
   "execution_count": null,
   "id": "e81a7c55-87fb-4411-801e-532b6be68026",
   "metadata": {
    "editable": false,
    "slideshow": {
     "slide_type": ""
    },
    "tags": []
   },
   "outputs": [],
   "source": [
    "#testing cell\n",
    "import io\n",
    "import sys\n",
    "\n",
    "old_stdout, sys.stdout = sys.stdout, io.StringIO()\n",
    "answer_Question1()\n",
    "printed = sys.stdout.getvalue()\n",
    "sys.stdout = old_stdout\n",
    "if printed == \"100 81 64 49 36 25 16 9 4 1 0 \":\n",
    "    print(\"Your code is correct!\")\n",
    "else:\n",
    "    print(\"Your code is wrong!\")"
   ]
  },
  {
   "cell_type": "markdown",
   "id": "f8cb6ad0-c7f3-4d91-af4a-9e2baf644553",
   "metadata": {
    "editable": false,
    "slideshow": {
     "slide_type": ""
    },
    "tags": []
   },
   "source": [
    "### Question 2 （4 marks）:\n",
    "\n",
    "The function `f2()` below has one input parameter `s` and outputs the characters in `s` one by one (each followed by \", \"). It also shows the total count of characters. For example, if the user calls function `f2('cs1302')`, the program output is: c, s, 1, 3, 0, 2, total 6 characters\n",
    "\n",
    "Your task: Rewrite the program using a while-loop. \n",
    "\n",
    "Note: no for-loop is allowed, otherwise you will get 0 mark.\n",
    "\n",
    "```\n",
    "#Given program:\n",
    "def f2(s):\n",
    "    count = 0\n",
    "    for c in s:\n",
    "        print(c, end=\", \")\n",
    "        count += 1\n",
    "    result = \"total\" + str(count) + \"characters\"\n",
    "    return result\n",
    "```"
   ]
  },
  {
   "cell_type": "code",
   "execution_count": null,
   "id": "797fcb89-afd6-41c5-a55e-eefe62e59d00",
   "metadata": {
    "editable": true,
    "slideshow": {
     "slide_type": ""
    },
    "tags": []
   },
   "outputs": [],
   "source": [
    "#complete the template below\n",
    "def answer_Question2(s):\n",
    "    #your code here\n",
    "    pass"
   ]
  },
  {
   "cell_type": "markdown",
   "id": "76b48aab-7b47-4ced-abf6-35ff50da90fa",
   "metadata": {},
   "source": [
    "Run this test cell right after running your answer to question 2"
   ]
  },
  {
   "cell_type": "code",
   "execution_count": null,
   "id": "dcc55d5c-138c-43a7-8fd8-8518172bb034",
   "metadata": {
    "editable": false,
    "slideshow": {
     "slide_type": ""
    },
    "tags": []
   },
   "outputs": [],
   "source": [
    "#testing cell\n",
    "def f2(s):\n",
    "    count = 0\n",
    "    result = ''\n",
    "    for c in s:\n",
    "        result =  result + c + \", \"\n",
    "        count += 1\n",
    "    result = result+ \"total\" + str(count) + \"characters\"\n",
    "    return result\n",
    "\n",
    "l=['cs1302','hello, world', 'hello', '123abc']\n",
    "\n",
    "for s in l:\n",
    "    result1=f2(s)\n",
    "    result2=answer_Question2(s)\n",
    "    if result1 != result2:\n",
    "        print(\"Your code is wrong!\")\n",
    "        break\n",
    "else:\n",
    "    print(\"Your code is correct!\")"
   ]
  },
  {
   "cell_type": "markdown",
   "id": "4dae0caa-34fd-4c39-9385-e796fd8e23a1",
   "metadata": {
    "editable": false,
    "slideshow": {
     "slide_type": ""
    },
    "tags": []
   },
   "source": [
    "### Question 3 （7 marks）:\n",
    "\n",
    "Define a function `pow1000()` that\n",
    "\n",
    "• takes an integer argument x (you may assume that x is 2 or above)\n",
    "\n",
    "• finds out the smallest power for x which gives a result which is at least 1000\n",
    "\n",
    "• returns the power and the result, as shown in the test cases below.\n",
    "\n",
    "• NOTE: you are not allowed to use any log function (or any function that takes log of some numbers), otherwise you will get 0 mark.\n",
    "\n",
    "For example:\n",
    "```\n",
    "            [Testing]                    [Result (the output on the screen)]     \n",
    "        print(pow1000(2))                   2**10 >= 1000 but 2**9 < 1000          \n",
    "        print(pow1000(3))                   3**7 >= 1000 but 3**6 < 1000    \n",
    "        print(pow1000(10))                  10**3 >= 1000 but 10**2 < 1000\n",
    "```\n",
    "\n",
    "Note: \n",
    "- In the output result, there's no additional space after 1000.\n",
    "- Be careful, running `print(power1000(2))` will produce the required result, but running `power1000(2)` doesn't give the correct output. In other words, you should use `return` instead of `print` in your solution."
   ]
  },
  {
   "cell_type": "code",
   "execution_count": null,
   "id": "c47b662e-8d1a-42a5-8e55-c0fb98994330",
   "metadata": {
    "editable": true,
    "slideshow": {
     "slide_type": ""
    },
    "tags": []
   },
   "outputs": [],
   "source": [
    "#complete the template below\n",
    "def pow1000(x):\n",
    "    #your code here\n",
    "    pass"
   ]
  },
  {
   "cell_type": "markdown",
   "id": "1b14e701-00d6-4ee8-855a-453b6a1c0fa8",
   "metadata": {},
   "source": [
    "Run this test cell right after running your answer to question 3"
   ]
  },
  {
   "cell_type": "code",
   "execution_count": null,
   "id": "cb305da4-5cc4-4605-a9a4-6a35a8e5d271",
   "metadata": {
    "editable": false,
    "slideshow": {
     "slide_type": ""
    },
    "tags": []
   },
   "outputs": [],
   "source": [
    "#testing cell\n",
    "test = [2,4,6,12]\n",
    "correct_result = [\"2**10 >= 1000 but 2**9 < 1000\", \"4**5 >= 1000 but 4**4 < 1000\", \"6**4 >= 1000 but 6**3 < 1000\", \"12**3 >= 1000 but 12**2 < 1000\"]\n",
    "\n",
    "for i in 0,1,2,3:\n",
    "    if pow1000(test[i]) != correct_result[i]:\n",
    "        print(\"Your code is wrong!\")\n",
    "        break\n",
    "else:\n",
    "    print(\"Your code is correct!\")"
   ]
  },
  {
   "cell_type": "markdown",
   "id": "d33341e8-4778-4e33-bb79-140943aeba67",
   "metadata": {
    "editable": false,
    "slideshow": {
     "slide_type": ""
    },
    "tags": []
   },
   "source": [
    "### Question 4 （7 marks）:\n",
    "\n",
    "Define a function `pattern()` that\n",
    "\n",
    "• takes an integer argument `d`\n",
    "\n",
    "• outputs a square pattern of `d` rows x `d` columns as shown in the test cases below: the positions in the diagonal and counter diagonal of the pattern should contain the `x` letter, the remaining should contain the `.` character.\n",
    "\n",
    "\n",
    "For example:\n",
    "\n",
    "```\n",
    "        [Testing]                    [Result (the output on the screen)]     \n",
    "        pattern(5)                      x...x\n",
    "                                        .x.x.\n",
    "                                        ..x..\n",
    "                                        .x.x.\n",
    "                                        x...x          \n",
    "        pattern(8)                      x......x\n",
    "                                        .x....x.\n",
    "                                        ..x..x..\n",
    "                                        ...xx...\n",
    "                                        ...xx...\n",
    "                                        ..x..x..\n",
    "                                        .x....x.\n",
    "                                        x......x\n",
    "```\n",
    "\n",
    "Note: \n",
    "- Different from Question 3, running `pattern(5)` will produce the required result, but running `print(pattern(5))` doesn't give the correct output. In other words, you should use `print` instead of `return` in your solution. Such hints will not appear in the real exam."
   ]
  },
  {
   "cell_type": "code",
   "execution_count": null,
   "id": "0bd45556-9b75-4e40-be7b-239b7b2d3b52",
   "metadata": {
    "editable": true,
    "slideshow": {
     "slide_type": ""
    },
    "tags": []
   },
   "outputs": [],
   "source": [
    "#complete the template below\n",
    "def pattern(d):\n",
    "    #your code here\n",
    "    pass"
   ]
  },
  {
   "cell_type": "markdown",
   "id": "deb3cecb-95c2-42a6-a4c5-6b83b3feb69a",
   "metadata": {},
   "source": [
    "Run this test cell right after running your answer to question 4"
   ]
  },
  {
   "cell_type": "code",
   "execution_count": null,
   "id": "35eb6538-e5be-4801-9ba6-6aee2f194fcf",
   "metadata": {
    "editable": false,
    "slideshow": {
     "slide_type": ""
    },
    "tags": []
   },
   "outputs": [],
   "source": [
    "# testing cell\n",
    "result_5 = '''x...x\n",
    ".x.x.\n",
    "..x..\n",
    ".x.x.\n",
    "x...x\n",
    "'''\n",
    "\n",
    "result_7 = '''x.....x\n",
    ".x...x.\n",
    "..x.x..\n",
    "...x...\n",
    "..x.x..\n",
    ".x...x.\n",
    "x.....x\n",
    "'''\n",
    "\n",
    "result_14 = '''x............x\n",
    ".x..........x.\n",
    "..x........x..\n",
    "...x......x...\n",
    "....x....x....\n",
    ".....x..x.....\n",
    "......xx......\n",
    "......xx......\n",
    ".....x..x.....\n",
    "....x....x....\n",
    "...x......x...\n",
    "..x........x..\n",
    ".x..........x.\n",
    "x............x\n",
    "'''\n",
    "\n",
    "test = [5 , 7 , 14]\n",
    "correct_result = [result_5, result_7, result_14]\n",
    "\n",
    "import io\n",
    "import sys\n",
    "\n",
    "for i in 0,1,2:\n",
    "    old_stdout, sys.stdout = sys.stdout, io.StringIO()\n",
    "    pattern(test[i])\n",
    "    printed = sys.stdout.getvalue()\n",
    "    sys.stdout = old_stdout\n",
    "    if printed != correct_result[i]:\n",
    "        print(\"Your code is wrong!\")\n",
    "        break\n",
    "else:\n",
    "    print(\"Your code is correct!\")"
   ]
  },
  {
   "cell_type": "markdown",
   "id": "2908aace-8de8-4355-8d18-c3dd25a17509",
   "metadata": {
    "editable": true,
    "slideshow": {
     "slide_type": ""
    },
    "tags": []
   },
   "source": [
    "**--End--**"
   ]
  },
  {
   "cell_type": "code",
   "execution_count": null,
   "id": "dd70ffa6-0adf-4c2c-ac5a-e7d15a033482",
   "metadata": {
    "editable": true,
    "slideshow": {
     "slide_type": ""
    },
    "tags": []
   },
   "outputs": [],
   "source": []
  }
 ],
 "metadata": {
  "kernelspec": {
   "display_name": "Python 3 (ipykernel)",
   "language": "python",
   "name": "python3"
  },
  "language_info": {
   "codemirror_mode": {
    "name": "ipython",
    "version": 3
   },
   "file_extension": ".py",
   "mimetype": "text/x-python",
   "name": "python",
   "nbconvert_exporter": "python",
   "pygments_lexer": "ipython3",
   "version": "3.11.1"
  },
  "scenes_data": {
   "active_scene": "Default Scene",
   "init_scene": "",
   "scenes": [
    "Default Scene"
   ]
  }
 },
 "nbformat": 4,
 "nbformat_minor": 5
}
