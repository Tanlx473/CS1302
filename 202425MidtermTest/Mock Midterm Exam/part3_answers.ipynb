{
 "cells": [
  {
   "cell_type": "code",
   "execution_count": null,
   "id": "94a0f879-2ef2-4038-9107-e867ae3aa745",
   "metadata": {
    "editable": true,
    "slideshow": {
     "slide_type": ""
    },
    "tags": []
   },
   "outputs": [],
   "source": [
    "#Question 1 solution\n",
    "def answer_Question1():\n",
    "    for i in range(10,-1,-1):\n",
    "        print(i*i, end=\" \")"
   ]
  },
  {
   "cell_type": "code",
   "execution_count": null,
   "id": "fd7a6e16-74d9-481a-8817-52cf9b30732d",
   "metadata": {
    "editable": true,
    "slideshow": {
     "slide_type": ""
    },
    "tags": []
   },
   "outputs": [],
   "source": [
    "#Question 2 solution\n",
    "def answer_Question2(s):\n",
    "    i = 0\n",
    "    result = ''\n",
    "    while i < len(s):\n",
    "        result = result + s[i] + \", \"\n",
    "        i += 1\n",
    "    result = result + \"total\" + str(len(s)) + \"characters\"\n",
    "    return result"
   ]
  },
  {
   "cell_type": "code",
   "execution_count": null,
   "id": "06a02be6-e99b-4232-93c8-9675106438ff",
   "metadata": {
    "editable": true,
    "slideshow": {
     "slide_type": ""
    },
    "tags": []
   },
   "outputs": [],
   "source": [
    "#Question 3 solution\n",
    "def pow1000(x):\n",
    "    i = 1\n",
    "    while x**i<1000:\n",
    "        i = i+1\n",
    "    result = \"{}**{} >= 1000 but {}**{} < 1000\".format(x,i,x,i-1)\n",
    "    return result"
   ]
  },
  {
   "cell_type": "code",
   "execution_count": 1,
   "id": "5920978f-d721-4247-8652-afa6ced2347b",
   "metadata": {
    "editable": true,
    "slideshow": {
     "slide_type": ""
    }
   },
   "outputs": [],
   "source": [
    "#Question 4 solution\n",
    "def pattern(d):\n",
    "    for row in range(d):\n",
    "        for col in range(d):\n",
    "            if row==col or d-row-1==col:\n",
    "                print(\"x\",end=\"\")\n",
    "            else:\n",
    "                print(\".\",end=\"\")\n",
    "        print()"
   ]
  },
  {
   "cell_type": "code",
   "execution_count": null,
   "id": "513458ed-84b7-4a41-865b-b4aa7452e436",
   "metadata": {},
   "outputs": [],
   "source": []
  }
 ],
 "metadata": {
  "kernelspec": {
   "display_name": "Python 3 (ipykernel)",
   "language": "python",
   "name": "python3"
  },
  "language_info": {
   "codemirror_mode": {
    "name": "ipython",
    "version": 3
   },
   "file_extension": ".py",
   "mimetype": "text/x-python",
   "name": "python",
   "nbconvert_exporter": "python",
   "pygments_lexer": "ipython3",
   "version": "3.11.1"
  },
  "scenes_data": {
   "active_scene": "Default Scene",
   "init_scene": "",
   "scenes": [
    "Default Scene"
   ]
  }
 },
 "nbformat": 4,
 "nbformat_minor": 5
}
