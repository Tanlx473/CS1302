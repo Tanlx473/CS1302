{
 "cells": [
  {
   "cell_type": "markdown",
   "id": "f1925f00-ac6d-4c12-9e3d-d49debfbd127",
   "metadata": {
    "editable": true,
    "slideshow": {
     "slide_type": ""
    },
    "tags": []
   },
   "source": [
    "### CS1302 Midterm Exam (coding part, total mark: 25)"
   ]
  },
  {
   "cell_type": "markdown",
   "id": "ce8b86c9-2f6b-4661-aeec-29ed2dce2e03",
   "metadata": {
    "editable": true,
    "slideshow": {
     "slide_type": ""
    },
    "tags": []
   },
   "source": [
    "**Please provide your best solution for each programming question below. Before the end of the exam, you need to upload it to Canvas-->CS1302-->Midterm Exam.**\n",
    "\n",
    "**Note:**\n",
    "\n",
    "**- Be careful about your output, even if there is a tiny error (for example, your output misses a comma or space), your code will not pass the test. If your code and/or logic are partially correct, you can still get a portion of the scores.**\n",
    "\n",
    "**- Do not modify anything in this notebook except typing your code in the answer area. Otherwise, you will get a 0 mark for the questions modified. If you want to do more tests, copy your code to another notebook.**\n",
    "\n",
    "**- Delete `pass` before you write your code and make sure you save and submit the correct version of your file. Wrong or corrupted files will result in 0 mark.**\n",
    "\n",
    "**- After running testing cells, if it doesn't print anything, you need to go to Kernel-->Resetart Kernal and clear outputs of all cells. Then re-run your code again.**"
   ]
  },
  {
   "cell_type": "markdown",
   "id": "44329563-ad2b-4052-b8f0-69760643e635",
   "metadata": {
    "editable": false,
    "slideshow": {
     "slide_type": ""
    },
    "tags": []
   },
   "source": [
    "### Question 1 （3 marks）:\n",
    "\n",
    "Complete the function `say_helloFramed()` below to print the following output which contains `Hello, World!` inside a frame. \n",
    "\n",
    "- Note that the total length of each line is 17.\n",
    "- In your code, you can only use one `print()` function! If your code prints the correct output but uses more than one `print()` function, you will get 1 mark only!\n",
    "- There is no testing code for this question.\n",
    "\n",
    "```\n",
    "/---------------\\\n",
    "|               |\n",
    "| Hello, World! |\n",
    "|               |\n",
    "\\---------------/\n",
    "```"
   ]
  },
  {
   "cell_type": "code",
   "execution_count": null,
   "id": "d54761f9-1de7-4800-a150-6105d2bd5c4f",
   "metadata": {
    "editable": true,
    "slideshow": {
     "slide_type": ""
    },
    "tags": []
   },
   "outputs": [],
   "source": [
    "#complete the template below\n",
    "def say_helloFramed():\n",
    "    # YOUR CODE HERE\n",
    "    print('''/---------------\\\\\\n|               |\\n| Hello, World! |\\n|               |\\n\\\\---------------/''')\n",
    "\n",
    "say_helloFramed() #call this function to print the required output"
   ]
  },
  {
   "cell_type": "markdown",
   "id": "00eee0ed-b419-4098-ac79-0c923a2b0d55",
   "metadata": {
    "editable": true,
    "slideshow": {
     "slide_type": ""
    },
    "tags": []
   },
   "source": [
    "### Question 2 （3 marks）:\n",
    "\n",
    "Complete the following function `count_prime_nums(x,y)` that count the number of prime numbers between `x` and `y` (including both `x` and `y`), and return the result as a string: \"There are ** prime numbers between x and y\", where ** is the number of prime numbers, and `x` `y` should be replaced by the value of input parameter `x` and `y`.\n",
    "\n",
    "For example:\n",
    "```\n",
    "            [Testing]                                  [Result (the output on the screen)]     \n",
    "        print(count_prime_nums(1, 10))               There are 4 prime numbers between 1 and 10          \n",
    "        print(count_prime_nums(10, 100))             There are 21 prime numbers between 10 and 100\n",
    "```"
   ]
  },
  {
   "cell_type": "code",
   "execution_count": null,
   "id": "3df22ccf-e0cc-484a-a812-1e61a9dc3d93",
   "metadata": {
    "editable": true,
    "slideshow": {
     "slide_type": ""
    },
    "tags": []
   },
   "outputs": [],
   "source": [
    "#complete the template below\n",
    "def count_prime_nums(x,y):\n",
    "    count=0\n",
    "    for i in range(x,y):\n",
    "        if is_prime(i):\n",
    "            count+=1\n",
    "    s=\"There are \"+str(count)+\" prime numbers between \"+str(x)+ \" and \"+str(y)\n",
    "    return s\n",
    "\n",
    "def is_prime(num):\n",
    "    if num<2:\n",
    "        return False\n",
    "    elif num==2:\n",
    "        return True\n",
    "    else:\n",
    "        for i in range(2,num):\n",
    "            if num%i ==0:\n",
    "                return False\n",
    "        return True"
   ]
  },
  {
   "cell_type": "markdown",
   "id": "b95041db-54f8-43ef-9bc8-9e2919324af8",
   "metadata": {
    "editable": true,
    "slideshow": {
     "slide_type": ""
    },
    "tags": []
   },
   "source": [
    "Run this test cell right after running your answer to question 1"
   ]
  },
  {
   "cell_type": "code",
   "execution_count": null,
   "id": "e81a7c55-87fb-4411-801e-532b6be68026",
   "metadata": {
    "editable": true,
    "slideshow": {
     "slide_type": ""
    },
    "tags": []
   },
   "outputs": [],
   "source": [
    "#testing cell\n",
    "x=[1,10,2]\n",
    "y=[10,100,1000]\n",
    "s1=\"There are 4 prime numbers between 1 and 10\"\n",
    "s2=\"There are 21 prime numbers between 10 and 100\"\n",
    "s3=\"There are 168 prime numbers between 2 and 1000\"\n",
    "correct_result=[s1,s2,s3]\n",
    "\n",
    "for i in 0,1,2:\n",
    "    result=count_prime_nums(x[i],y[i])\n",
    "    if result != correct_result[i]:\n",
    "        print(\"Your code is wrong!\")\n",
    "        break\n",
    "else:\n",
    "    print(\"Your code is correct!\")"
   ]
  },
  {
   "cell_type": "markdown",
   "id": "8f8bf840-6170-4eec-81f2-2b970eae8347",
   "metadata": {
    "editable": true,
    "slideshow": {
     "slide_type": ""
    },
    "tags": []
   },
   "source": [
    "### Question 3 （4 marks）:\n",
    "\n",
    "Two numbers have the same square root if the gap between their square roots is within an absolute tolerance. Define a function `same_sqrt(a,b)` that\n",
    "\n",
    "•\ttakes two positive float values `a` and `b`, and\n",
    "\n",
    "•\treturns the bool value `True` if the square roots of `a` and `b` are approximately equal (within an absolute tolerance of 0.001), otherwise returns the bool value `False`.\n",
    "\n",
    "\n",
    "For example:\n",
    "```\n",
    "            [Testing]                        [Result (the output on the screen)]     \n",
    "        print(same_sqrt(16, 16.0001))               True          \n",
    "        print(same_sqrt(16, 15.9))                  False    \n",
    "        print(same_sqrt(9, 9.001))                  True\n",
    "```\n",
    "\n",
    "Note: \n",
    "- use `math.sqrt()` to calculate the squared root.\n",
    "- use `math.isclose(a,b,abs_tol)` to check the equality of `a` and `b` within an absolute tolerance `abs_tol` .\n",
    "- Be careful, running `print(same_sqrt(16, 16.0001))` will produce the required result, but running `same_sqrt(16,16.0001)` doesn't give the correct output. In other words, you should use `return` instead of `print` in your solution."
   ]
  },
  {
   "cell_type": "code",
   "execution_count": null,
   "id": "797fcb89-afd6-41c5-a55e-eefe62e59d00",
   "metadata": {
    "editable": true,
    "slideshow": {
     "slide_type": ""
    },
    "tags": []
   },
   "outputs": [],
   "source": [
    "#complete the template below\n",
    "import math \n",
    "def same_sqrt(a, b): \n",
    "\tsqrt_a = math.sqrt(a) \n",
    "\tsqrt_b = math.sqrt(b) \n",
    "\treturn math.isclose(sqrt_a, sqrt_b, abs_tol=0.001)"
   ]
  },
  {
   "cell_type": "markdown",
   "id": "76b48aab-7b47-4ced-abf6-35ff50da90fa",
   "metadata": {
    "editable": true,
    "slideshow": {
     "slide_type": ""
    },
    "tags": []
   },
   "source": [
    "Run this test cell right after running your answer to question 2"
   ]
  },
  {
   "cell_type": "code",
   "execution_count": null,
   "id": "dcc55d5c-138c-43a7-8fd8-8518172bb034",
   "metadata": {
    "editable": false,
    "slideshow": {
     "slide_type": ""
    },
    "tags": []
   },
   "outputs": [],
   "source": [
    "#testing cell\n",
    "l=[16,16,9,10]\n",
    "p=[16.0001,15.9,9.001,10.02]\n",
    "correct_result=[True, False, True, False]\n",
    "\n",
    "for i in 0,1,2,3:\n",
    "    result=same_sqrt(l[i],p[i])\n",
    "    if result != correct_result[i]:\n",
    "        print(\"Your code is wrong!\")\n",
    "        break\n",
    "else:\n",
    "    print(\"Your code is correct!\")"
   ]
  },
  {
   "cell_type": "markdown",
   "id": "f8f20eef-c485-4c83-8328-c0942074f95e",
   "metadata": {
    "editable": true,
    "slideshow": {
     "slide_type": ""
    },
    "tags": []
   },
   "source": [
    "### Question 4 （5 marks）:\n",
    "\n",
    "Define a function `draw_hourglass(n)` that \n",
    "\n",
    "•\ttakes a positive number `n` and \n",
    "\n",
    "•\treturns an hourglass pattern using asterisk (*) and space. The hourglass consists of two triangles: one pointing downwards and the other pointing upwards. The width of the hourglass at its widest point should be 2n - 1. The height of the hourglass should be 2n - 1.\n",
    "\n",
    "\n",
    "For example:\n",
    "\n",
    "Running `print(draw_hourglass(1))`, you will get\n",
    "```\n",
    "*\n",
    "```\n",
    "Running `print(draw_hourglass(3))`, you will get\n",
    "\n",
    "```       \n",
    "*****\n",
    " ***\n",
    "  *\n",
    " ***\n",
    "*****    \n",
    "```\n",
    "\n",
    "Running `print(draw_hourglass(4))`, you will get\n",
    "\n",
    "```\n",
    "*******\n",
    " *****\n",
    "  ***\n",
    "   *\n",
    "  ***\n",
    " *****\n",
    "*******\n",
    "```"
   ]
  },
  {
   "cell_type": "code",
   "execution_count": 5,
   "id": "c47b662e-8d1a-42a5-8e55-c0fb98994330",
   "metadata": {
    "editable": true,
    "slideshow": {
     "slide_type": ""
    },
    "tags": []
   },
   "outputs": [
    {
     "name": "stdout",
     "output_type": "stream",
     "text": [
      "*******\n",
      " *****\n",
      "  ***\n",
      "   *\n",
      "  ***\n",
      " *****\n",
      "*******\n",
      "\n"
     ]
    }
   ],
   "source": [
    "#complete the template below\n",
    "def draw_hourglass(n):\n",
    "    s=''\n",
    "    for i in range(n, 0, -1):\n",
    "        s=s+\" \" * (n - i) + \"*\" * (2*i - 1)+'\\n'\n",
    "    for i in range(2, n+1):\n",
    "        s=s+\" \" * (n - i) + \"*\" * (2*i - 1)+'\\n'\n",
    "    return s"
   ]
  },
  {
   "cell_type": "markdown",
   "id": "1b14e701-00d6-4ee8-855a-453b6a1c0fa8",
   "metadata": {
    "editable": true,
    "slideshow": {
     "slide_type": ""
    },
    "tags": []
   },
   "source": [
    "Run this test cell right after running your answer to question 3"
   ]
  },
  {
   "cell_type": "code",
   "execution_count": 6,
   "id": "cb305da4-5cc4-4605-a9a4-6a35a8e5d271",
   "metadata": {
    "editable": true,
    "slideshow": {
     "slide_type": ""
    },
    "tags": []
   },
   "outputs": [
    {
     "name": "stdout",
     "output_type": "stream",
     "text": [
      "Your code is correct!\n"
     ]
    }
   ],
   "source": [
    "# testing cell\n",
    "result_1 = '''*\n",
    "'''\n",
    "\n",
    "result_3 = '''*****\n",
    " ***\n",
    "  *\n",
    " ***\n",
    "*****\n",
    "'''\n",
    "\n",
    "result_5 = '''*********\n",
    " *******\n",
    "  *****\n",
    "   ***\n",
    "    *\n",
    "   ***\n",
    "  *****\n",
    " *******\n",
    "*********\n",
    "'''\n",
    "\n",
    "\n",
    "test = [1 , 3 , 5]\n",
    "correct_result = [result_1, result_3, result_5]\n",
    "\n",
    "for i in 0,1,2:\n",
    "    result=draw_hourglass(test[i])\n",
    "    if result != correct_result[i]:\n",
    "        print(\"Your code is wrong!\")\n",
    "        break\n",
    "else:\n",
    "    print(\"Your code is correct!\")"
   ]
  },
  {
   "cell_type": "markdown",
   "id": "5c6406f7-39dd-456c-8e96-b43ab93ff310",
   "metadata": {
    "editable": true,
    "slideshow": {
     "slide_type": ""
    },
    "tags": []
   },
   "source": [
    "### Question 5 （5 marks）:\n",
    "\n",
    "Define a function `is_perfect(n)` that\n",
    "\n",
    "•\ttakes a positive integer argument `n` and\n",
    "\n",
    "•\tchecks if `n` is a perfect number and\n",
    "\n",
    "•\treturn bool value `True` if `n` is a perfect number. Otherwise, return bool value `False`.\n",
    "\n",
    "A perfect number is a positive integer that is equal to the sum of its proper divisors (excluding itself).\n",
    "For example: 6 is a perfect number because 6 = 1+2+3, where 1, 2, and 3 are the divisors of 6. 10 is not a perfect number because 10 != 1+2+5.\n",
    "\n",
    "\n",
    "\n",
    "For example:\n",
    "\n",
    "```\n",
    "          [Testing]                    [Result (the output on the screen)]     \n",
    "        print(is_perfect(1))                         False\n",
    "        print(is_perfect(6))                         True\n",
    "        print(is_perfect(10))                        False\n",
    "```"
   ]
  },
  {
   "cell_type": "code",
   "execution_count": 7,
   "id": "0bd45556-9b75-4e40-be7b-239b7b2d3b52",
   "metadata": {
    "editable": true,
    "slideshow": {
     "slide_type": ""
    },
    "tags": []
   },
   "outputs": [],
   "source": [
    "#complete the template below\n",
    "def is_perfect(n):\n",
    "    if n < 2:\n",
    "        return False\n",
    "    total = 1\n",
    "    for i in range(2, n):\n",
    "        if n % i == 0:\n",
    "            total += i\n",
    "    return total == n"
   ]
  },
  {
   "cell_type": "markdown",
   "id": "deb3cecb-95c2-42a6-a4c5-6b83b3feb69a",
   "metadata": {
    "editable": true,
    "slideshow": {
     "slide_type": ""
    },
    "tags": []
   },
   "source": [
    "Run this test cell right after running your answer to question 4"
   ]
  },
  {
   "cell_type": "code",
   "execution_count": 8,
   "id": "76ef14f3-66d6-450f-a301-3ed6d94f64fb",
   "metadata": {
    "editable": true,
    "raw_mimetype": "",
    "slideshow": {
     "slide_type": ""
    },
    "tags": []
   },
   "outputs": [
    {
     "name": "stdout",
     "output_type": "stream",
     "text": [
      "Your code is correct!\n"
     ]
    }
   ],
   "source": [
    "#testing cell\n",
    "\n",
    "p=[1,6,10,28,300]\n",
    "correct_result=[False, True, False, True, False]\n",
    "\n",
    "for i in 0,1,2,3,4:\n",
    "    result=is_perfect(p[i])\n",
    "    if result != correct_result[i]:\n",
    "        print(\"Your code is wrong!\")\n",
    "        break\n",
    "else:\n",
    "    print(\"Your code is correct!\")"
   ]
  },
  {
   "cell_type": "markdown",
   "id": "f7f1a528-1b43-469c-bf14-81f6a4c7c0e9",
   "metadata": {
    "editable": true,
    "slideshow": {
     "slide_type": ""
    },
    "tags": []
   },
   "source": [
    "### Question 6 （5 marks）:\n",
    "\n",
    "Complete the function `find_repeat(s)` that finds and returns the first repeating character in a string `s`. If no character repeats, return \"No repeating characters.\"\n",
    "\n",
    "For example:\n",
    "\n",
    "```\n",
    "               [Testing]                      [Result (the output on the screen)]     \n",
    "        print(find_repeat('programmer'))        First repeating character: r.\n",
    "        print(find_repeat('abcabc'))            First repeating character: a.\n",
    "        print(find_repeat('CS1302'))                No repeating characters.\n",
    "```"
   ]
  },
  {
   "cell_type": "code",
   "execution_count": 9,
   "id": "e870a0aa-3ee1-4538-bb3d-35739f0f3684",
   "metadata": {
    "editable": true,
    "slideshow": {
     "slide_type": ""
    },
    "tags": []
   },
   "outputs": [],
   "source": [
    "#complete the template below\n",
    "def find_repeat(s):\n",
    "    found = False\n",
    "\n",
    "    for i in range(len(s)):\n",
    "        for j in range(i + 1, len(s)):\n",
    "            if s[i] == s[j]:\n",
    "                return f\"First repeating character: {s[i]}.\"\n",
    "                found = True\n",
    "                break\n",
    "        if found:\n",
    "            break\n",
    "    else:\n",
    "        return \"No repeating characters.\""
   ]
  },
  {
   "cell_type": "code",
   "execution_count": 10,
   "id": "889c6587-7289-430c-8abc-6821859b2a9c",
   "metadata": {
    "editable": false,
    "slideshow": {
     "slide_type": ""
    },
    "tags": []
   },
   "outputs": [
    {
     "name": "stdout",
     "output_type": "stream",
     "text": [
      "Your code is correct!\n"
     ]
    }
   ],
   "source": [
    "#testing cell\n",
    "\n",
    "p=['programmer','abcabc','hello','CS1302','-a*bc),-']\n",
    "correct_result=['First repeating character: r.', 'First repeating character: a.', 'First repeating character: l.','No repeating characters.', 'First repeating character: -.']\n",
    "\n",
    "for i in 0,1,2,3,4:\n",
    "    result=find_repeat(p[i])\n",
    "    if result != correct_result[i]:\n",
    "        print(\"Your code is wrong!\")\n",
    "        break\n",
    "else:\n",
    "    print(\"Your code is correct!\")"
   ]
  },
  {
   "cell_type": "markdown",
   "id": "5d795f92-c50f-4954-aa5f-670f8fad9474",
   "metadata": {
    "editable": true,
    "slideshow": {
     "slide_type": ""
    },
    "tags": []
   },
   "source": [
    "**--End--**"
   ]
  },
  {
   "cell_type": "code",
   "execution_count": null,
   "id": "e9f0a1dc-5f98-4544-a2aa-428d8a380cd1",
   "metadata": {
    "editable": true,
    "slideshow": {
     "slide_type": ""
    },
    "tags": []
   },
   "outputs": [],
   "source": []
  }
 ],
 "metadata": {
  "kernelspec": {
   "display_name": "Python 3 (ipykernel)",
   "language": "python",
   "name": "python3"
  },
  "language_info": {
   "codemirror_mode": {
    "name": "ipython",
    "version": 3
   },
   "file_extension": ".py",
   "mimetype": "text/x-python",
   "name": "python",
   "nbconvert_exporter": "python",
   "pygments_lexer": "ipython3",
   "version": "3.11.1"
  },
  "scenes_data": {
   "active_scene": "Default Scene",
   "init_scene": "",
   "scenes": [
    "Default Scene"
   ]
  }
 },
 "nbformat": 4,
 "nbformat_minor": 5
}
